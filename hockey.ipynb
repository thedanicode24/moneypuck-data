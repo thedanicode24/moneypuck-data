{
 "cells": [
  {
   "cell_type": "markdown",
   "metadata": {},
   "source": [
    "# MoneyPuck - Hockey data"
   ]
  },
  {
   "cell_type": "markdown",
   "id": "4c4be536",
   "metadata": {},
   "source": [
    "## Step 0: Import libraries"
   ]
  },
  {
   "cell_type": "code",
   "execution_count": 1,
   "id": "711210a5",
   "metadata": {},
   "outputs": [],
   "source": [
    "import pandas as pd\n",
    "import numpy as np\n",
    "import os"
   ]
  },
  {
   "cell_type": "code",
   "execution_count": 2,
   "id": "d216c287",
   "metadata": {},
   "outputs": [],
   "source": [
    "from utils import plot_utils, df_utils, thinkstats"
   ]
  },
  {
   "cell_type": "code",
   "execution_count": 3,
   "id": "91fe4b34",
   "metadata": {},
   "outputs": [],
   "source": [
    "outputs_dir = 'outputs'"
   ]
  },
  {
   "cell_type": "markdown",
   "id": "be3d9656",
   "metadata": {},
   "source": [
    "## Step 1: Import the dataset"
   ]
  },
  {
   "cell_type": "code",
   "execution_count": 4,
   "id": "7fc6538f",
   "metadata": {},
   "outputs": [
    {
     "data": {
      "text/html": [
       "<div>\n",
       "<style scoped>\n",
       "    .dataframe tbody tr th:only-of-type {\n",
       "        vertical-align: middle;\n",
       "    }\n",
       "\n",
       "    .dataframe tbody tr th {\n",
       "        vertical-align: top;\n",
       "    }\n",
       "\n",
       "    .dataframe thead th {\n",
       "        text-align: right;\n",
       "    }\n",
       "</style>\n",
       "<table border=\"1\" class=\"dataframe\">\n",
       "  <thead>\n",
       "    <tr style=\"text-align: right;\">\n",
       "      <th></th>\n",
       "      <th>playerId</th>\n",
       "      <th>season</th>\n",
       "      <th>name</th>\n",
       "      <th>team</th>\n",
       "      <th>position</th>\n",
       "      <th>situation</th>\n",
       "      <th>games_played</th>\n",
       "      <th>icetime</th>\n",
       "      <th>shifts</th>\n",
       "      <th>gameScore</th>\n",
       "      <th>...</th>\n",
       "      <th>OffIce_F_xGoals</th>\n",
       "      <th>OffIce_A_xGoals</th>\n",
       "      <th>OffIce_F_shotAttempts</th>\n",
       "      <th>OffIce_A_shotAttempts</th>\n",
       "      <th>xGoalsForAfterShifts</th>\n",
       "      <th>xGoalsAgainstAfterShifts</th>\n",
       "      <th>corsiForAfterShifts</th>\n",
       "      <th>corsiAgainstAfterShifts</th>\n",
       "      <th>fenwickForAfterShifts</th>\n",
       "      <th>fenwickAgainstAfterShifts</th>\n",
       "    </tr>\n",
       "  </thead>\n",
       "  <tbody>\n",
       "    <tr>\n",
       "      <th>0</th>\n",
       "      <td>8478047</td>\n",
       "      <td>2024</td>\n",
       "      <td>Michael Bunting</td>\n",
       "      <td>NSH</td>\n",
       "      <td>L</td>\n",
       "      <td>other</td>\n",
       "      <td>76</td>\n",
       "      <td>2237.0</td>\n",
       "      <td>37.0</td>\n",
       "      <td>26.19</td>\n",
       "      <td>...</td>\n",
       "      <td>7.28</td>\n",
       "      <td>10.09</td>\n",
       "      <td>72.0</td>\n",
       "      <td>87.0</td>\n",
       "      <td>0.00</td>\n",
       "      <td>0.00</td>\n",
       "      <td>0.0</td>\n",
       "      <td>0.0</td>\n",
       "      <td>0.0</td>\n",
       "      <td>0.0</td>\n",
       "    </tr>\n",
       "    <tr>\n",
       "      <th>1</th>\n",
       "      <td>8478047</td>\n",
       "      <td>2024</td>\n",
       "      <td>Michael Bunting</td>\n",
       "      <td>NSH</td>\n",
       "      <td>L</td>\n",
       "      <td>all</td>\n",
       "      <td>76</td>\n",
       "      <td>70819.0</td>\n",
       "      <td>1474.0</td>\n",
       "      <td>43.70</td>\n",
       "      <td>...</td>\n",
       "      <td>161.54</td>\n",
       "      <td>187.75</td>\n",
       "      <td>3221.0</td>\n",
       "      <td>3522.0</td>\n",
       "      <td>0.00</td>\n",
       "      <td>0.00</td>\n",
       "      <td>0.0</td>\n",
       "      <td>0.0</td>\n",
       "      <td>0.0</td>\n",
       "      <td>0.0</td>\n",
       "    </tr>\n",
       "    <tr>\n",
       "      <th>2</th>\n",
       "      <td>8478047</td>\n",
       "      <td>2024</td>\n",
       "      <td>Michael Bunting</td>\n",
       "      <td>NSH</td>\n",
       "      <td>L</td>\n",
       "      <td>5on5</td>\n",
       "      <td>76</td>\n",
       "      <td>59813.0</td>\n",
       "      <td>1294.0</td>\n",
       "      <td>43.70</td>\n",
       "      <td>...</td>\n",
       "      <td>112.73</td>\n",
       "      <td>122.08</td>\n",
       "      <td>2661.0</td>\n",
       "      <td>2707.0</td>\n",
       "      <td>0.71</td>\n",
       "      <td>1.71</td>\n",
       "      <td>19.0</td>\n",
       "      <td>43.0</td>\n",
       "      <td>16.0</td>\n",
       "      <td>31.0</td>\n",
       "    </tr>\n",
       "    <tr>\n",
       "      <th>3</th>\n",
       "      <td>8478047</td>\n",
       "      <td>2024</td>\n",
       "      <td>Michael Bunting</td>\n",
       "      <td>NSH</td>\n",
       "      <td>L</td>\n",
       "      <td>4on5</td>\n",
       "      <td>76</td>\n",
       "      <td>6.0</td>\n",
       "      <td>2.0</td>\n",
       "      <td>2.58</td>\n",
       "      <td>...</td>\n",
       "      <td>0.20</td>\n",
       "      <td>0.17</td>\n",
       "      <td>4.0</td>\n",
       "      <td>11.0</td>\n",
       "      <td>0.00</td>\n",
       "      <td>0.00</td>\n",
       "      <td>0.0</td>\n",
       "      <td>0.0</td>\n",
       "      <td>0.0</td>\n",
       "      <td>0.0</td>\n",
       "    </tr>\n",
       "    <tr>\n",
       "      <th>4</th>\n",
       "      <td>8478047</td>\n",
       "      <td>2024</td>\n",
       "      <td>Michael Bunting</td>\n",
       "      <td>NSH</td>\n",
       "      <td>L</td>\n",
       "      <td>5on4</td>\n",
       "      <td>76</td>\n",
       "      <td>8763.0</td>\n",
       "      <td>141.0</td>\n",
       "      <td>36.88</td>\n",
       "      <td>...</td>\n",
       "      <td>23.81</td>\n",
       "      <td>2.60</td>\n",
       "      <td>311.0</td>\n",
       "      <td>54.0</td>\n",
       "      <td>0.00</td>\n",
       "      <td>0.01</td>\n",
       "      <td>0.0</td>\n",
       "      <td>1.0</td>\n",
       "      <td>0.0</td>\n",
       "      <td>1.0</td>\n",
       "    </tr>\n",
       "  </tbody>\n",
       "</table>\n",
       "<p>5 rows × 154 columns</p>\n",
       "</div>"
      ],
      "text/plain": [
       "   playerId  season             name team position situation  games_played  \\\n",
       "0   8478047    2024  Michael Bunting  NSH        L     other            76   \n",
       "1   8478047    2024  Michael Bunting  NSH        L       all            76   \n",
       "2   8478047    2024  Michael Bunting  NSH        L      5on5            76   \n",
       "3   8478047    2024  Michael Bunting  NSH        L      4on5            76   \n",
       "4   8478047    2024  Michael Bunting  NSH        L      5on4            76   \n",
       "\n",
       "   icetime  shifts  gameScore  ...  OffIce_F_xGoals  OffIce_A_xGoals  \\\n",
       "0   2237.0    37.0      26.19  ...             7.28            10.09   \n",
       "1  70819.0  1474.0      43.70  ...           161.54           187.75   \n",
       "2  59813.0  1294.0      43.70  ...           112.73           122.08   \n",
       "3      6.0     2.0       2.58  ...             0.20             0.17   \n",
       "4   8763.0   141.0      36.88  ...            23.81             2.60   \n",
       "\n",
       "   OffIce_F_shotAttempts  OffIce_A_shotAttempts  xGoalsForAfterShifts  \\\n",
       "0                   72.0                   87.0                  0.00   \n",
       "1                 3221.0                 3522.0                  0.00   \n",
       "2                 2661.0                 2707.0                  0.71   \n",
       "3                    4.0                   11.0                  0.00   \n",
       "4                  311.0                   54.0                  0.00   \n",
       "\n",
       "   xGoalsAgainstAfterShifts  corsiForAfterShifts  corsiAgainstAfterShifts  \\\n",
       "0                      0.00                  0.0                      0.0   \n",
       "1                      0.00                  0.0                      0.0   \n",
       "2                      1.71                 19.0                     43.0   \n",
       "3                      0.00                  0.0                      0.0   \n",
       "4                      0.01                  0.0                      1.0   \n",
       "\n",
       "   fenwickForAfterShifts  fenwickAgainstAfterShifts  \n",
       "0                    0.0                        0.0  \n",
       "1                    0.0                        0.0  \n",
       "2                   16.0                       31.0  \n",
       "3                    0.0                        0.0  \n",
       "4                    0.0                        1.0  \n",
       "\n",
       "[5 rows x 154 columns]"
      ]
     },
     "execution_count": 4,
     "metadata": {},
     "output_type": "execute_result"
    }
   ],
   "source": [
    "skaters_df = \"https://moneypuck.com/moneypuck/playerData/seasonSummary/2024/regular/skaters.csv\"\n",
    "df = pd.read_csv(skaters_df)\n",
    "df.head(5)"
   ]
  },
  {
   "cell_type": "markdown",
   "id": "1b0250df",
   "metadata": {},
   "source": [
    "## Step 2: Read the data"
   ]
  },
  {
   "cell_type": "code",
   "execution_count": 5,
   "metadata": {},
   "outputs": [
    {
     "name": "stdout",
     "output_type": "stream",
     "text": [
      "Number of samples: 4600\n",
      "Number of features: 154\n"
     ]
    }
   ],
   "source": [
    "df_utils.print_df_size(df)"
   ]
  },
  {
   "cell_type": "code",
   "execution_count": 6,
   "id": "f8747b76",
   "metadata": {},
   "outputs": [
    {
     "name": "stdout",
     "output_type": "stream",
     "text": [
      "Saved: names_columns.txt\n"
     ]
    }
   ],
   "source": [
    "df_utils.save_column_names(df)"
   ]
  },
  {
   "cell_type": "code",
   "execution_count": 7,
   "id": "fd7f2cb2",
   "metadata": {},
   "outputs": [
    {
     "name": "stdout",
     "output_type": "stream",
     "text": [
      "<class 'pandas.core.frame.DataFrame'>\n",
      "RangeIndex: 4600 entries, 0 to 4599\n",
      "Columns: 154 entries, playerId to fenwickAgainstAfterShifts\n",
      "dtypes: float64(147), int64(3), object(4)\n",
      "memory usage: 5.4+ MB\n"
     ]
    }
   ],
   "source": [
    "df.info()"
   ]
  },
  {
   "cell_type": "markdown",
   "id": "c29ddeab",
   "metadata": {},
   "source": [
    "#### Questions"
   ]
  },
  {
   "cell_type": "code",
   "execution_count": 21,
   "id": "b44b0eee",
   "metadata": {},
   "outputs": [
    {
     "name": "stdout",
     "output_type": "stream",
     "text": [
      "Top goal scorer: Leon Draisaitl with 52 goals.\n",
      "Top goal scorer in 5-on-4 situations: Jake Guentzel with 15 goals.\n",
      "Top goal scorer in 4-on-5 situations: Alex Tuch with 6 goals.\n",
      "Top point scorer: Nikita Kucherov with 121 points.\n",
      "Top point scorer in 5-on-4 situations: Nikita Kucherov with 39 points.\n",
      "Top point scorer in 4-on-5 situations: Alex Tuch with 8 points.\n"
     ]
    }
   ],
   "source": [
    "answer = df[df[\"situation\"] == \"all\"].loc[lambda d: d['I_F_goals'].idxmax()]\n",
    "print(\"Top goal scorer: \" + str(answer[\"name\"]) + \" with \" + str(int(answer[\"I_F_goals\"])) + \" goals.\")\n",
    "\n",
    "answer = df[df[\"situation\"] == \"5on4\"].loc[lambda d: d['I_F_goals'].idxmax()]\n",
    "print(\"Top goal scorer in 5-on-4 situations: \" + str(answer[\"name\"]) + \" with \" + str(int(answer[\"I_F_goals\"])) + \" goals.\")\n",
    "\n",
    "answer = df[df[\"situation\"] == \"4on5\"].loc[lambda d: d['I_F_goals'].idxmax()]\n",
    "print(\"Top goal scorer in 4-on-5 situations: \" + str(answer[\"name\"]) + \" with \" + str(int(answer[\"I_F_goals\"])) + \" goals.\")\n",
    "\n",
    "answer = df[df[\"situation\"] == \"all\"].loc[lambda d: d['I_F_points'].idxmax()]\n",
    "print(\"Top point scorer: \" + str(answer[\"name\"]) + \" with \" + str(int(answer[\"I_F_points\"])) + \" points.\")\n",
    "\n",
    "answer = df[df[\"situation\"] == \"5on4\"].loc[lambda d: d['I_F_points'].idxmax()]\n",
    "print(\"Top point scorer in 5-on-4 situations: \" + str(answer[\"name\"]) + \" with \" + str(int(answer[\"I_F_points\"])) + \" points.\")\n",
    "\n",
    "answer = df[df[\"situation\"] == \"4on5\"].loc[lambda d: d['I_F_points'].idxmax()]\n",
    "print(\"Top point scorer in 4-on-5 situations: \" + str(answer[\"name\"]) + \" with \" + str(int(answer[\"I_F_points\"])) + \" points.\")"
   ]
  },
  {
   "cell_type": "markdown",
   "id": "a7fd60b5",
   "metadata": {},
   "source": [
    "## Step 3: Data cleaning"
   ]
  },
  {
   "cell_type": "code",
   "execution_count": 8,
   "id": "12d4ce14",
   "metadata": {},
   "outputs": [
    {
     "name": "stdout",
     "output_type": "stream",
     "text": [
      "No missing values found.\n"
     ]
    }
   ],
   "source": [
    "# Missing values?\n",
    "df_utils.report_nan(df)"
   ]
  },
  {
   "cell_type": "markdown",
   "id": "b1d2cf58",
   "metadata": {},
   "source": [
    "## Step 5: Frequency Tables"
   ]
  },
  {
   "cell_type": "code",
   "execution_count": null,
   "id": "3d04497f",
   "metadata": {},
   "outputs": [],
   "source": [
    "from empiricaldist import FreqTab\n",
    "from utils import thinkstats"
   ]
  },
  {
   "cell_type": "code",
   "execution_count": 50,
   "id": "05b0caaf",
   "metadata": {},
   "outputs": [
    {
     "name": "stdout",
     "output_type": "stream",
     "text": [
      "Mode: 0.0\n"
     ]
    },
    {
     "data": {
      "image/png": "[encoded data removed]",
      "text/plain": [
       "<Figure size 450x262.5 with 1 Axes>"
      ]
     },
     "metadata": {},
     "output_type": "display_data"
    }
   ],
   "source": [
    "situation = \"all\"\n",
    "feature = \"I_F_goals\"\n",
    "\n",
    "all_situations_df = df[df[\"situation\"]==situation]\n",
    "ftab_goals = FreqTab.from_seq(all_situations_df[\"I_F_goals\"], name=feature)\n",
    "ftab_goals.bar()\n",
    "print(\"Mode: \" + str(ftab_goals.mode()))\n",
    "thinkstats.decorate(xlabel=\"Goals\", ylabel=\"Frequency\", legend=False)\n"
   ]
  },
  {
   "cell_type": "code",
   "execution_count": 18,
   "id": "12db6c40",
   "metadata": {},
   "outputs": [],
   "source": [
    "namePlayer=\"Leon Draisaitl\"\n",
    "situations = df['situation'].unique()"
   ]
  },
  {
   "cell_type": "code",
   "execution_count": 27,
   "id": "430fcef6",
   "metadata": {},
   "outputs": [
    {
     "data": {
      "text/plain": [
       "<module 'utils.plot_utils' from '/Users/daniel_daduyo/Desktop/projects/moneypuck-data/utils/plot_utils.py'>"
      ]
     },
     "execution_count": 27,
     "metadata": {},
     "output_type": "execute_result"
    }
   ],
   "source": [
    "import importlib\n",
    "from utils import plot_utils  # importa il modulo la prima volta\n",
    "\n",
    "importlib.reload(plot_utils)"
   ]
  },
  {
   "cell_type": "markdown",
   "id": "64672e37",
   "metadata": {},
   "source": [
    "### cdf"
   ]
  },
  {
   "cell_type": "code",
   "execution_count": 12,
   "id": "9bf17e53",
   "metadata": {},
   "outputs": [],
   "source": [
    "selected_stat = \"I_F_xGoals\"\n",
    "i_f_xgoals_dir = os.path.join(outputs_dir, selected_stat)\n",
    "os.makedirs(i_f_xgoals_dir, exist_ok=True)"
   ]
  },
  {
   "cell_type": "code",
   "execution_count": null,
   "id": "f897a1ee",
   "metadata": {},
   "outputs": [
    {
     "data": {
      "text/html": [
       "<div>\n",
       "<style scoped>\n",
       "    .dataframe tbody tr th:only-of-type {\n",
       "        vertical-align: middle;\n",
       "    }\n",
       "\n",
       "    .dataframe tbody tr th {\n",
       "        vertical-align: top;\n",
       "    }\n",
       "\n",
       "    .dataframe thead th {\n",
       "        text-align: right;\n",
       "    }\n",
       "</style>\n",
       "<table border=\"1\" class=\"dataframe\">\n",
       "  <thead>\n",
       "    <tr style=\"text-align: right;\">\n",
       "      <th></th>\n",
       "      <th>situation</th>\n",
       "      <th>xGoals &lt;= player (%)</th>\n",
       "    </tr>\n",
       "  </thead>\n",
       "  <tbody>\n",
       "    <tr>\n",
       "      <th>0</th>\n",
       "      <td>other</td>\n",
       "      <td>99.673913</td>\n",
       "    </tr>\n",
       "    <tr>\n",
       "      <th>1</th>\n",
       "      <td>all</td>\n",
       "      <td>98.043478</td>\n",
       "    </tr>\n",
       "    <tr>\n",
       "      <th>2</th>\n",
       "      <td>5on5</td>\n",
       "      <td>89.130435</td>\n",
       "    </tr>\n",
       "    <tr>\n",
       "      <th>3</th>\n",
       "      <td>4on5</td>\n",
       "      <td>57.608696</td>\n",
       "    </tr>\n",
       "    <tr>\n",
       "      <th>4</th>\n",
       "      <td>5on4</td>\n",
       "      <td>97.065217</td>\n",
       "    </tr>\n",
       "  </tbody>\n",
       "</table>\n",
       "</div>"
      ],
      "text/plain": [
       "  situation  xGoals <= player (%)\n",
       "0     other             99.673913\n",
       "1       all             98.043478\n",
       "2      5on5             89.130435\n",
       "3      4on5             57.608696\n",
       "4      5on4             97.065217"
      ]
     },
     "execution_count": 20,
     "metadata": {},
     "output_type": "execute_result"
    }
   ],
   "source": [
    "cdf_dir = os.path.join(i_f_xgoals_dir, \"cdf\")\n",
    "os.makedirs(cdf_dir, exist_ok=True)\n",
    "\n",
    "results = []\n",
    "\n",
    "for sit in situations:\n",
    "    df_sit = df[df['situation'] == sit].copy()\n",
    "    xGoals = df_sit[selected_stat].values\n",
    "\n",
    "    player_xGoals = df_sit[df_sit[\"name\"]==namePlayer][selected_stat].values\n",
    "    threshold = player_xGoals[0]\n",
    "\n",
    "    # percentile rank\n",
    "    percentage = thinkstats.percentile_rank(threshold, xGoals)\n",
    "    results.append({\"situation\": sit, \"xGoals <= player (%)\": percentage})\n",
    "\n",
    "    # cdf\n",
    "    plot_utils.save_cdf(\n",
    "        values=xGoals, \n",
    "        reference_value=threshold, \n",
    "        output_dir=os.path.join(cdf_dir, f'cdf_{sit}'),\n",
    "        title=f'I_F_xGoals - {sit}',\n",
    "        reference_label=f'{namePlayer}'\n",
    "        )\n",
    "\n",
    "df_result = pd.DataFrame(results)\n",
    "df_result\n"
   ]
  },
  {
   "cell_type": "markdown",
   "id": "a0cc8eeb",
   "metadata": {},
   "source": [
    "### Goals per 60"
   ]
  },
  {
   "cell_type": "code",
   "execution_count": null,
   "id": "ce84fcd3",
   "metadata": {},
   "outputs": [],
   "source": [
    "goals_per_60_dir = os.path.join(outputs_dir, 'goals_per_60')\n",
    "goals_vs_xg_dir=os.path.join(outputs_dir, 'goals_vs_xg')"
   ]
  },
  {
   "cell_type": "code",
   "execution_count": null,
   "id": "d59d1bd8",
   "metadata": {},
   "outputs": [],
   "source": [
    "for sit in situations:\n",
    "    df_sit = df[df['situation']==sit].copy()\n",
    "    df_sit['goals_per_60'] = (df_sit['I_F_goals'] / df_sit['icetime']) * 60\n",
    "    df_sit['xG_per_60'] = (df_sit['I_F_xGoals'] / df_sit['icetime']) * 60\n",
    "\n",
    "    plot_utils.save_histogram(\n",
    "        df=df_sit,\n",
    "        column='goals_per_60',\n",
    "        output_dir=os.path.join(goals_per_60_dir, 'histograms'),\n",
    "        filename_prefix=f'histogram_{sit}',\n",
    "        title=f'Goals per 60 - {sit}',\n",
    "        xlabel='Goals per 60 minutes',\n",
    "        ylabel='Number of players',\n",
    "        color='blue'\n",
    "    )\n",
    "\n",
    "    plot_utils.save_boxplot(\n",
    "        df=df_sit,\n",
    "        x_column='position',\n",
    "        y_column='goals_per_60',\n",
    "        output_dir=os.path.join(goals_per_60_dir, 'boxplots'),\n",
    "        filename_prefix=f'boxplot_{sit}',\n",
    "        title=f'Goals per 60 by Position - {sit}',\n",
    "        xlabel='Position',\n",
    "        ylabel='Goals per 60 minutes'\n",
    "    )\n",
    "\n",
    "    plot_utils.save_scatterplot(\n",
    "        df=df_sit,\n",
    "        x_column='xG_per_60',\n",
    "        y_column='goals_per_60',\n",
    "        hue_column='position',\n",
    "        output_dir=os.path.join(goals_vs_xg_dir, 'scatterplots'),\n",
    "        filename_prefix=f'scatter_{sit}',\n",
    "        title=f'Goals per 60 vs Expected Goals per 60 - {sit}',\n",
    "        xlabel='Expected Goals per 60',\n",
    "        ylabel='Goals per 60',\n",
    "    )\n"
   ]
  },
  {
   "cell_type": "code",
   "execution_count": null,
   "id": "283cb4bd",
   "metadata": {},
   "outputs": [],
   "source": []
  }
 ],
 "metadata": {
  "kernelspec": {
   "display_name": "Python(venv)",
   "language": "python",
   "name": "venv"
  },
  "language_info": {
   "codemirror_mode": {
    "name": "ipython",
    "version": 3
   },
   "file_extension": ".py",
   "mimetype": "text/x-python",
   "name": "python",
   "nbconvert_exporter": "python",
   "pygments_lexer": "ipython3",
   "version": "3.13.5"
  }
 },
 "nbformat": 4,
 "nbformat_minor": 5
}

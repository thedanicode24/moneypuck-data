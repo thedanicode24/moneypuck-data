{
 "cells": [
  {
   "cell_type": "markdown",
   "metadata": {},
   "source": [
    "# MoneyPuck - Hockey data\n",
    "From 2008-09 season to 2024-25"
   ]
  },
  {
   "cell_type": "markdown",
   "id": "4c4be536",
   "metadata": {},
   "source": [
    "### Step 0: Import libraries"
   ]
  },
  {
   "cell_type": "code",
   "execution_count": 18,
   "id": "711210a5",
   "metadata": {},
   "outputs": [],
   "source": [
    "import pandas as pd\n",
    "import numpy as np"
   ]
  },
  {
   "cell_type": "code",
   "execution_count": 24,
   "id": "d216c287",
   "metadata": {},
   "outputs": [],
   "source": [
    "from utils import utils"
   ]
  },
  {
   "cell_type": "markdown",
   "id": "be3d9656",
   "metadata": {},
   "source": [
    "### Step 1: Import the dataset"
   ]
  },
  {
   "cell_type": "code",
   "execution_count": 6,
   "id": "e57b175d",
   "metadata": {},
   "outputs": [],
   "source": [
    "# All teams dataset\n",
    "all_teams_df = \"https://moneypuck.com/moneypuck/playerData/careers/gameByGame/all_teams.csv\"\n",
    "\n",
    "# Season 2024-2025: Skaters\n",
    "skaters_df = \"https://moneypuck.com/moneypuck/playerData/seasonSummary/2024/regular/skaters.csv\"\n",
    "\n",
    "# Season 2024-2025: Goalies\n",
    "goalies_df = \"https://moneypuck.com/moneypuck/playerData/seasonSummary/2024/regular/goalies.csv\"\n",
    "\n",
    "# Season 2024-2025: Lines\n",
    "lines_df = \"https://moneypuck.com/moneypuck/playerData/seasonSummary/2024/regular/lines.csv\"\n",
    "\n",
    "# Season 2024-2025: Team level\n",
    "team_df = \"https://moneypuck.com/moneypuck/playerData/seasonSummary/2024/regular/teams.csv\"\n",
    "\n",
    "# Toronto Maple Leafs\n",
    "tor_df = \"https://moneypuck.com/moneypuck/playerData/careers/gameByGame/regular/teams/TOR.csv\""
   ]
  },
  {
   "cell_type": "code",
   "execution_count": 20,
   "id": "7fc6538f",
   "metadata": {},
   "outputs": [
    {
     "data": {
      "text/html": [
       "<div>\n",
       "<style scoped>\n",
       "    .dataframe tbody tr th:only-of-type {\n",
       "        vertical-align: middle;\n",
       "    }\n",
       "\n",
       "    .dataframe tbody tr th {\n",
       "        vertical-align: top;\n",
       "    }\n",
       "\n",
       "    .dataframe thead th {\n",
       "        text-align: right;\n",
       "    }\n",
       "</style>\n",
       "<table border=\"1\" class=\"dataframe\">\n",
       "  <thead>\n",
       "    <tr style=\"text-align: right;\">\n",
       "      <th></th>\n",
       "      <th>team</th>\n",
       "      <th>season</th>\n",
       "      <th>name</th>\n",
       "      <th>gameId</th>\n",
       "      <th>playerTeam</th>\n",
       "      <th>opposingTeam</th>\n",
       "      <th>home_or_away</th>\n",
       "      <th>gameDate</th>\n",
       "      <th>position</th>\n",
       "      <th>situation</th>\n",
       "      <th>...</th>\n",
       "      <th>unblockedShotAttemptsAgainst</th>\n",
       "      <th>scoreAdjustedUnblockedShotAttemptsAgainst</th>\n",
       "      <th>dZoneGiveawaysAgainst</th>\n",
       "      <th>xGoalsFromxReboundsOfShotsAgainst</th>\n",
       "      <th>xGoalsFromActualReboundsOfShotsAgainst</th>\n",
       "      <th>reboundxGoalsAgainst</th>\n",
       "      <th>totalShotCreditAgainst</th>\n",
       "      <th>scoreAdjustedTotalShotCreditAgainst</th>\n",
       "      <th>scoreFlurryAdjustedTotalShotCreditAgainst</th>\n",
       "      <th>playoffGame</th>\n",
       "    </tr>\n",
       "  </thead>\n",
       "  <tbody>\n",
       "    <tr>\n",
       "      <th>0</th>\n",
       "      <td>NYR</td>\n",
       "      <td>2008</td>\n",
       "      <td>NYR</td>\n",
       "      <td>2008020001</td>\n",
       "      <td>NYR</td>\n",
       "      <td>T.B</td>\n",
       "      <td>AWAY</td>\n",
       "      <td>20081004</td>\n",
       "      <td>Team Level</td>\n",
       "      <td>other</td>\n",
       "      <td>...</td>\n",
       "      <td>1.0</td>\n",
       "      <td>1.000</td>\n",
       "      <td>0.0</td>\n",
       "      <td>0.017</td>\n",
       "      <td>0.000</td>\n",
       "      <td>0.000</td>\n",
       "      <td>0.037</td>\n",
       "      <td>0.037</td>\n",
       "      <td>0.037</td>\n",
       "      <td>0</td>\n",
       "    </tr>\n",
       "    <tr>\n",
       "      <th>1</th>\n",
       "      <td>NYR</td>\n",
       "      <td>2008</td>\n",
       "      <td>NYR</td>\n",
       "      <td>2008020001</td>\n",
       "      <td>NYR</td>\n",
       "      <td>T.B</td>\n",
       "      <td>AWAY</td>\n",
       "      <td>20081004</td>\n",
       "      <td>Team Level</td>\n",
       "      <td>all</td>\n",
       "      <td>...</td>\n",
       "      <td>31.0</td>\n",
       "      <td>30.369</td>\n",
       "      <td>5.0</td>\n",
       "      <td>0.396</td>\n",
       "      <td>0.168</td>\n",
       "      <td>0.168</td>\n",
       "      <td>2.917</td>\n",
       "      <td>2.833</td>\n",
       "      <td>2.714</td>\n",
       "      <td>0</td>\n",
       "    </tr>\n",
       "    <tr>\n",
       "      <th>2</th>\n",
       "      <td>NYR</td>\n",
       "      <td>2008</td>\n",
       "      <td>NYR</td>\n",
       "      <td>2008020001</td>\n",
       "      <td>NYR</td>\n",
       "      <td>T.B</td>\n",
       "      <td>AWAY</td>\n",
       "      <td>20081004</td>\n",
       "      <td>Team Level</td>\n",
       "      <td>5on5</td>\n",
       "      <td>...</td>\n",
       "      <td>20.0</td>\n",
       "      <td>19.369</td>\n",
       "      <td>3.0</td>\n",
       "      <td>0.237</td>\n",
       "      <td>0.168</td>\n",
       "      <td>0.168</td>\n",
       "      <td>1.862</td>\n",
       "      <td>1.777</td>\n",
       "      <td>1.665</td>\n",
       "      <td>0</td>\n",
       "    </tr>\n",
       "    <tr>\n",
       "      <th>3</th>\n",
       "      <td>NYR</td>\n",
       "      <td>2008</td>\n",
       "      <td>NYR</td>\n",
       "      <td>2008020001</td>\n",
       "      <td>NYR</td>\n",
       "      <td>T.B</td>\n",
       "      <td>AWAY</td>\n",
       "      <td>20081004</td>\n",
       "      <td>Team Level</td>\n",
       "      <td>4on5</td>\n",
       "      <td>...</td>\n",
       "      <td>9.0</td>\n",
       "      <td>9.000</td>\n",
       "      <td>1.0</td>\n",
       "      <td>0.124</td>\n",
       "      <td>0.000</td>\n",
       "      <td>0.000</td>\n",
       "      <td>0.795</td>\n",
       "      <td>0.795</td>\n",
       "      <td>0.789</td>\n",
       "      <td>0</td>\n",
       "    </tr>\n",
       "    <tr>\n",
       "      <th>4</th>\n",
       "      <td>NYR</td>\n",
       "      <td>2008</td>\n",
       "      <td>NYR</td>\n",
       "      <td>2008020001</td>\n",
       "      <td>NYR</td>\n",
       "      <td>T.B</td>\n",
       "      <td>AWAY</td>\n",
       "      <td>20081004</td>\n",
       "      <td>Team Level</td>\n",
       "      <td>5on4</td>\n",
       "      <td>...</td>\n",
       "      <td>1.0</td>\n",
       "      <td>1.000</td>\n",
       "      <td>1.0</td>\n",
       "      <td>0.019</td>\n",
       "      <td>0.000</td>\n",
       "      <td>0.000</td>\n",
       "      <td>0.224</td>\n",
       "      <td>0.224</td>\n",
       "      <td>0.224</td>\n",
       "      <td>0</td>\n",
       "    </tr>\n",
       "  </tbody>\n",
       "</table>\n",
       "<p>5 rows × 111 columns</p>\n",
       "</div>"
      ],
      "text/plain": [
       "  team  season name      gameId playerTeam opposingTeam home_or_away  \\\n",
       "0  NYR    2008  NYR  2008020001        NYR          T.B         AWAY   \n",
       "1  NYR    2008  NYR  2008020001        NYR          T.B         AWAY   \n",
       "2  NYR    2008  NYR  2008020001        NYR          T.B         AWAY   \n",
       "3  NYR    2008  NYR  2008020001        NYR          T.B         AWAY   \n",
       "4  NYR    2008  NYR  2008020001        NYR          T.B         AWAY   \n",
       "\n",
       "   gameDate    position situation  ...  unblockedShotAttemptsAgainst  \\\n",
       "0  20081004  Team Level     other  ...                           1.0   \n",
       "1  20081004  Team Level       all  ...                          31.0   \n",
       "2  20081004  Team Level      5on5  ...                          20.0   \n",
       "3  20081004  Team Level      4on5  ...                           9.0   \n",
       "4  20081004  Team Level      5on4  ...                           1.0   \n",
       "\n",
       "   scoreAdjustedUnblockedShotAttemptsAgainst  dZoneGiveawaysAgainst  \\\n",
       "0                                      1.000                    0.0   \n",
       "1                                     30.369                    5.0   \n",
       "2                                     19.369                    3.0   \n",
       "3                                      9.000                    1.0   \n",
       "4                                      1.000                    1.0   \n",
       "\n",
       "   xGoalsFromxReboundsOfShotsAgainst  xGoalsFromActualReboundsOfShotsAgainst  \\\n",
       "0                              0.017                                   0.000   \n",
       "1                              0.396                                   0.168   \n",
       "2                              0.237                                   0.168   \n",
       "3                              0.124                                   0.000   \n",
       "4                              0.019                                   0.000   \n",
       "\n",
       "   reboundxGoalsAgainst  totalShotCreditAgainst  \\\n",
       "0                 0.000                   0.037   \n",
       "1                 0.168                   2.917   \n",
       "2                 0.168                   1.862   \n",
       "3                 0.000                   0.795   \n",
       "4                 0.000                   0.224   \n",
       "\n",
       "   scoreAdjustedTotalShotCreditAgainst  \\\n",
       "0                                0.037   \n",
       "1                                2.833   \n",
       "2                                1.777   \n",
       "3                                0.795   \n",
       "4                                0.224   \n",
       "\n",
       "   scoreFlurryAdjustedTotalShotCreditAgainst  playoffGame  \n",
       "0                                      0.037            0  \n",
       "1                                      2.714            0  \n",
       "2                                      1.665            0  \n",
       "3                                      0.789            0  \n",
       "4                                      0.224            0  \n",
       "\n",
       "[5 rows x 111 columns]"
      ]
     },
     "execution_count": 20,
     "metadata": {},
     "output_type": "execute_result"
    }
   ],
   "source": [
    "df = pd.read_csv(all_teams_df)\n",
    "df.head(5)"
   ]
  },
  {
   "cell_type": "markdown",
   "id": "1b0250df",
   "metadata": {},
   "source": [
    "### Step 2: Read the data"
   ]
  },
  {
   "cell_type": "code",
   "execution_count": 25,
   "metadata": {},
   "outputs": [
    {
     "name": "stdout",
     "output_type": "stream",
     "text": [
      "Number of samples:  218280\n",
      "Number of features:  111\n"
     ]
    }
   ],
   "source": [
    "utils.print_df_size(df)"
   ]
  },
  {
   "cell_type": "code",
   "execution_count": 9,
   "id": "f8747b76",
   "metadata": {},
   "outputs": [],
   "source": [
    "cols = df.columns.tolist()\n",
    "with open(\"names_columns.txt\", \"w\") as f:\n",
    "    for col in cols:\n",
    "        f.write(col + '\\n')"
   ]
  },
  {
   "cell_type": "code",
   "execution_count": 10,
   "id": "fd7f2cb2",
   "metadata": {},
   "outputs": [
    {
     "name": "stdout",
     "output_type": "stream",
     "text": [
      "<class 'pandas.core.frame.DataFrame'>\n",
      "RangeIndex: 218280 entries, 0 to 218279\n",
      "Columns: 111 entries, team to playoffGame\n",
      "dtypes: float64(100), int64(4), object(7)\n",
      "memory usage: 184.9+ MB\n"
     ]
    }
   ],
   "source": [
    "df.info()"
   ]
  },
  {
   "cell_type": "markdown",
   "id": "a7fd60b5",
   "metadata": {},
   "source": [
    "### Step 3: Data cleaning"
   ]
  },
  {
   "cell_type": "code",
   "execution_count": 26,
   "id": "12d4ce14",
   "metadata": {},
   "outputs": [
    {
     "name": "stdout",
     "output_type": "stream",
     "text": [
      "Number of samples:  218280\n",
      "Number of features:  108\n"
     ]
    }
   ],
   "source": [
    "df = df.drop(\"gameDate\", axis=1)\n",
    "df = df.drop(\"gameId\", axis=1)\n",
    "df = df.drop(\"position\", axis=1)\n",
    "utils.print_df_size(df)"
   ]
  },
  {
   "cell_type": "markdown",
   "id": "c003e7e0",
   "metadata": {},
   "source": [
    "Missing values?"
   ]
  },
  {
   "cell_type": "code",
   "execution_count": 27,
   "id": "15d32a71",
   "metadata": {},
   "outputs": [
    {
     "name": "stdout",
     "output_type": "stream",
     "text": [
      "No missing values.\n"
     ]
    }
   ],
   "source": [
    "if df.isna().any().any():\n",
    "    nan_counts = df.isna().sum()\n",
    "    nan_counts = nan_counts[nan_counts>0]\n",
    "    print(nan_counts)\n",
    "else:\n",
    "    print(\"No missing values.\")"
   ]
  },
  {
   "cell_type": "markdown",
   "id": "ceee63ef",
   "metadata": {},
   "source": [
    "Columns \"name\", \"team\" and \"playerTeam\" are the same?"
   ]
  },
  {
   "cell_type": "code",
   "execution_count": 28,
   "id": "5c865a5b",
   "metadata": {},
   "outputs": [
    {
     "name": "stdout",
     "output_type": "stream",
     "text": [
      "Number of samples:  218280\n",
      "Number of features:  107\n"
     ]
    }
   ],
   "source": [
    "if sum(df[\"team\"]!=df[\"name\"])==0:\n",
    "    df = df.drop(\"name\", axis=1)\n",
    "utils.print_df_size(df)"
   ]
  },
  {
   "cell_type": "code",
   "execution_count": 29,
   "id": "a2383b8a",
   "metadata": {},
   "outputs": [
    {
     "name": "stdout",
     "output_type": "stream",
     "text": [
      "Number of samples:  218280\n",
      "Number of features:  106\n"
     ]
    }
   ],
   "source": [
    "if sum(df[\"team\"]!=df[\"playerTeam\"])==0:\n",
    "    df = df.drop(\"playerTeam\", axis=1)\n",
    "utils.print_df_size(df)"
   ]
  },
  {
   "cell_type": "code",
   "execution_count": 30,
   "id": "9edab9d0",
   "metadata": {},
   "outputs": [
    {
     "data": {
      "text/html": [
       "<div>\n",
       "<style scoped>\n",
       "    .dataframe tbody tr th:only-of-type {\n",
       "        vertical-align: middle;\n",
       "    }\n",
       "\n",
       "    .dataframe tbody tr th {\n",
       "        vertical-align: top;\n",
       "    }\n",
       "\n",
       "    .dataframe thead th {\n",
       "        text-align: right;\n",
       "    }\n",
       "</style>\n",
       "<table border=\"1\" class=\"dataframe\">\n",
       "  <thead>\n",
       "    <tr style=\"text-align: right;\">\n",
       "      <th></th>\n",
       "      <th>team</th>\n",
       "      <th>season</th>\n",
       "      <th>opposingTeam</th>\n",
       "      <th>home_or_away</th>\n",
       "      <th>situation</th>\n",
       "      <th>xGoalsPercentage</th>\n",
       "      <th>corsiPercentage</th>\n",
       "      <th>fenwickPercentage</th>\n",
       "      <th>iceTime</th>\n",
       "      <th>xOnGoalFor</th>\n",
       "      <th>...</th>\n",
       "      <th>unblockedShotAttemptsAgainst</th>\n",
       "      <th>scoreAdjustedUnblockedShotAttemptsAgainst</th>\n",
       "      <th>dZoneGiveawaysAgainst</th>\n",
       "      <th>xGoalsFromxReboundsOfShotsAgainst</th>\n",
       "      <th>xGoalsFromActualReboundsOfShotsAgainst</th>\n",
       "      <th>reboundxGoalsAgainst</th>\n",
       "      <th>totalShotCreditAgainst</th>\n",
       "      <th>scoreAdjustedTotalShotCreditAgainst</th>\n",
       "      <th>scoreFlurryAdjustedTotalShotCreditAgainst</th>\n",
       "      <th>playoffGame</th>\n",
       "    </tr>\n",
       "  </thead>\n",
       "  <tbody>\n",
       "    <tr>\n",
       "      <th>0</th>\n",
       "      <td>NYR</td>\n",
       "      <td>2008</td>\n",
       "      <td>T.B</td>\n",
       "      <td>AWAY</td>\n",
       "      <td>other</td>\n",
       "      <td>0.0000</td>\n",
       "      <td>0.0000</td>\n",
       "      <td>0.0000</td>\n",
       "      <td>42.0</td>\n",
       "      <td>0.000</td>\n",
       "      <td>...</td>\n",
       "      <td>1.0</td>\n",
       "      <td>1.000</td>\n",
       "      <td>0.0</td>\n",
       "      <td>0.017</td>\n",
       "      <td>0.000</td>\n",
       "      <td>0.000</td>\n",
       "      <td>0.037</td>\n",
       "      <td>0.037</td>\n",
       "      <td>0.037</td>\n",
       "      <td>0</td>\n",
       "    </tr>\n",
       "    <tr>\n",
       "      <th>1</th>\n",
       "      <td>NYR</td>\n",
       "      <td>2008</td>\n",
       "      <td>T.B</td>\n",
       "      <td>AWAY</td>\n",
       "      <td>all</td>\n",
       "      <td>0.4596</td>\n",
       "      <td>0.6408</td>\n",
       "      <td>0.6310</td>\n",
       "      <td>3600.0</td>\n",
       "      <td>37.733</td>\n",
       "      <td>...</td>\n",
       "      <td>31.0</td>\n",
       "      <td>30.369</td>\n",
       "      <td>5.0</td>\n",
       "      <td>0.396</td>\n",
       "      <td>0.168</td>\n",
       "      <td>0.168</td>\n",
       "      <td>2.917</td>\n",
       "      <td>2.833</td>\n",
       "      <td>2.714</td>\n",
       "      <td>0</td>\n",
       "    </tr>\n",
       "    <tr>\n",
       "      <th>2</th>\n",
       "      <td>NYR</td>\n",
       "      <td>2008</td>\n",
       "      <td>T.B</td>\n",
       "      <td>AWAY</td>\n",
       "      <td>5on5</td>\n",
       "      <td>0.4857</td>\n",
       "      <td>0.6429</td>\n",
       "      <td>0.6364</td>\n",
       "      <td>2283.0</td>\n",
       "      <td>24.802</td>\n",
       "      <td>...</td>\n",
       "      <td>20.0</td>\n",
       "      <td>19.369</td>\n",
       "      <td>3.0</td>\n",
       "      <td>0.237</td>\n",
       "      <td>0.168</td>\n",
       "      <td>0.168</td>\n",
       "      <td>1.862</td>\n",
       "      <td>1.777</td>\n",
       "      <td>1.665</td>\n",
       "      <td>0</td>\n",
       "    </tr>\n",
       "    <tr>\n",
       "      <th>3</th>\n",
       "      <td>NYR</td>\n",
       "      <td>2008</td>\n",
       "      <td>T.B</td>\n",
       "      <td>AWAY</td>\n",
       "      <td>4on5</td>\n",
       "      <td>0.0482</td>\n",
       "      <td>0.0909</td>\n",
       "      <td>0.1000</td>\n",
       "      <td>468.0</td>\n",
       "      <td>0.640</td>\n",
       "      <td>...</td>\n",
       "      <td>9.0</td>\n",
       "      <td>9.000</td>\n",
       "      <td>1.0</td>\n",
       "      <td>0.124</td>\n",
       "      <td>0.000</td>\n",
       "      <td>0.000</td>\n",
       "      <td>0.795</td>\n",
       "      <td>0.795</td>\n",
       "      <td>0.789</td>\n",
       "      <td>0</td>\n",
       "    </tr>\n",
       "    <tr>\n",
       "      <th>4</th>\n",
       "      <td>NYR</td>\n",
       "      <td>2008</td>\n",
       "      <td>T.B</td>\n",
       "      <td>AWAY</td>\n",
       "      <td>5on4</td>\n",
       "      <td>0.7317</td>\n",
       "      <td>0.9524</td>\n",
       "      <td>0.9444</td>\n",
       "      <td>807.0</td>\n",
       "      <td>12.291</td>\n",
       "      <td>...</td>\n",
       "      <td>1.0</td>\n",
       "      <td>1.000</td>\n",
       "      <td>1.0</td>\n",
       "      <td>0.019</td>\n",
       "      <td>0.000</td>\n",
       "      <td>0.000</td>\n",
       "      <td>0.224</td>\n",
       "      <td>0.224</td>\n",
       "      <td>0.224</td>\n",
       "      <td>0</td>\n",
       "    </tr>\n",
       "  </tbody>\n",
       "</table>\n",
       "<p>5 rows × 106 columns</p>\n",
       "</div>"
      ],
      "text/plain": [
       "  team  season opposingTeam home_or_away situation  xGoalsPercentage  \\\n",
       "0  NYR    2008          T.B         AWAY     other            0.0000   \n",
       "1  NYR    2008          T.B         AWAY       all            0.4596   \n",
       "2  NYR    2008          T.B         AWAY      5on5            0.4857   \n",
       "3  NYR    2008          T.B         AWAY      4on5            0.0482   \n",
       "4  NYR    2008          T.B         AWAY      5on4            0.7317   \n",
       "\n",
       "   corsiPercentage  fenwickPercentage  iceTime  xOnGoalFor  ...  \\\n",
       "0           0.0000             0.0000     42.0       0.000  ...   \n",
       "1           0.6408             0.6310   3600.0      37.733  ...   \n",
       "2           0.6429             0.6364   2283.0      24.802  ...   \n",
       "3           0.0909             0.1000    468.0       0.640  ...   \n",
       "4           0.9524             0.9444    807.0      12.291  ...   \n",
       "\n",
       "   unblockedShotAttemptsAgainst  scoreAdjustedUnblockedShotAttemptsAgainst  \\\n",
       "0                           1.0                                      1.000   \n",
       "1                          31.0                                     30.369   \n",
       "2                          20.0                                     19.369   \n",
       "3                           9.0                                      9.000   \n",
       "4                           1.0                                      1.000   \n",
       "\n",
       "   dZoneGiveawaysAgainst  xGoalsFromxReboundsOfShotsAgainst  \\\n",
       "0                    0.0                              0.017   \n",
       "1                    5.0                              0.396   \n",
       "2                    3.0                              0.237   \n",
       "3                    1.0                              0.124   \n",
       "4                    1.0                              0.019   \n",
       "\n",
       "   xGoalsFromActualReboundsOfShotsAgainst  reboundxGoalsAgainst  \\\n",
       "0                                   0.000                 0.000   \n",
       "1                                   0.168                 0.168   \n",
       "2                                   0.168                 0.168   \n",
       "3                                   0.000                 0.000   \n",
       "4                                   0.000                 0.000   \n",
       "\n",
       "   totalShotCreditAgainst  scoreAdjustedTotalShotCreditAgainst  \\\n",
       "0                   0.037                                0.037   \n",
       "1                   2.917                                2.833   \n",
       "2                   1.862                                1.777   \n",
       "3                   0.795                                0.795   \n",
       "4                   0.224                                0.224   \n",
       "\n",
       "   scoreFlurryAdjustedTotalShotCreditAgainst  playoffGame  \n",
       "0                                      0.037            0  \n",
       "1                                      2.714            0  \n",
       "2                                      1.665            0  \n",
       "3                                      0.789            0  \n",
       "4                                      0.224            0  \n",
       "\n",
       "[5 rows x 106 columns]"
      ]
     },
     "execution_count": 30,
     "metadata": {},
     "output_type": "execute_result"
    }
   ],
   "source": [
    "df.head(5)"
   ]
  },
  {
   "cell_type": "code",
   "execution_count": 31,
   "id": "8b59a06e",
   "metadata": {},
   "outputs": [
    {
     "name": "stdout",
     "output_type": "stream",
     "text": [
      "<class 'pandas.core.frame.DataFrame'>\n",
      "RangeIndex: 218280 entries, 0 to 218279\n",
      "Columns: 106 entries, team to playoffGame\n",
      "dtypes: float64(100), int64(2), object(4)\n",
      "memory usage: 176.5+ MB\n"
     ]
    }
   ],
   "source": [
    "df.info()"
   ]
  },
  {
   "cell_type": "markdown",
   "id": "c0511ba2",
   "metadata": {},
   "source": [
    "### Step 3"
   ]
  },
  {
   "cell_type": "code",
   "execution_count": null,
   "id": "78837a6e",
   "metadata": {},
   "outputs": [],
   "source": []
  }
 ],
 "metadata": {
  "kernelspec": {
   "display_name": "venv",
   "language": "python",
   "name": "python3"
  },
  "language_info": {
   "codemirror_mode": {
    "name": "ipython",
    "version": 3
   },
   "file_extension": ".py",
   "mimetype": "text/x-python",
   "name": "python",
   "nbconvert_exporter": "python",
   "pygments_lexer": "ipython3",
   "version": "3.13.5"
  }
 },
 "nbformat": 4,
 "nbformat_minor": 5
}

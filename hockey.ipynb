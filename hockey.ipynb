{
 "cells": [
  {
   "cell_type": "markdown",
   "metadata": {},
   "source": [
    "# MoneyPuck - Hockey data"
   ]
  },
  {
   "cell_type": "markdown",
   "id": "4c4be536",
   "metadata": {},
   "source": [
    "### Step 0: Import libraries"
   ]
  },
  {
   "cell_type": "code",
   "execution_count": 18,
   "id": "711210a5",
   "metadata": {},
   "outputs": [],
   "source": [
    "import pandas as pd\n",
    "import numpy as np"
   ]
  },
  {
   "cell_type": "code",
   "execution_count": null,
   "id": "d216c287",
   "metadata": {},
   "outputs": [],
   "source": [
    "from utils import plot_utils, df_utils"
   ]
  },
  {
   "cell_type": "markdown",
   "id": "be3d9656",
   "metadata": {},
   "source": [
    "### Step 1: Import the dataset"
   ]
  },
  {
   "cell_type": "code",
   "execution_count": null,
   "id": "7fc6538f",
   "metadata": {},
   "outputs": [
    {
     "data": {
      "text/html": [
       "<div>\n",
       "<style scoped>\n",
       "    .dataframe tbody tr th:only-of-type {\n",
       "        vertical-align: middle;\n",
       "    }\n",
       "\n",
       "    .dataframe tbody tr th {\n",
       "        vertical-align: top;\n",
       "    }\n",
       "\n",
       "    .dataframe thead th {\n",
       "        text-align: right;\n",
       "    }\n",
       "</style>\n",
       "<table border=\"1\" class=\"dataframe\">\n",
       "  <thead>\n",
       "    <tr style=\"text-align: right;\">\n",
       "      <th></th>\n",
       "      <th>team</th>\n",
       "      <th>season</th>\n",
       "      <th>name</th>\n",
       "      <th>gameId</th>\n",
       "      <th>playerTeam</th>\n",
       "      <th>opposingTeam</th>\n",
       "      <th>home_or_away</th>\n",
       "      <th>gameDate</th>\n",
       "      <th>position</th>\n",
       "      <th>situation</th>\n",
       "      <th>...</th>\n",
       "      <th>unblockedShotAttemptsAgainst</th>\n",
       "      <th>scoreAdjustedUnblockedShotAttemptsAgainst</th>\n",
       "      <th>dZoneGiveawaysAgainst</th>\n",
       "      <th>xGoalsFromxReboundsOfShotsAgainst</th>\n",
       "      <th>xGoalsFromActualReboundsOfShotsAgainst</th>\n",
       "      <th>reboundxGoalsAgainst</th>\n",
       "      <th>totalShotCreditAgainst</th>\n",
       "      <th>scoreAdjustedTotalShotCreditAgainst</th>\n",
       "      <th>scoreFlurryAdjustedTotalShotCreditAgainst</th>\n",
       "      <th>playoffGame</th>\n",
       "    </tr>\n",
       "  </thead>\n",
       "  <tbody>\n",
       "    <tr>\n",
       "      <th>0</th>\n",
       "      <td>NYR</td>\n",
       "      <td>2008</td>\n",
       "      <td>NYR</td>\n",
       "      <td>2008020001</td>\n",
       "      <td>NYR</td>\n",
       "      <td>T.B</td>\n",
       "      <td>AWAY</td>\n",
       "      <td>20081004</td>\n",
       "      <td>Team Level</td>\n",
       "      <td>other</td>\n",
       "      <td>...</td>\n",
       "      <td>1.0</td>\n",
       "      <td>1.000</td>\n",
       "      <td>0.0</td>\n",
       "      <td>0.017</td>\n",
       "      <td>0.000</td>\n",
       "      <td>0.000</td>\n",
       "      <td>0.037</td>\n",
       "      <td>0.037</td>\n",
       "      <td>0.037</td>\n",
       "      <td>0</td>\n",
       "    </tr>\n",
       "    <tr>\n",
       "      <th>1</th>\n",
       "      <td>NYR</td>\n",
       "      <td>2008</td>\n",
       "      <td>NYR</td>\n",
       "      <td>2008020001</td>\n",
       "      <td>NYR</td>\n",
       "      <td>T.B</td>\n",
       "      <td>AWAY</td>\n",
       "      <td>20081004</td>\n",
       "      <td>Team Level</td>\n",
       "      <td>all</td>\n",
       "      <td>...</td>\n",
       "      <td>31.0</td>\n",
       "      <td>30.369</td>\n",
       "      <td>5.0</td>\n",
       "      <td>0.396</td>\n",
       "      <td>0.168</td>\n",
       "      <td>0.168</td>\n",
       "      <td>2.917</td>\n",
       "      <td>2.833</td>\n",
       "      <td>2.714</td>\n",
       "      <td>0</td>\n",
       "    </tr>\n",
       "    <tr>\n",
       "      <th>2</th>\n",
       "      <td>NYR</td>\n",
       "      <td>2008</td>\n",
       "      <td>NYR</td>\n",
       "      <td>2008020001</td>\n",
       "      <td>NYR</td>\n",
       "      <td>T.B</td>\n",
       "      <td>AWAY</td>\n",
       "      <td>20081004</td>\n",
       "      <td>Team Level</td>\n",
       "      <td>5on5</td>\n",
       "      <td>...</td>\n",
       "      <td>20.0</td>\n",
       "      <td>19.369</td>\n",
       "      <td>3.0</td>\n",
       "      <td>0.237</td>\n",
       "      <td>0.168</td>\n",
       "      <td>0.168</td>\n",
       "      <td>1.862</td>\n",
       "      <td>1.777</td>\n",
       "      <td>1.665</td>\n",
       "      <td>0</td>\n",
       "    </tr>\n",
       "    <tr>\n",
       "      <th>3</th>\n",
       "      <td>NYR</td>\n",
       "      <td>2008</td>\n",
       "      <td>NYR</td>\n",
       "      <td>2008020001</td>\n",
       "      <td>NYR</td>\n",
       "      <td>T.B</td>\n",
       "      <td>AWAY</td>\n",
       "      <td>20081004</td>\n",
       "      <td>Team Level</td>\n",
       "      <td>4on5</td>\n",
       "      <td>...</td>\n",
       "      <td>9.0</td>\n",
       "      <td>9.000</td>\n",
       "      <td>1.0</td>\n",
       "      <td>0.124</td>\n",
       "      <td>0.000</td>\n",
       "      <td>0.000</td>\n",
       "      <td>0.795</td>\n",
       "      <td>0.795</td>\n",
       "      <td>0.789</td>\n",
       "      <td>0</td>\n",
       "    </tr>\n",
       "    <tr>\n",
       "      <th>4</th>\n",
       "      <td>NYR</td>\n",
       "      <td>2008</td>\n",
       "      <td>NYR</td>\n",
       "      <td>2008020001</td>\n",
       "      <td>NYR</td>\n",
       "      <td>T.B</td>\n",
       "      <td>AWAY</td>\n",
       "      <td>20081004</td>\n",
       "      <td>Team Level</td>\n",
       "      <td>5on4</td>\n",
       "      <td>...</td>\n",
       "      <td>1.0</td>\n",
       "      <td>1.000</td>\n",
       "      <td>1.0</td>\n",
       "      <td>0.019</td>\n",
       "      <td>0.000</td>\n",
       "      <td>0.000</td>\n",
       "      <td>0.224</td>\n",
       "      <td>0.224</td>\n",
       "      <td>0.224</td>\n",
       "      <td>0</td>\n",
       "    </tr>\n",
       "  </tbody>\n",
       "</table>\n",
       "<p>5 rows × 111 columns</p>\n",
       "</div>"
      ],
      "text/plain": [
       "  team  season name      gameId playerTeam opposingTeam home_or_away  \\\n",
       "0  NYR    2008  NYR  2008020001        NYR          T.B         AWAY   \n",
       "1  NYR    2008  NYR  2008020001        NYR          T.B         AWAY   \n",
       "2  NYR    2008  NYR  2008020001        NYR          T.B         AWAY   \n",
       "3  NYR    2008  NYR  2008020001        NYR          T.B         AWAY   \n",
       "4  NYR    2008  NYR  2008020001        NYR          T.B         AWAY   \n",
       "\n",
       "   gameDate    position situation  ...  unblockedShotAttemptsAgainst  \\\n",
       "0  20081004  Team Level     other  ...                           1.0   \n",
       "1  20081004  Team Level       all  ...                          31.0   \n",
       "2  20081004  Team Level      5on5  ...                          20.0   \n",
       "3  20081004  Team Level      4on5  ...                           9.0   \n",
       "4  20081004  Team Level      5on4  ...                           1.0   \n",
       "\n",
       "   scoreAdjustedUnblockedShotAttemptsAgainst  dZoneGiveawaysAgainst  \\\n",
       "0                                      1.000                    0.0   \n",
       "1                                     30.369                    5.0   \n",
       "2                                     19.369                    3.0   \n",
       "3                                      9.000                    1.0   \n",
       "4                                      1.000                    1.0   \n",
       "\n",
       "   xGoalsFromxReboundsOfShotsAgainst  xGoalsFromActualReboundsOfShotsAgainst  \\\n",
       "0                              0.017                                   0.000   \n",
       "1                              0.396                                   0.168   \n",
       "2                              0.237                                   0.168   \n",
       "3                              0.124                                   0.000   \n",
       "4                              0.019                                   0.000   \n",
       "\n",
       "   reboundxGoalsAgainst  totalShotCreditAgainst  \\\n",
       "0                 0.000                   0.037   \n",
       "1                 0.168                   2.917   \n",
       "2                 0.168                   1.862   \n",
       "3                 0.000                   0.795   \n",
       "4                 0.000                   0.224   \n",
       "\n",
       "   scoreAdjustedTotalShotCreditAgainst  \\\n",
       "0                                0.037   \n",
       "1                                2.833   \n",
       "2                                1.777   \n",
       "3                                0.795   \n",
       "4                                0.224   \n",
       "\n",
       "   scoreFlurryAdjustedTotalShotCreditAgainst  playoffGame  \n",
       "0                                      0.037            0  \n",
       "1                                      2.714            0  \n",
       "2                                      1.665            0  \n",
       "3                                      0.789            0  \n",
       "4                                      0.224            0  \n",
       "\n",
       "[5 rows x 111 columns]"
      ]
     },
     "execution_count": 20,
     "metadata": {},
     "output_type": "execute_result"
    }
   ],
   "source": [
    "skaters_df = \"https://moneypuck.com/moneypuck/playerData/seasonSummary/2024/regular/skaters.csv\"\n",
    "df = pd.read_csv(skaters_df)\n",
    "df.head(5)"
   ]
  },
  {
   "cell_type": "markdown",
   "id": "1b0250df",
   "metadata": {},
   "source": [
    "### Step 2: Read the data"
   ]
  },
  {
   "cell_type": "code",
   "execution_count": null,
   "metadata": {},
   "outputs": [
    {
     "name": "stdout",
     "output_type": "stream",
     "text": [
      "Number of samples:  218280\n",
      "Number of features:  111\n"
     ]
    }
   ],
   "source": [
    "df_utils.print_df_size(df)"
   ]
  },
  {
   "cell_type": "code",
   "execution_count": null,
   "id": "f8747b76",
   "metadata": {},
   "outputs": [],
   "source": [
    "df_utils.save_column_names(df)"
   ]
  },
  {
   "cell_type": "code",
   "execution_count": 10,
   "id": "fd7f2cb2",
   "metadata": {},
   "outputs": [
    {
     "name": "stdout",
     "output_type": "stream",
     "text": [
      "<class 'pandas.core.frame.DataFrame'>\n",
      "RangeIndex: 218280 entries, 0 to 218279\n",
      "Columns: 111 entries, team to playoffGame\n",
      "dtypes: float64(100), int64(4), object(7)\n",
      "memory usage: 184.9+ MB\n"
     ]
    }
   ],
   "source": [
    "df.info()"
   ]
  },
  {
   "cell_type": "markdown",
   "id": "a7fd60b5",
   "metadata": {},
   "source": [
    "### Step 3: Data cleaning"
   ]
  },
  {
   "cell_type": "code",
   "execution_count": null,
   "id": "12d4ce14",
   "metadata": {},
   "outputs": [
    {
     "name": "stdout",
     "output_type": "stream",
     "text": [
      "Number of samples:  218280\n",
      "Number of features:  108\n"
     ]
    }
   ],
   "source": [
    "# Missing values?\n",
    "df_utils.report_nan(df)"
   ]
  },
  {
   "cell_type": "markdown",
   "id": "c0511ba2",
   "metadata": {},
   "source": [
    "### Step 4: Some stats"
   ]
  },
  {
   "cell_type": "code",
   "execution_count": null,
   "id": "5aada21f",
   "metadata": {},
   "outputs": [],
   "source": [
    "df_cpy = df.copy()\n",
    "df_cpy['goals_per_60'] = (df['I_F_goals'] / df['icetime']) * 60\n",
    "df_cpy['xG_per_60'] = (df['I_F_xGoals'] / df['icetime']) * 60"
   ]
  },
  {
   "cell_type": "code",
   "execution_count": null,
   "id": "85d4d40d",
   "metadata": {},
   "outputs": [],
   "source": [
    "plot_utils.plot_histograms_by_group(\n",
    "    df_cpy,\n",
    "    group_col=\"situation\",\n",
    "    hist_col=\"goals_per_60\",\n",
    "    derived_cols_funcs={\n",
    "        \"goals_per_60\": lambda d: (d[\"I_F_goals\"] / d[\"icetime\"]) * 60,\n",
    "        \"xG_per_60\": lambda d: (d[\"I_F_xGoals\"] / d[\"icetime\"]) * 60\n",
    "    }\n",
    ")"
   ]
  },
  {
   "cell_type": "code",
   "execution_count": null,
   "id": "9f27b934",
   "metadata": {},
   "outputs": [],
   "source": [
    "box = plot_utils.create_interactive_boxplot(\n",
    "    df=df_cpy,\n",
    "    x=\"position\",\n",
    "    y=\"goals_per_60\",\n",
    "    filter_col=\"situation\",\n",
    "    title=\"Goals per 60 by Position\",\n",
    "    default_filter_value=\"all\"\n",
    ")\n",
    "\n",
    "box.show()"
   ]
  },
  {
   "cell_type": "code",
   "execution_count": null,
   "id": "6bf7866d",
   "metadata": {},
   "outputs": [],
   "source": [
    "chart = plot_utils.create_interactive_scatter(\n",
    "    df=df_cpy,\n",
    "    x='xG_per_60',\n",
    "    y='goals_per_60',\n",
    "    category='position',\n",
    "    filter_col='situation',\n",
    "    tooltip_cols=['name', 'team', 'position', 'goals_per_60', 'xG_per_60'],\n",
    "    title='Goals per 60 vs xG per 60 by Situation',\n",
    "    default_filter_value='all'\n",
    ")\n",
    "\n",
    "chart.show()"
   ]
  }
 ],
 "metadata": {
  "kernelspec": {
   "display_name": "venv",
   "language": "python",
   "name": "python3"
  },
  "language_info": {
   "codemirror_mode": {
    "name": "ipython",
    "version": 3
   },
   "file_extension": ".py",
   "mimetype": "text/x-python",
   "name": "python",
   "nbconvert_exporter": "python",
   "pygments_lexer": "ipython3",
   "version": "3.13.5"
  }
 },
 "nbformat": 4,
 "nbformat_minor": 5
}

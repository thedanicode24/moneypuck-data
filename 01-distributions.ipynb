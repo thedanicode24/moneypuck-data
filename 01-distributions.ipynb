{
 "cells": [
  {
   "cell_type": "markdown",
   "metadata": {},
   "source": [
    "# Skaters (Season 2024/25) - Distributions"
   ]
  },
  {
   "cell_type": "markdown",
   "id": "4c4be536",
   "metadata": {},
   "source": [
    "## Step 0: Import libraries"
   ]
  },
  {
   "cell_type": "code",
   "execution_count": 118,
   "id": "711210a5",
   "metadata": {},
   "outputs": [],
   "source": [
    "import pandas as pd\n",
    "import numpy as np\n",
    "\n",
    "import os"
   ]
  },
  {
   "cell_type": "code",
   "execution_count": 119,
   "id": "a49005d4",
   "metadata": {},
   "outputs": [],
   "source": [
    "from utils import df_utils, distributions_utils"
   ]
  },
  {
   "cell_type": "markdown",
   "id": "be3d9656",
   "metadata": {},
   "source": [
    "## Step 1: Import the dataset"
   ]
  },
  {
   "cell_type": "code",
   "execution_count": 120,
   "id": "7fc6538f",
   "metadata": {},
   "outputs": [
    {
     "data": {
      "text/html": [
       "<div>\n",
       "<style scoped>\n",
       "    .dataframe tbody tr th:only-of-type {\n",
       "        vertical-align: middle;\n",
       "    }\n",
       "\n",
       "    .dataframe tbody tr th {\n",
       "        vertical-align: top;\n",
       "    }\n",
       "\n",
       "    .dataframe thead th {\n",
       "        text-align: right;\n",
       "    }\n",
       "</style>\n",
       "<table border=\"1\" class=\"dataframe\">\n",
       "  <thead>\n",
       "    <tr style=\"text-align: right;\">\n",
       "      <th></th>\n",
       "      <th>playerId</th>\n",
       "      <th>season</th>\n",
       "      <th>name</th>\n",
       "      <th>team</th>\n",
       "      <th>position</th>\n",
       "      <th>situation</th>\n",
       "      <th>games_played</th>\n",
       "      <th>icetime</th>\n",
       "      <th>shifts</th>\n",
       "      <th>gameScore</th>\n",
       "      <th>...</th>\n",
       "      <th>OffIce_F_xGoals</th>\n",
       "      <th>OffIce_A_xGoals</th>\n",
       "      <th>OffIce_F_shotAttempts</th>\n",
       "      <th>OffIce_A_shotAttempts</th>\n",
       "      <th>xGoalsForAfterShifts</th>\n",
       "      <th>xGoalsAgainstAfterShifts</th>\n",
       "      <th>corsiForAfterShifts</th>\n",
       "      <th>corsiAgainstAfterShifts</th>\n",
       "      <th>fenwickForAfterShifts</th>\n",
       "      <th>fenwickAgainstAfterShifts</th>\n",
       "    </tr>\n",
       "  </thead>\n",
       "  <tbody>\n",
       "    <tr>\n",
       "      <th>0</th>\n",
       "      <td>8478047</td>\n",
       "      <td>2024</td>\n",
       "      <td>Michael Bunting</td>\n",
       "      <td>NSH</td>\n",
       "      <td>L</td>\n",
       "      <td>other</td>\n",
       "      <td>76</td>\n",
       "      <td>2237.0</td>\n",
       "      <td>37.0</td>\n",
       "      <td>26.19</td>\n",
       "      <td>...</td>\n",
       "      <td>7.28</td>\n",
       "      <td>10.09</td>\n",
       "      <td>72.0</td>\n",
       "      <td>87.0</td>\n",
       "      <td>0.00</td>\n",
       "      <td>0.00</td>\n",
       "      <td>0.0</td>\n",
       "      <td>0.0</td>\n",
       "      <td>0.0</td>\n",
       "      <td>0.0</td>\n",
       "    </tr>\n",
       "    <tr>\n",
       "      <th>1</th>\n",
       "      <td>8478047</td>\n",
       "      <td>2024</td>\n",
       "      <td>Michael Bunting</td>\n",
       "      <td>NSH</td>\n",
       "      <td>L</td>\n",
       "      <td>all</td>\n",
       "      <td>76</td>\n",
       "      <td>70819.0</td>\n",
       "      <td>1474.0</td>\n",
       "      <td>43.70</td>\n",
       "      <td>...</td>\n",
       "      <td>161.54</td>\n",
       "      <td>187.75</td>\n",
       "      <td>3221.0</td>\n",
       "      <td>3522.0</td>\n",
       "      <td>0.00</td>\n",
       "      <td>0.00</td>\n",
       "      <td>0.0</td>\n",
       "      <td>0.0</td>\n",
       "      <td>0.0</td>\n",
       "      <td>0.0</td>\n",
       "    </tr>\n",
       "    <tr>\n",
       "      <th>2</th>\n",
       "      <td>8478047</td>\n",
       "      <td>2024</td>\n",
       "      <td>Michael Bunting</td>\n",
       "      <td>NSH</td>\n",
       "      <td>L</td>\n",
       "      <td>5on5</td>\n",
       "      <td>76</td>\n",
       "      <td>59813.0</td>\n",
       "      <td>1294.0</td>\n",
       "      <td>43.70</td>\n",
       "      <td>...</td>\n",
       "      <td>112.73</td>\n",
       "      <td>122.08</td>\n",
       "      <td>2661.0</td>\n",
       "      <td>2707.0</td>\n",
       "      <td>0.71</td>\n",
       "      <td>1.71</td>\n",
       "      <td>19.0</td>\n",
       "      <td>43.0</td>\n",
       "      <td>16.0</td>\n",
       "      <td>31.0</td>\n",
       "    </tr>\n",
       "    <tr>\n",
       "      <th>3</th>\n",
       "      <td>8478047</td>\n",
       "      <td>2024</td>\n",
       "      <td>Michael Bunting</td>\n",
       "      <td>NSH</td>\n",
       "      <td>L</td>\n",
       "      <td>4on5</td>\n",
       "      <td>76</td>\n",
       "      <td>6.0</td>\n",
       "      <td>2.0</td>\n",
       "      <td>2.58</td>\n",
       "      <td>...</td>\n",
       "      <td>0.20</td>\n",
       "      <td>0.17</td>\n",
       "      <td>4.0</td>\n",
       "      <td>11.0</td>\n",
       "      <td>0.00</td>\n",
       "      <td>0.00</td>\n",
       "      <td>0.0</td>\n",
       "      <td>0.0</td>\n",
       "      <td>0.0</td>\n",
       "      <td>0.0</td>\n",
       "    </tr>\n",
       "    <tr>\n",
       "      <th>4</th>\n",
       "      <td>8478047</td>\n",
       "      <td>2024</td>\n",
       "      <td>Michael Bunting</td>\n",
       "      <td>NSH</td>\n",
       "      <td>L</td>\n",
       "      <td>5on4</td>\n",
       "      <td>76</td>\n",
       "      <td>8763.0</td>\n",
       "      <td>141.0</td>\n",
       "      <td>36.88</td>\n",
       "      <td>...</td>\n",
       "      <td>23.81</td>\n",
       "      <td>2.60</td>\n",
       "      <td>311.0</td>\n",
       "      <td>54.0</td>\n",
       "      <td>0.00</td>\n",
       "      <td>0.01</td>\n",
       "      <td>0.0</td>\n",
       "      <td>1.0</td>\n",
       "      <td>0.0</td>\n",
       "      <td>1.0</td>\n",
       "    </tr>\n",
       "  </tbody>\n",
       "</table>\n",
       "<p>5 rows × 154 columns</p>\n",
       "</div>"
      ],
      "text/plain": [
       "   playerId  season             name team position situation  games_played  \\\n",
       "0   8478047    2024  Michael Bunting  NSH        L     other            76   \n",
       "1   8478047    2024  Michael Bunting  NSH        L       all            76   \n",
       "2   8478047    2024  Michael Bunting  NSH        L      5on5            76   \n",
       "3   8478047    2024  Michael Bunting  NSH        L      4on5            76   \n",
       "4   8478047    2024  Michael Bunting  NSH        L      5on4            76   \n",
       "\n",
       "   icetime  shifts  gameScore  ...  OffIce_F_xGoals  OffIce_A_xGoals  \\\n",
       "0   2237.0    37.0      26.19  ...             7.28            10.09   \n",
       "1  70819.0  1474.0      43.70  ...           161.54           187.75   \n",
       "2  59813.0  1294.0      43.70  ...           112.73           122.08   \n",
       "3      6.0     2.0       2.58  ...             0.20             0.17   \n",
       "4   8763.0   141.0      36.88  ...            23.81             2.60   \n",
       "\n",
       "   OffIce_F_shotAttempts  OffIce_A_shotAttempts  xGoalsForAfterShifts  \\\n",
       "0                   72.0                   87.0                  0.00   \n",
       "1                 3221.0                 3522.0                  0.00   \n",
       "2                 2661.0                 2707.0                  0.71   \n",
       "3                    4.0                   11.0                  0.00   \n",
       "4                  311.0                   54.0                  0.00   \n",
       "\n",
       "   xGoalsAgainstAfterShifts  corsiForAfterShifts  corsiAgainstAfterShifts  \\\n",
       "0                      0.00                  0.0                      0.0   \n",
       "1                      0.00                  0.0                      0.0   \n",
       "2                      1.71                 19.0                     43.0   \n",
       "3                      0.00                  0.0                      0.0   \n",
       "4                      0.01                  0.0                      1.0   \n",
       "\n",
       "   fenwickForAfterShifts  fenwickAgainstAfterShifts  \n",
       "0                    0.0                        0.0  \n",
       "1                    0.0                        0.0  \n",
       "2                   16.0                       31.0  \n",
       "3                    0.0                        0.0  \n",
       "4                    0.0                        1.0  \n",
       "\n",
       "[5 rows x 154 columns]"
      ]
     },
     "execution_count": 120,
     "metadata": {},
     "output_type": "execute_result"
    }
   ],
   "source": [
    "skaters_df = \"https://moneypuck.com/moneypuck/playerData/seasonSummary/2024/regular/skaters.csv\"\n",
    "df = pd.read_csv(skaters_df)\n",
    "df.head(5)"
   ]
  },
  {
   "cell_type": "markdown",
   "id": "1b0250df",
   "metadata": {},
   "source": [
    "## Step 2: Read the data"
   ]
  },
  {
   "cell_type": "code",
   "execution_count": 121,
   "id": "f9f33655",
   "metadata": {},
   "outputs": [
    {
     "name": "stdout",
     "output_type": "stream",
     "text": [
      "Number of samples: 4600\n",
      "Number of features: 154\n"
     ]
    }
   ],
   "source": [
    "df_utils.print_df_size(df)"
   ]
  },
  {
   "cell_type": "code",
   "execution_count": 122,
   "id": "f8747b76",
   "metadata": {},
   "outputs": [
    {
     "name": "stdout",
     "output_type": "stream",
     "text": [
      "Saved: names_columns.txt\n"
     ]
    }
   ],
   "source": [
    "df_utils.save_column_names(df)"
   ]
  },
  {
   "cell_type": "code",
   "execution_count": 123,
   "id": "fd7f2cb2",
   "metadata": {},
   "outputs": [
    {
     "name": "stdout",
     "output_type": "stream",
     "text": [
      "<class 'pandas.core.frame.DataFrame'>\n",
      "RangeIndex: 4600 entries, 0 to 4599\n",
      "Columns: 154 entries, playerId to fenwickAgainstAfterShifts\n",
      "dtypes: float64(147), int64(3), object(4)\n",
      "memory usage: 5.4+ MB\n"
     ]
    }
   ],
   "source": [
    "df.info()"
   ]
  },
  {
   "cell_type": "markdown",
   "id": "a7fd60b5",
   "metadata": {},
   "source": [
    "## Step 3: Data cleaning"
   ]
  },
  {
   "cell_type": "code",
   "execution_count": 124,
   "id": "12d4ce14",
   "metadata": {},
   "outputs": [
    {
     "name": "stdout",
     "output_type": "stream",
     "text": [
      "No missing values found.\n"
     ]
    }
   ],
   "source": [
    "# Missing values?\n",
    "df_utils.report_nan(df)"
   ]
  },
  {
   "cell_type": "markdown",
   "id": "b1d2cf58",
   "metadata": {},
   "source": [
    "## Step 4: Summary statistics and Frequency Tables"
   ]
  },
  {
   "cell_type": "code",
   "execution_count": 125,
   "id": "b44b0eee",
   "metadata": {},
   "outputs": [
    {
     "name": "stdout",
     "output_type": "stream",
     "text": [
      "Top goal scorer: Leon Draisaitl with 52 goals.\n",
      "Top goal scorer in 5-on-4 situations: Jake Guentzel with 15 goals.\n",
      "Top goal scorer in 4-on-5 situations: Alex Tuch with 6 goals.\n"
     ]
    }
   ],
   "source": [
    "feature=\"I_F_goals\"\n",
    "\n",
    "answer = df[df[\"situation\"] == \"all\"].loc[lambda d: d[feature].idxmax()]\n",
    "print(f\"Top goal scorer: {answer[\"name\"]} with {int(answer[feature])} goals.\")\n",
    "\n",
    "answer = df[df[\"situation\"] == \"5on4\"].loc[lambda d: d['I_F_goals'].idxmax()]\n",
    "print(f\"Top goal scorer in 5-on-4 situations: {answer[\"name\"]} with {int(answer[feature])} goals.\")\n",
    "\n",
    "answer = df[df[\"situation\"] == \"4on5\"].loc[lambda d: d['I_F_goals'].idxmax()]\n",
    "print(f\"Top goal scorer in 4-on-5 situations: {answer[\"name\"]} with {int(answer[feature])} goals.\")"
   ]
  },
  {
   "cell_type": "code",
   "execution_count": 126,
   "id": "e256e87b",
   "metadata": {},
   "outputs": [
    {
     "name": "stdout",
     "output_type": "stream",
     "text": [
      "Mean: 8.58\n",
      "Variance: 96.74\n",
      "Standard deviation: 9.83\n",
      "Mode: 0.0\n"
     ]
    },
    {
     "data": {
      "image/png": "[encoded data removed]",
      "text/plain": [
       "<Figure size 450x262.5 with 1 Axes>"
      ]
     },
     "metadata": {},
     "output_type": "display_data"
    }
   ],
   "source": [
    "situation = \"all\"\n",
    "feature = \"I_F_goals\"\n",
    "\n",
    "all_situations_df = df[df[\"situation\"]==situation]\n",
    "distributions_utils.plot_ftab(all_situations_df, feature, xlabel=\"Goals\")"
   ]
  },
  {
   "cell_type": "markdown",
   "id": "3c7058b7",
   "metadata": {},
   "source": [
    "In the previous chart, the mode was 0 goals, largely due to players with limited ice time. \n",
    "\n",
    "To focus on meaningful performance, this chart includes only skaters who played a minimum number of games."
   ]
  },
  {
   "cell_type": "code",
   "execution_count": 127,
   "id": "6235d80e",
   "metadata": {},
   "outputs": [
    {
     "name": "stdout",
     "output_type": "stream",
     "text": [
      "Mean: 11.19\n",
      "Variance: 99.17\n",
      "Standard deviation: 9.95\n",
      "Mode: 4.0\n"
     ]
    },
    {
     "data": {
      "image/png": "[encoded data removed]",
      "text/plain": [
       "<Figure size 450x262.5 with 1 Axes>"
      ]
     },
     "metadata": {},
     "output_type": "display_data"
    }
   ],
   "source": [
    "situation = \"all\"\n",
    "feature = \"I_F_goals\"\n",
    "min_games_played = 20\n",
    "\n",
    "all_situations_df = df[(df[\"situation\"] == situation) & (df[\"games_played\"] >= min_games_played)]\n",
    "distributions_utils.plot_ftab(all_situations_df, feature, xlabel=\"Goals\")"
   ]
  },
  {
   "cell_type": "code",
   "execution_count": 128,
   "id": "5cdccfbe",
   "metadata": {},
   "outputs": [
    {
     "name": "stdout",
     "output_type": "stream",
     "text": [
      "Cohen's effect size: 1.15\n"
     ]
    },
    {
     "data": {
      "image/png": "[encoded data removed]",
      "text/plain": [
       "<Figure size 450x262.5 with 1 Axes>"
      ]
     },
     "metadata": {},
     "output_type": "display_data"
    }
   ],
   "source": [
    "situation = \"all\"\n",
    "feature = \"I_F_goals\"\n",
    "min_games_played = 20\n",
    "\n",
    "all_situations_df = df[(df[\"situation\"] == situation) & (df[\"games_played\"] >= min_games_played)]\n",
    "df1 = all_situations_df[all_situations_df[\"position\"]!=\"D\"]\n",
    "df2 = all_situations_df[all_situations_df[\"position\"]==\"D\"]\n",
    "\n",
    "distributions_utils.plot_two_ftabs(df1, df2, feature, name1=\"Forward\", name2=\"Defencemen\")"
   ]
  },
  {
   "cell_type": "code",
   "execution_count": 129,
   "id": "5443758b",
   "metadata": {},
   "outputs": [
    {
     "name": "stdout",
     "output_type": "stream",
     "text": [
      "Top point scorer: Nikita Kucherov with 121 points.\n",
      "Top point scorer in 5-on-4 situations: Nikita Kucherov with 39 points.\n",
      "Top point scorer in 4-on-5 situations: Alex Tuch with 8 points.\n"
     ]
    }
   ],
   "source": [
    "feature=\"I_F_points\"\n",
    "\n",
    "answer = df[df[\"situation\"] == \"all\"].loc[lambda d: d[feature].idxmax()]\n",
    "print(f\"Top point scorer: {answer[\"name\"]} with {int(answer[feature])} points.\")\n",
    "\n",
    "answer = df[df[\"situation\"] == \"5on4\"].loc[lambda d: d[feature].idxmax()]\n",
    "print(f\"Top point scorer in 5-on-4 situations: {answer[\"name\"]} with {int(answer[feature])} points.\")\n",
    "\n",
    "answer = df[df[\"situation\"] == \"4on5\"].loc[lambda d: d[feature].idxmax()]\n",
    "print(f\"Top point scorer in 4-on-5 situations: {answer[\"name\"]} with {int(answer[feature])} points.\")"
   ]
  },
  {
   "cell_type": "code",
   "execution_count": 130,
   "id": "235ebec2",
   "metadata": {},
   "outputs": [
    {
     "name": "stdout",
     "output_type": "stream",
     "text": [
      "Mean: 29.96\n",
      "Variance: 508.01\n",
      "Standard deviation: 22.52\n",
      "Mode: [7. 8.]\n"
     ]
    },
    {
     "data": {
      "image/png": "[encoded data removed]",
      "text/plain": [
       "<Figure size 450x262.5 with 1 Axes>"
      ]
     },
     "metadata": {},
     "output_type": "display_data"
    }
   ],
   "source": [
    "situation = \"all\"\n",
    "feature = \"I_F_points\"\n",
    "min_games_played = 20\n",
    "\n",
    "all_situations_df = df[(df[\"situation\"] == situation) & (df[\"games_played\"] >= min_games_played)]\n",
    "distributions_utils.plot_ftab(all_situations_df, feature, xlabel=\"Points\")"
   ]
  },
  {
   "cell_type": "code",
   "execution_count": 131,
   "id": "15390300",
   "metadata": {},
   "outputs": [
    {
     "name": "stdout",
     "output_type": "stream",
     "text": [
      "Cohen's effect size: 0.61\n"
     ]
    },
    {
     "data": {
      "image/png": "[encoded data removed]",
      "text/plain": [
       "<Figure size 450x262.5 with 1 Axes>"
      ]
     },
     "metadata": {},
     "output_type": "display_data"
    }
   ],
   "source": [
    "situation = \"all\"\n",
    "feature = \"I_F_points\"\n",
    "min_games_played = 20\n",
    "\n",
    "all_situations_df = df[(df[\"situation\"] == situation) & (df[\"games_played\"] >= min_games_played)]\n",
    "df1 = all_situations_df[all_situations_df[\"position\"]!=\"D\"]\n",
    "df2 = all_situations_df[all_situations_df[\"position\"]==\"D\"]\n",
    "\n",
    "distributions_utils.plot_two_ftabs(df1, df2, feature, name1=\"Forward\", name2=\"Defencemen\")"
   ]
  },
  {
   "cell_type": "code",
   "execution_count": 132,
   "id": "6f51831f",
   "metadata": {},
   "outputs": [
    {
     "name": "stdout",
     "output_type": "stream",
     "text": [
      "Player with most penality minutes: Mathieu Olivier with 129.0 minutes.\n"
     ]
    }
   ],
   "source": [
    "feature=\"I_F_penalityMinutes\"\n",
    "\n",
    "answer = df[df[\"situation\"] == \"all\"].loc[lambda d: d[feature].idxmax()]\n",
    "print(f\"Player with most penality minutes: {answer[\"name\"]} with {answer[feature]} minutes.\")"
   ]
  },
  {
   "cell_type": "code",
   "execution_count": 133,
   "id": "9ec15cfc",
   "metadata": {},
   "outputs": [
    {
     "name": "stdout",
     "output_type": "stream",
     "text": [
      "Mean: 26.57\n",
      "Variance: 332.98\n",
      "Standard deviation: 18.23\n",
      "Mode: [14. 16.]\n"
     ]
    },
    {
     "data": {
      "image/png": "[encoded data removed]",
      "text/plain": [
       "<Figure size 450x262.5 with 1 Axes>"
      ]
     },
     "metadata": {},
     "output_type": "display_data"
    }
   ],
   "source": [
    "situation = \"all\"\n",
    "feature = \"I_F_penalityMinutes\"\n",
    "min_games_played = 20\n",
    "\n",
    "all_situations_df = df[(df[\"situation\"] == situation) & (df[\"games_played\"] >= min_games_played)]\n",
    "distributions_utils.plot_ftab(all_situations_df, feature, xlabel=\"Penality minutes\")"
   ]
  },
  {
   "cell_type": "code",
   "execution_count": 134,
   "id": "3e5d0230",
   "metadata": {},
   "outputs": [
    {
     "name": "stdout",
     "output_type": "stream",
     "text": [
      "Cohen's effect size: -0.12\n"
     ]
    },
    {
     "data": {
      "image/png": "[encoded data removed]",
      "text/plain": [
       "<Figure size 450x262.5 with 1 Axes>"
      ]
     },
     "metadata": {},
     "output_type": "display_data"
    }
   ],
   "source": [
    "situation = \"all\"\n",
    "feature = \"I_F_penalityMinutes\"\n",
    "min_games_played = 20\n",
    "\n",
    "all_situations_df = df[(df[\"situation\"] == situation) & (df[\"games_played\"] >= min_games_played)]\n",
    "df1 = all_situations_df[all_situations_df[\"position\"]!=\"D\"]\n",
    "df2 = all_situations_df[all_situations_df[\"position\"]==\"D\"]\n",
    "\n",
    "distributions_utils.plot_two_ftabs(df1, df2, feature, name1=\"Forward\", name2=\"Defencemen\")"
   ]
  },
  {
   "cell_type": "markdown",
   "id": "8df7a09b",
   "metadata": {},
   "source": [
    "**Icetime** feature is converted from seconds to minutes."
   ]
  },
  {
   "cell_type": "code",
   "execution_count": 135,
   "id": "7a3a1d7e",
   "metadata": {},
   "outputs": [
    {
     "name": "stdout",
     "output_type": "stream",
     "text": [
      "Player with most icetime minutes: Zach Werenski with 2166.37 minutes.\n"
     ]
    }
   ],
   "source": [
    "feature=\"icetime\"\n",
    "\n",
    "icetime_df = df.copy()\n",
    "icetime_df[feature] = icetime_df[feature] / 60\n",
    "\n",
    "answer = icetime_df[icetime_df[\"situation\"]==\"all\"].loc[lambda d: d[feature].idxmax()]\n",
    "print(f\"Player with most icetime minutes: {answer[\"name\"]} with {answer[feature]:.2f} minutes.\")"
   ]
  },
  {
   "cell_type": "markdown",
   "id": "8cfb7f67",
   "metadata": {},
   "source": [
    "To improve readability and avoid excessive granularity, icetime was converted from seconds to whole hours. \n",
    "\n",
    "This reduces noise in the frequency table and highlights broader patterns in playing time among skaters who played at least 20 games."
   ]
  },
  {
   "cell_type": "code",
   "execution_count": 136,
   "id": "0eee9549",
   "metadata": {},
   "outputs": [
    {
     "name": "stdout",
     "output_type": "stream",
     "text": [
      "Mean: 17.69\n",
      "Variance: 54.28\n",
      "Standard deviation: 7.36\n",
      "Mode: 19.0\n"
     ]
    },
    {
     "data": {
      "image/png": "[encoded data removed]",
      "text/plain": [
       "<Figure size 450x262.5 with 1 Axes>"
      ]
     },
     "metadata": {},
     "output_type": "display_data"
    }
   ],
   "source": [
    "situation = \"all\"\n",
    "feature = \"icetime\"\n",
    "min_games_played = 20\n",
    "\n",
    "all_situations_df = df[(df[\"situation\"] == situation) & (df[\"games_played\"] >= min_games_played)]\n",
    "all_situations_df.loc[:, feature] = all_situations_df[feature] // 3600\n",
    "distributions_utils.plot_ftab(all_situations_df, feature, xlabel=\"Hours\")"
   ]
  },
  {
   "cell_type": "code",
   "execution_count": 137,
   "id": "ad003519",
   "metadata": {},
   "outputs": [
    {
     "name": "stdout",
     "output_type": "stream",
     "text": [
      "Cohen's effect size: -0.50\n"
     ]
    },
    {
     "data": {
      "image/png": "[encoded data removed]",
      "text/plain": [
       "<Figure size 450x262.5 with 1 Axes>"
      ]
     },
     "metadata": {},
     "output_type": "display_data"
    }
   ],
   "source": [
    "situation = \"all\"\n",
    "feature = \"icetime\"\n",
    "min_games_played = 20\n",
    "\n",
    "all_situations_df = df[(df[\"situation\"] == situation) & (df[\"games_played\"] >= min_games_played)]\n",
    "all_situations_df.loc[:, feature] = all_situations_df[feature] // 3600\n",
    "df1 = all_situations_df[all_situations_df[\"position\"]!=\"D\"]\n",
    "df2 = all_situations_df[all_situations_df[\"position\"]==\"D\"]\n",
    "\n",
    "distributions_utils.plot_two_ftabs(df1, df2, feature, name1=\"Forward\", name2=\"Defencemen\")"
   ]
  },
  {
   "cell_type": "code",
   "execution_count": 138,
   "id": "0c89969e",
   "metadata": {},
   "outputs": [
    {
     "name": "stdout",
     "output_type": "stream",
     "text": [
      "Player with most hits: Kiefer Sherwood with 462 hits.\n"
     ]
    }
   ],
   "source": [
    "feature=\"I_F_hits\"\n",
    "\n",
    "answer = df[df[\"situation\"] == \"all\"].loc[lambda d: d[feature].idxmax()]\n",
    "print(f\"Player with most hits: {answer[\"name\"]} with {int(answer[feature])} hits.\")"
   ]
  },
  {
   "cell_type": "code",
   "execution_count": 144,
   "id": "459fc145",
   "metadata": {},
   "outputs": [
    {
     "name": "stdout",
     "output_type": "stream",
     "text": [
      "Mean: 78.08\n",
      "Variance: 3317.59\n",
      "Standard deviation: 57.56\n",
      "Mode: [19. 26. 50.]\n"
     ]
    },
    {
     "data": {
      "image/png": "[encoded data removed]",
      "text/plain": [
       "<Figure size 450x262.5 with 1 Axes>"
      ]
     },
     "metadata": {},
     "output_type": "display_data"
    }
   ],
   "source": [
    "situation = \"all\"\n",
    "feature = \"I_F_hits\"\n",
    "min_games_played = 20\n",
    "\n",
    "all_situations_df = df[(df[\"situation\"] == situation) & (df[\"games_played\"] >= min_games_played)]\n",
    "distributions_utils.plot_ftab(all_situations_df, feature, xlabel=\"Hits\")"
   ]
  },
  {
   "cell_type": "code",
   "execution_count": 140,
   "id": "0eb459d7",
   "metadata": {},
   "outputs": [
    {
     "name": "stdout",
     "output_type": "stream",
     "text": [
      "Cohen's effect size: 0.26\n"
     ]
    },
    {
     "data": {
      "image/png": "[encoded data removed]",
      "text/plain": [
       "<Figure size 450x262.5 with 1 Axes>"
      ]
     },
     "metadata": {},
     "output_type": "display_data"
    }
   ],
   "source": [
    "situation = \"all\"\n",
    "feature = \"I_F_hits\"\n",
    "min_games_played = 20\n",
    "\n",
    "all_situations_df = df[(df[\"situation\"] == situation) & (df[\"games_played\"] >= min_games_played)]\n",
    "df1 = all_situations_df[all_situations_df[\"position\"]!=\"D\"]\n",
    "df2 = all_situations_df[all_situations_df[\"position\"]==\"D\"]\n",
    "\n",
    "distributions_utils.plot_two_ftabs(df1, df2, feature, name1=\"Forward\", name2=\"Defencemen\")"
   ]
  },
  {
   "cell_type": "code",
   "execution_count": 141,
   "id": "4fd2747e",
   "metadata": {},
   "outputs": [
    {
     "name": "stdout",
     "output_type": "stream",
     "text": [
      "Player with most blocked shot attempts: Cale Makar with 231 blocks.\n"
     ]
    }
   ],
   "source": [
    "feature=\"I_F_blockedShotAttempts\"\n",
    "\n",
    "answer = df[df[\"situation\"] == \"all\"].loc[lambda d: d[feature].idxmax()]\n",
    "print(f\"Player with most blocked shot attempts: {answer[\"name\"]} with {int(answer[feature])} blocks.\")"
   ]
  },
  {
   "cell_type": "code",
   "execution_count": 145,
   "id": "a7cab1c1",
   "metadata": {},
   "outputs": [
    {
     "name": "stdout",
     "output_type": "stream",
     "text": [
      "Mean: 61.47\n",
      "Variance: 1504.99\n",
      "Standard deviation: 38.77\n",
      "Mode: 51.0\n"
     ]
    },
    {
     "data": {
      "image/png": "[encoded data removed]",
      "text/plain": [
       "<Figure size 450x262.5 with 1 Axes>"
      ]
     },
     "metadata": {},
     "output_type": "display_data"
    }
   ],
   "source": [
    "situation = \"all\"\n",
    "feature = \"I_F_blockedShotAttempts\"\n",
    "min_games_played = 20\n",
    "\n",
    "all_situations_df = df[(df[\"situation\"] == situation) & (df[\"games_played\"] >= min_games_played)]\n",
    "distributions_utils.plot_ftab(all_situations_df, feature, xlabel=\"Blocked shots attempts\")"
   ]
  },
  {
   "cell_type": "code",
   "execution_count": 143,
   "id": "81e28c60",
   "metadata": {},
   "outputs": [
    {
     "name": "stdout",
     "output_type": "stream",
     "text": [
      "Cohen's effect size: -0.73\n"
     ]
    },
    {
     "data": {
      "image/png": "[encoded data removed]",
      "text/plain": [
       "<Figure size 450x262.5 with 1 Axes>"
      ]
     },
     "metadata": {},
     "output_type": "display_data"
    }
   ],
   "source": [
    "situation = \"all\"\n",
    "feature = \"I_F_blockedShotAttempts\"\n",
    "min_games_played = 20\n",
    "\n",
    "all_situations_df = df[(df[\"situation\"] == situation) & (df[\"games_played\"] >= min_games_played)]\n",
    "df1 = all_situations_df[all_situations_df[\"position\"]!=\"D\"]\n",
    "df2 = all_situations_df[all_situations_df[\"position\"]==\"D\"]\n",
    "\n",
    "distributions_utils.plot_two_ftabs(df1, df2, feature, name1=\"Forward\", name2=\"Defencemen\")"
   ]
  },
  {
   "cell_type": "code",
   "execution_count": null,
   "id": "0ce86345",
   "metadata": {},
   "outputs": [],
   "source": []
  }
 ],
 "metadata": {
  "kernelspec": {
   "display_name": "Python(venv)",
   "language": "python",
   "name": "venv"
  },
  "language_info": {
   "codemirror_mode": {
    "name": "ipython",
    "version": 3
   },
   "file_extension": ".py",
   "mimetype": "text/x-python",
   "name": "python",
   "nbconvert_exporter": "python",
   "pygments_lexer": "ipython3",
   "version": "3.13.5"
  }
 },
 "nbformat": 4,
 "nbformat_minor": 5
}

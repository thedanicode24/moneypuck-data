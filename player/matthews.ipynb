{
 "cells": [
  {
   "cell_type": "markdown",
   "id": "ac2cfed8",
   "metadata": {},
   "source": [
    "# Player career"
   ]
  },
  {
   "cell_type": "markdown",
   "id": "7aa0032d",
   "metadata": {},
   "source": [
    "**Game Score** is a metric created by Dom Luszczyszyn (The Athletic) to quantify a player’s performance in a single game, assigning specific weights to on-ice results. Dom first developed the formula in 2016, weighting goals, primary assists, secondary assists, shots on goal, blocked shots, penalty differential, faceoffs, 5-on-5 Corsi differential, and 5-on-5 goal differential. In this initial version, forwards and defensemen were evaluated equally. In 2020, he updated the metric: Corsi was replaced with xG (Expected Goals), and weights were adjusted differently for the two player types. The formula for goaltenders remained unchanged.\n",
    "\n",
    "Reference: [NHL.com](https://www.nhl.com/kraken/news/evaluating-single-game-performances-using-game-score-330146096), [NY Times](https://www.nytimes.com/athletic/1019070/2019/06/14/improving-our-nhl-projection-model-ahead-of-the-2019-20-season/), [Hockey Graphs](https://hockey-graphs.com/2016/07/13/measuring-single-game-productivity-an-introduction-to-game-score/) (original calculation)"
   ]
  },
  {
   "cell_type": "markdown",
   "id": "4c4be536",
   "metadata": {},
   "source": [
    "### Import libraries"
   ]
  },
  {
   "cell_type": "code",
   "execution_count": 41,
   "id": "711210a5",
   "metadata": {},
   "outputs": [],
   "source": [
    "import sys\n",
    "import os\n",
    "import pandas as pd"
   ]
  },
  {
   "cell_type": "code",
   "execution_count": 42,
   "id": "86ae2a79",
   "metadata": {},
   "outputs": [],
   "source": [
    "project_root = os.path.abspath(os.path.join(os.getcwd(), \"..\"))\n",
    "if project_root not in sys.path:\n",
    "    sys.path.insert(0, project_root)"
   ]
  },
  {
   "cell_type": "code",
   "execution_count": 43,
   "id": "a49005d4",
   "metadata": {},
   "outputs": [],
   "source": [
    "from utils import data_cleaning\n",
    "from utils import distribution_analysis as da\n",
    "from utils import discrete_distribution_models as ddm\n",
    "from utils import feature_engineering\n",
    "from utils import correlation_analysis\n",
    "from utils import hypothesis_testing\n",
    "from utils import regression_analysis"
   ]
  },
  {
   "cell_type": "markdown",
   "id": "be3d9656",
   "metadata": {},
   "source": [
    "### Import the dataset"
   ]
  },
  {
   "cell_type": "code",
   "execution_count": 49,
   "id": "7fc6538f",
   "metadata": {},
   "outputs": [
    {
     "data": {
      "application/vnd.microsoft.datawrangler.viewer.v0+json": {
       "columns": [
        {
         "name": "index",
         "rawType": "int64",
         "type": "integer"
        },
        {
         "name": "playerId",
         "rawType": "int64",
         "type": "integer"
        },
        {
         "name": "season",
         "rawType": "int64",
         "type": "integer"
        },
        {
         "name": "name",
         "rawType": "object",
         "type": "string"
        },
        {
         "name": "gameId",
         "rawType": "int64",
         "type": "integer"
        },
        {
         "name": "playerTeam",
         "rawType": "object",
         "type": "string"
        },
        {
         "name": "opposingTeam",
         "rawType": "object",
         "type": "string"
        },
        {
         "name": "home_or_away",
         "rawType": "object",
         "type": "string"
        },
        {
         "name": "gameDate",
         "rawType": "int64",
         "type": "integer"
        },
        {
         "name": "position",
         "rawType": "object",
         "type": "string"
        },
        {
         "name": "situation",
         "rawType": "object",
         "type": "string"
        },
        {
         "name": "icetime",
         "rawType": "float64",
         "type": "float"
        },
        {
         "name": "shifts",
         "rawType": "float64",
         "type": "float"
        },
        {
         "name": "gameScore",
         "rawType": "float64",
         "type": "float"
        },
        {
         "name": "onIce_xGoalsPercentage",
         "rawType": "float64",
         "type": "float"
        },
        {
         "name": "offIce_xGoalsPercentage",
         "rawType": "float64",
         "type": "float"
        },
        {
         "name": "onIce_corsiPercentage",
         "rawType": "float64",
         "type": "float"
        },
        {
         "name": "offIce_corsiPercentage",
         "rawType": "float64",
         "type": "float"
        },
        {
         "name": "onIce_fenwickPercentage",
         "rawType": "float64",
         "type": "float"
        },
        {
         "name": "offIce_fenwickPercentage",
         "rawType": "float64",
         "type": "float"
        },
        {
         "name": "iceTimeRank",
         "rawType": "float64",
         "type": "float"
        },
        {
         "name": "I_F_xOnGoal",
         "rawType": "float64",
         "type": "float"
        },
        {
         "name": "I_F_xGoals",
         "rawType": "float64",
         "type": "float"
        },
        {
         "name": "I_F_xRebounds",
         "rawType": "float64",
         "type": "float"
        },
        {
         "name": "I_F_xFreeze",
         "rawType": "float64",
         "type": "float"
        },
        {
         "name": "I_F_xPlayStopped",
         "rawType": "float64",
         "type": "float"
        },
        {
         "name": "I_F_xPlayContinuedInZone",
         "rawType": "float64",
         "type": "float"
        },
        {
         "name": "I_F_xPlayContinuedOutsideZone",
         "rawType": "float64",
         "type": "float"
        },
        {
         "name": "I_F_flurryAdjustedxGoals",
         "rawType": "float64",
         "type": "float"
        },
        {
         "name": "I_F_scoreVenueAdjustedxGoals",
         "rawType": "float64",
         "type": "float"
        },
        {
         "name": "I_F_flurryScoreVenueAdjustedxGoals",
         "rawType": "float64",
         "type": "float"
        },
        {
         "name": "I_F_primaryAssists",
         "rawType": "float64",
         "type": "float"
        },
        {
         "name": "I_F_secondaryAssists",
         "rawType": "float64",
         "type": "float"
        },
        {
         "name": "I_F_shotsOnGoal",
         "rawType": "float64",
         "type": "float"
        },
        {
         "name": "I_F_missedShots",
         "rawType": "float64",
         "type": "float"
        },
        {
         "name": "I_F_blockedShotAttempts",
         "rawType": "float64",
         "type": "float"
        },
        {
         "name": "I_F_shotAttempts",
         "rawType": "float64",
         "type": "float"
        },
        {
         "name": "I_F_points",
         "rawType": "float64",
         "type": "float"
        },
        {
         "name": "I_F_goals",
         "rawType": "float64",
         "type": "float"
        },
        {
         "name": "I_F_rebounds",
         "rawType": "float64",
         "type": "float"
        },
        {
         "name": "I_F_reboundGoals",
         "rawType": "float64",
         "type": "float"
        },
        {
         "name": "I_F_freeze",
         "rawType": "float64",
         "type": "float"
        },
        {
         "name": "I_F_playStopped",
         "rawType": "float64",
         "type": "float"
        },
        {
         "name": "I_F_playContinuedInZone",
         "rawType": "float64",
         "type": "float"
        },
        {
         "name": "I_F_playContinuedOutsideZone",
         "rawType": "float64",
         "type": "float"
        },
        {
         "name": "I_F_savedShotsOnGoal",
         "rawType": "float64",
         "type": "float"
        },
        {
         "name": "I_F_savedUnblockedShotAttempts",
         "rawType": "float64",
         "type": "float"
        },
        {
         "name": "penalties",
         "rawType": "float64",
         "type": "float"
        },
        {
         "name": "I_F_penalityMinutes",
         "rawType": "float64",
         "type": "float"
        },
        {
         "name": "I_F_faceOffsWon",
         "rawType": "float64",
         "type": "float"
        },
        {
         "name": "I_F_hits",
         "rawType": "float64",
         "type": "float"
        },
        {
         "name": "I_F_takeaways",
         "rawType": "float64",
         "type": "float"
        },
        {
         "name": "I_F_giveaways",
         "rawType": "float64",
         "type": "float"
        },
        {
         "name": "I_F_lowDangerShots",
         "rawType": "float64",
         "type": "float"
        },
        {
         "name": "I_F_mediumDangerShots",
         "rawType": "float64",
         "type": "float"
        },
        {
         "name": "I_F_highDangerShots",
         "rawType": "float64",
         "type": "float"
        },
        {
         "name": "I_F_lowDangerxGoals",
         "rawType": "float64",
         "type": "float"
        },
        {
         "name": "I_F_mediumDangerxGoals",
         "rawType": "float64",
         "type": "float"
        },
        {
         "name": "I_F_highDangerxGoals",
         "rawType": "float64",
         "type": "float"
        },
        {
         "name": "I_F_lowDangerGoals",
         "rawType": "float64",
         "type": "float"
        },
        {
         "name": "I_F_mediumDangerGoals",
         "rawType": "float64",
         "type": "float"
        },
        {
         "name": "I_F_highDangerGoals",
         "rawType": "float64",
         "type": "float"
        },
        {
         "name": "I_F_scoreAdjustedShotsAttempts",
         "rawType": "float64",
         "type": "float"
        },
        {
         "name": "I_F_unblockedShotAttempts",
         "rawType": "float64",
         "type": "float"
        },
        {
         "name": "I_F_scoreAdjustedUnblockedShotAttempts",
         "rawType": "float64",
         "type": "float"
        },
        {
         "name": "I_F_dZoneGiveaways",
         "rawType": "float64",
         "type": "float"
        },
        {
         "name": "I_F_xGoalsFromxReboundsOfShots",
         "rawType": "float64",
         "type": "float"
        },
        {
         "name": "I_F_xGoalsFromActualReboundsOfShots",
         "rawType": "float64",
         "type": "float"
        },
        {
         "name": "I_F_reboundxGoals",
         "rawType": "float64",
         "type": "float"
        },
        {
         "name": "I_F_xGoals_with_earned_rebounds",
         "rawType": "float64",
         "type": "float"
        },
        {
         "name": "I_F_xGoals_with_earned_rebounds_scoreAdjusted",
         "rawType": "float64",
         "type": "float"
        },
        {
         "name": "I_F_xGoals_with_earned_rebounds_scoreFlurryAdjusted",
         "rawType": "float64",
         "type": "float"
        },
        {
         "name": "I_F_shifts",
         "rawType": "float64",
         "type": "float"
        },
        {
         "name": "I_F_oZoneShiftStarts",
         "rawType": "float64",
         "type": "float"
        },
        {
         "name": "I_F_dZoneShiftStarts",
         "rawType": "float64",
         "type": "float"
        },
        {
         "name": "I_F_neutralZoneShiftStarts",
         "rawType": "float64",
         "type": "float"
        },
        {
         "name": "I_F_flyShiftStarts",
         "rawType": "float64",
         "type": "float"
        },
        {
         "name": "I_F_oZoneShiftEnds",
         "rawType": "float64",
         "type": "float"
        },
        {
         "name": "I_F_dZoneShiftEnds",
         "rawType": "float64",
         "type": "float"
        },
        {
         "name": "I_F_neutralZoneShiftEnds",
         "rawType": "float64",
         "type": "float"
        },
        {
         "name": "I_F_flyShiftEnds",
         "rawType": "float64",
         "type": "float"
        },
        {
         "name": "faceoffsWon",
         "rawType": "float64",
         "type": "float"
        },
        {
         "name": "faceoffsLost",
         "rawType": "float64",
         "type": "float"
        },
        {
         "name": "timeOnBench",
         "rawType": "float64",
         "type": "float"
        },
        {
         "name": "penalityMinutes",
         "rawType": "float64",
         "type": "float"
        },
        {
         "name": "penalityMinutesDrawn",
         "rawType": "float64",
         "type": "float"
        },
        {
         "name": "penaltiesDrawn",
         "rawType": "float64",
         "type": "float"
        },
        {
         "name": "shotsBlockedByPlayer",
         "rawType": "float64",
         "type": "float"
        },
        {
         "name": "OnIce_F_xOnGoal",
         "rawType": "float64",
         "type": "float"
        },
        {
         "name": "OnIce_F_xGoals",
         "rawType": "float64",
         "type": "float"
        },
        {
         "name": "OnIce_F_flurryAdjustedxGoals",
         "rawType": "float64",
         "type": "float"
        },
        {
         "name": "OnIce_F_scoreVenueAdjustedxGoals",
         "rawType": "float64",
         "type": "float"
        },
        {
         "name": "OnIce_F_flurryScoreVenueAdjustedxGoals",
         "rawType": "float64",
         "type": "float"
        },
        {
         "name": "OnIce_F_shotsOnGoal",
         "rawType": "float64",
         "type": "float"
        },
        {
         "name": "OnIce_F_missedShots",
         "rawType": "float64",
         "type": "float"
        },
        {
         "name": "OnIce_F_blockedShotAttempts",
         "rawType": "float64",
         "type": "float"
        },
        {
         "name": "OnIce_F_shotAttempts",
         "rawType": "float64",
         "type": "float"
        },
        {
         "name": "OnIce_F_goals",
         "rawType": "float64",
         "type": "float"
        },
        {
         "name": "OnIce_F_rebounds",
         "rawType": "float64",
         "type": "float"
        },
        {
         "name": "OnIce_F_reboundGoals",
         "rawType": "float64",
         "type": "float"
        },
        {
         "name": "OnIce_F_lowDangerShots",
         "rawType": "float64",
         "type": "float"
        },
        {
         "name": "OnIce_F_mediumDangerShots",
         "rawType": "float64",
         "type": "float"
        },
        {
         "name": "OnIce_F_highDangerShots",
         "rawType": "float64",
         "type": "float"
        },
        {
         "name": "OnIce_F_lowDangerxGoals",
         "rawType": "float64",
         "type": "float"
        },
        {
         "name": "OnIce_F_mediumDangerxGoals",
         "rawType": "float64",
         "type": "float"
        },
        {
         "name": "OnIce_F_highDangerxGoals",
         "rawType": "float64",
         "type": "float"
        },
        {
         "name": "OnIce_F_lowDangerGoals",
         "rawType": "float64",
         "type": "float"
        },
        {
         "name": "OnIce_F_mediumDangerGoals",
         "rawType": "float64",
         "type": "float"
        },
        {
         "name": "OnIce_F_highDangerGoals",
         "rawType": "float64",
         "type": "float"
        },
        {
         "name": "OnIce_F_scoreAdjustedShotsAttempts",
         "rawType": "float64",
         "type": "float"
        },
        {
         "name": "OnIce_F_unblockedShotAttempts",
         "rawType": "float64",
         "type": "float"
        },
        {
         "name": "OnIce_F_scoreAdjustedUnblockedShotAttempts",
         "rawType": "float64",
         "type": "float"
        },
        {
         "name": "OnIce_F_xGoalsFromxReboundsOfShots",
         "rawType": "float64",
         "type": "float"
        },
        {
         "name": "OnIce_F_xGoalsFromActualReboundsOfShots",
         "rawType": "float64",
         "type": "float"
        },
        {
         "name": "OnIce_F_reboundxGoals",
         "rawType": "float64",
         "type": "float"
        },
        {
         "name": "OnIce_F_xGoals_with_earned_rebounds",
         "rawType": "float64",
         "type": "float"
        },
        {
         "name": "OnIce_F_xGoals_with_earned_rebounds_scoreAdjusted",
         "rawType": "float64",
         "type": "float"
        },
        {
         "name": "OnIce_F_xGoals_with_earned_rebounds_scoreFlurryAdjusted",
         "rawType": "float64",
         "type": "float"
        },
        {
         "name": "OnIce_A_xOnGoal",
         "rawType": "float64",
         "type": "float"
        },
        {
         "name": "OnIce_A_xGoals",
         "rawType": "float64",
         "type": "float"
        },
        {
         "name": "OnIce_A_flurryAdjustedxGoals",
         "rawType": "float64",
         "type": "float"
        },
        {
         "name": "OnIce_A_scoreVenueAdjustedxGoals",
         "rawType": "float64",
         "type": "float"
        },
        {
         "name": "OnIce_A_flurryScoreVenueAdjustedxGoals",
         "rawType": "float64",
         "type": "float"
        },
        {
         "name": "OnIce_A_shotsOnGoal",
         "rawType": "float64",
         "type": "float"
        },
        {
         "name": "OnIce_A_missedShots",
         "rawType": "float64",
         "type": "float"
        },
        {
         "name": "OnIce_A_blockedShotAttempts",
         "rawType": "float64",
         "type": "float"
        },
        {
         "name": "OnIce_A_shotAttempts",
         "rawType": "float64",
         "type": "float"
        },
        {
         "name": "OnIce_A_goals",
         "rawType": "float64",
         "type": "float"
        },
        {
         "name": "OnIce_A_rebounds",
         "rawType": "float64",
         "type": "float"
        },
        {
         "name": "OnIce_A_reboundGoals",
         "rawType": "float64",
         "type": "float"
        },
        {
         "name": "OnIce_A_lowDangerShots",
         "rawType": "float64",
         "type": "float"
        },
        {
         "name": "OnIce_A_mediumDangerShots",
         "rawType": "float64",
         "type": "float"
        },
        {
         "name": "OnIce_A_highDangerShots",
         "rawType": "float64",
         "type": "float"
        },
        {
         "name": "OnIce_A_lowDangerxGoals",
         "rawType": "float64",
         "type": "float"
        },
        {
         "name": "OnIce_A_mediumDangerxGoals",
         "rawType": "float64",
         "type": "float"
        },
        {
         "name": "OnIce_A_highDangerxGoals",
         "rawType": "float64",
         "type": "float"
        },
        {
         "name": "OnIce_A_lowDangerGoals",
         "rawType": "float64",
         "type": "float"
        },
        {
         "name": "OnIce_A_mediumDangerGoals",
         "rawType": "float64",
         "type": "float"
        },
        {
         "name": "OnIce_A_highDangerGoals",
         "rawType": "float64",
         "type": "float"
        },
        {
         "name": "OnIce_A_scoreAdjustedShotsAttempts",
         "rawType": "float64",
         "type": "float"
        },
        {
         "name": "OnIce_A_unblockedShotAttempts",
         "rawType": "float64",
         "type": "float"
        },
        {
         "name": "OnIce_A_scoreAdjustedUnblockedShotAttempts",
         "rawType": "float64",
         "type": "float"
        },
        {
         "name": "OnIce_A_xGoalsFromxReboundsOfShots",
         "rawType": "float64",
         "type": "float"
        },
        {
         "name": "OnIce_A_xGoalsFromActualReboundsOfShots",
         "rawType": "float64",
         "type": "float"
        },
        {
         "name": "OnIce_A_reboundxGoals",
         "rawType": "float64",
         "type": "float"
        },
        {
         "name": "OnIce_A_xGoals_with_earned_rebounds",
         "rawType": "float64",
         "type": "float"
        },
        {
         "name": "OnIce_A_xGoals_with_earned_rebounds_scoreAdjusted",
         "rawType": "float64",
         "type": "float"
        },
        {
         "name": "OnIce_A_xGoals_with_earned_rebounds_scoreFlurryAdjusted",
         "rawType": "float64",
         "type": "float"
        },
        {
         "name": "OffIce_F_xGoals",
         "rawType": "float64",
         "type": "float"
        },
        {
         "name": "OffIce_A_xGoals",
         "rawType": "float64",
         "type": "float"
        },
        {
         "name": "OffIce_F_shotAttempts",
         "rawType": "float64",
         "type": "float"
        },
        {
         "name": "OffIce_A_shotAttempts",
         "rawType": "float64",
         "type": "float"
        },
        {
         "name": "xGoalsForAfterShifts",
         "rawType": "float64",
         "type": "float"
        },
        {
         "name": "xGoalsAgainstAfterShifts",
         "rawType": "float64",
         "type": "float"
        },
        {
         "name": "corsiForAfterShifts",
         "rawType": "float64",
         "type": "float"
        },
        {
         "name": "corsiAgainstAfterShifts",
         "rawType": "float64",
         "type": "float"
        },
        {
         "name": "fenwickForAfterShifts",
         "rawType": "float64",
         "type": "float"
        },
        {
         "name": "fenwickAgainstAfterShifts",
         "rawType": "float64",
         "type": "float"
        }
       ],
       "ref": "9ba8310f-7eb8-4c11-aa66-a7fcf8984a8e",
       "rows": [
        [
         "0",
         "8479318",
         "2016",
         "Auston Matthews",
         "2016020001",
         "TOR",
         "OTT",
         "AWAY",
         "20161012",
         "C",
         "other",
         "55.0",
         "1.0",
         "4.84",
         "0.7031",
         "0.0",
         "0.3333",
         "0.0",
         "0.5",
         "0.0",
         "1.0",
         "0.0",
         "0.0",
         "0.0",
         "0.0",
         "0.0",
         "0.0",
         "0.0",
         "0.0",
         "0.0",
         "0.0",
         "0.0",
         "0.0",
         "0.0",
         "0.0",
         "0.0",
         "0.0",
         "0.0",
         "0.0",
         "0.0",
         "0.0",
         "0.0",
         "0.0",
         "0.0",
         "0.0",
         "0.0",
         "0.0",
         "0.0",
         "0.0",
         "0.0",
         "0.0",
         "1.0",
         "0.0",
         "0.0",
         "0.0",
         "0.0",
         "0.0",
         "0.0",
         "0.0",
         "0.0",
         "0.0",
         "0.0",
         "0.0",
         "0.0",
         "0.0",
         "0.0",
         "0.0",
         "0.0",
         "0.0",
         "0.0",
         "0.0",
         "0.0",
         "1.0",
         "0.0",
         "0.0",
         "0.0",
         "1.0",
         "0.0",
         "0.0",
         "0.0",
         "1.0",
         "0.0",
         "1.0",
         "65.0",
         "0.0",
         "0.0",
         "0.0",
         "0.0",
         "0.737",
         "0.09",
         "0.09",
         "0.09",
         "0.09",
         "0.0",
         "1.0",
         "0.0",
         "1.0",
         "0.0",
         "0.0",
         "0.0",
         "0.0",
         "1.0",
         "0.0",
         "0.0",
         "0.09",
         "0.0",
         "0.0",
         "0.0",
         "0.0",
         "1.0",
         "1.0",
         "1.0",
         "0.011",
         "0.0",
         "0.0",
         "0.101",
         "0.101",
         "0.101",
         "0.689",
         "0.038",
         "0.038",
         "0.038",
         "0.038",
         "1.0",
         "0.0",
         "1.0",
         "2.0",
         "1.0",
         "0.0",
         "0.0",
         "1.0",
         "0.0",
         "0.0",
         "0.038",
         "0.0",
         "0.0",
         "1.0",
         "0.0",
         "0.0",
         "2.0",
         "1.0",
         "1.0",
         "0.008",
         "0.0",
         "0.0",
         "0.046",
         "0.046",
         "0.046",
         "0.0",
         "0.176",
         "0.0",
         "4.0",
         "0.0",
         "0.0",
         "0.0",
         "0.0",
         "0.0",
         "0.0"
        ],
        [
         "1",
         "8479318",
         "2016",
         "Auston Matthews",
         "2016020001",
         "TOR",
         "OTT",
         "AWAY",
         "20161012",
         "C",
         "all",
         "1057.0",
         "25.0",
         "4.84",
         "0.7957",
         "0.3728",
         "0.725",
         "0.5652",
         "0.7667",
         "0.4853",
         "1.0",
         "4.558",
         "0.516",
         "0.385",
         "0.945",
         "0.145",
         "2.228",
         "1.78",
         "0.503",
         "0.564",
         "0.55",
         "0.0",
         "0.0",
         "6.0",
         "0.0",
         "1.0",
         "7.0",
         "4.0",
         "4.0",
         "0.0",
         "1.0",
         "0.0",
         "0.0",
         "1.0",
         "1.0",
         "2.0",
         "2.0",
         "0.0",
         "0.0",
         "6.0",
         "0.0",
         "2.0",
         "0.0",
         "4.0",
         "1.0",
         "1.0",
         "0.12",
         "0.191",
         "0.205",
         "2.0",
         "1.0",
         "1.0",
         "7.476",
         "6.0",
         "6.432",
         "0.0",
         "0.082",
         "0.0",
         "0.191",
         "0.407",
         "0.443",
         "0.44",
         "25.0",
         "9.0",
         "4.0",
         "2.0",
         "10.0",
         "4.0",
         "1.0",
         "6.0",
         "14.0",
         "6.0",
         "7.0",
         "2580.0",
         "0.0",
         "0.0",
         "0.0",
         "0.0",
         "16.567",
         "1.118",
         "1.09",
         "1.202",
         "1.172",
         "16.0",
         "7.0",
         "6.0",
         "29.0",
         "4.0",
         "2.0",
         "1.0",
         "18.0",
         "4.0",
         "1.0",
         "0.36",
         "0.553",
         "0.205",
         "2.0",
         "1.0",
         "1.0",
         "30.691",
         "23.0",
         "24.318",
         "0.248",
         "0.221",
         "0.221",
         "1.145",
         "1.222",
         "1.2",
         "4.689",
         "0.287",
         "0.285",
         "0.279",
         "0.277",
         "4.0",
         "3.0",
         "4.0",
         "11.0",
         "1.0",
         "0.0",
         "0.0",
         "6.0",
         "1.0",
         "0.0",
         "0.2",
         "0.087",
         "0.0",
         "1.0",
         "0.0",
         "0.0",
         "10.705",
         "7.0",
         "6.801",
         "0.067",
         "0.0",
         "0.0",
         "0.353",
         "0.343",
         "0.341",
         "1.082",
         "1.82",
         "52.0",
         "40.0",
         "0.0",
         "0.0",
         "0.0",
         "0.0",
         "0.0",
         "0.0"
        ],
        [
         "2",
         "8479318",
         "2016",
         "Auston Matthews",
         "2016020001",
         "TOR",
         "OTT",
         "AWAY",
         "20161012",
         "C",
         "5on5",
         "781.0",
         "20.0",
         "4.84",
         "0.8608",
         "0.4493",
         "0.75",
         "0.6111",
         "0.7826",
         "0.5094",
         "3.0",
         "3.852",
         "0.511",
         "0.327",
         "0.775",
         "0.121",
         "1.915",
         "1.351",
         "0.498",
         "0.559",
         "0.545",
         "0.0",
         "0.0",
         "5.0",
         "0.0",
         "1.0",
         "6.0",
         "4.0",
         "4.0",
         "0.0",
         "1.0",
         "0.0",
         "0.0",
         "1.0",
         "0.0",
         "1.0",
         "1.0",
         "0.0",
         "0.0",
         "4.0",
         "0.0",
         "1.0",
         "0.0",
         "3.0",
         "1.0",
         "1.0",
         "0.115",
         "0.191",
         "0.205",
         "2.0",
         "1.0",
         "1.0",
         "6.476",
         "5.0",
         "5.432",
         "0.0",
         "0.07",
         "0.0",
         "0.191",
         "0.39",
         "0.426",
         "0.423",
         "20.0",
         "6.0",
         "4.0",
         "2.0",
         "8.0",
         "4.0",
         "1.0",
         "6.0",
         "9.0",
         "4.0",
         "6.0",
         "2016.0",
         "0.0",
         "0.0",
         "0.0",
         "0.0",
         "13.067",
         "1.002",
         "0.976",
         "1.086",
         "1.057",
         "13.0",
         "5.0",
         "6.0",
         "24.0",
         "4.0",
         "2.0",
         "1.0",
         "14.0",
         "3.0",
         "1.0",
         "0.334",
         "0.463",
         "0.205",
         "2.0",
         "1.0",
         "1.0",
         "25.691",
         "18.0",
         "19.318",
         "0.185",
         "0.221",
         "0.221",
         "0.966",
         "1.043",
         "1.024",
         "3.262",
         "0.162",
         "0.16",
         "0.154",
         "0.152",
         "2.0",
         "3.0",
         "3.0",
         "8.0",
         "0.0",
         "0.0",
         "0.0",
         "5.0",
         "0.0",
         "0.0",
         "0.162",
         "0.0",
         "0.0",
         "0.0",
         "0.0",
         "0.0",
         "7.705",
         "5.0",
         "4.801",
         "0.048",
         "0.0",
         "0.0",
         "0.21",
         "0.199",
         "0.197",
         "1.033",
         "1.266",
         "44.0",
         "28.0",
         "0.0",
         "0.0",
         "0.0",
         "0.0",
         "0.0",
         "0.0"
        ],
        [
         "3",
         "8479318",
         "2016",
         "Auston Matthews",
         "2016020001",
         "TOR",
         "OTT",
         "AWAY",
         "20161012",
         "C",
         "4on5",
         "0.0",
         "0.0",
         "0.0",
         "0.0",
         "0.0",
         "0.0",
         "0.0",
         "0.0",
         "0.0",
         "0.0",
         "0.0",
         "0.0",
         "0.0",
         "0.0",
         "0.0",
         "0.0",
         "0.0",
         "0.0",
         "0.0",
         "0.0",
         "0.0",
         "0.0",
         "0.0",
         "0.0",
         "0.0",
         "0.0",
         "0.0",
         "0.0",
         "0.0",
         "0.0",
         "0.0",
         "0.0",
         "0.0",
         "0.0",
         "0.0",
         "0.0",
         "0.0",
         "0.0",
         "0.0",
         "0.0",
         "0.0",
         "0.0",
         "0.0",
         "0.0",
         "0.0",
         "0.0",
         "0.0",
         "0.0",
         "0.0",
         "0.0",
         "0.0",
         "0.0",
         "0.0",
         "0.0",
         "0.0",
         "0.0",
         "0.0",
         "0.0",
         "0.0",
         "0.0",
         "0.0",
         "0.0",
         "0.0",
         "0.0",
         "0.0",
         "0.0",
         "0.0",
         "0.0",
         "0.0",
         "0.0",
         "0.0",
         "0.0",
         "0.0",
         "0.0",
         "0.0",
         "0.0",
         "0.0",
         "0.0",
         "0.0",
         "0.0",
         "0.0",
         "0.0",
         "0.0",
         "0.0",
         "0.0",
         "0.0",
         "0.0",
         "0.0",
         "0.0",
         "0.0",
         "0.0",
         "0.0",
         "0.0",
         "0.0",
         "0.0",
         "0.0",
         "0.0",
         "0.0",
         "0.0",
         "0.0",
         "0.0",
         "0.0",
         "0.0",
         "0.0",
         "0.0",
         "0.0",
         "0.0",
         "0.0",
         "0.0",
         "0.0",
         "0.0",
         "0.0",
         "0.0",
         "0.0",
         "0.0",
         "0.0",
         "0.0",
         "0.0",
         "0.0",
         "0.0",
         "0.0",
         "0.0",
         "0.0",
         "0.0",
         "0.0",
         "0.0",
         "0.0",
         "0.0",
         "0.0",
         "0.0",
         "0.0",
         "0.0",
         "0.0",
         "0.0",
         "0.0",
         "0.0",
         "0.0",
         "0.0",
         "0.0",
         "0.0",
         "0.0",
         "0.0",
         "0.0",
         "0.0",
         "0.0",
         "0.0",
         "0.0"
        ],
        [
         "4",
         "8479318",
         "2016",
         "Auston Matthews",
         "2016020001",
         "TOR",
         "OTT",
         "AWAY",
         "20161012",
         "C",
         "5on4",
         "221.0",
         "4.0",
         "4.84",
         "0.2232",
         "1.0",
         "0.8",
         "0.8889",
         "0.8",
         "1.0",
         "5.0",
         "0.706",
         "0.005",
         "0.059",
         "0.171",
         "0.024",
         "0.312",
         "0.429",
         "0.005",
         "0.005",
         "0.005",
         "0.0",
         "0.0",
         "1.0",
         "0.0",
         "0.0",
         "1.0",
         "0.0",
         "0.0",
         "0.0",
         "0.0",
         "0.0",
         "0.0",
         "0.0",
         "1.0",
         "1.0",
         "1.0",
         "0.0",
         "0.0",
         "2.0",
         "0.0",
         "0.0",
         "0.0",
         "1.0",
         "0.0",
         "0.0",
         "0.005",
         "0.0",
         "0.0",
         "0.0",
         "0.0",
         "0.0",
         "1.0",
         "1.0",
         "1.0",
         "0.0",
         "0.012",
         "0.0",
         "0.0",
         "0.017",
         "0.017",
         "0.017",
         "4.0",
         "3.0",
         "0.0",
         "0.0",
         "1.0",
         "0.0",
         "0.0",
         "0.0",
         "4.0",
         "2.0",
         "0.0",
         "259.0",
         "0.0",
         "0.0",
         "0.0",
         "0.0",
         "2.763",
         "0.025",
         "0.024",
         "0.025",
         "0.024",
         "3.0",
         "1.0",
         "0.0",
         "4.0",
         "0.0",
         "0.0",
         "0.0",
         "4.0",
         "0.0",
         "0.0",
         "0.025",
         "0.0",
         "0.0",
         "0.0",
         "0.0",
         "0.0",
         "4.0",
         "4.0",
         "4.0",
         "0.053",
         "0.0",
         "0.0",
         "0.078",
         "0.078",
         "0.075",
         "0.739",
         "0.087",
         "0.087",
         "0.087",
         "0.087",
         "1.0",
         "0.0",
         "0.0",
         "1.0",
         "0.0",
         "0.0",
         "0.0",
         "0.0",
         "1.0",
         "0.0",
         "0.0",
         "0.087",
         "0.0",
         "0.0",
         "0.0",
         "0.0",
         "1.0",
         "1.0",
         "1.0",
         "0.011",
         "0.0",
         "0.0",
         "0.098",
         "0.098",
         "0.098",
         "0.049",
         "0.0",
         "8.0",
         "1.0",
         "0.0",
         "0.0",
         "0.0",
         "0.0",
         "0.0",
         "0.0"
        ]
       ],
       "shape": {
        "columns": 157,
        "rows": 5
       }
      },
      "text/html": [
       "<div>\n",
       "<style scoped>\n",
       "    .dataframe tbody tr th:only-of-type {\n",
       "        vertical-align: middle;\n",
       "    }\n",
       "\n",
       "    .dataframe tbody tr th {\n",
       "        vertical-align: top;\n",
       "    }\n",
       "\n",
       "    .dataframe thead th {\n",
       "        text-align: right;\n",
       "    }\n",
       "</style>\n",
       "<table border=\"1\" class=\"dataframe\">\n",
       "  <thead>\n",
       "    <tr style=\"text-align: right;\">\n",
       "      <th></th>\n",
       "      <th>playerId</th>\n",
       "      <th>season</th>\n",
       "      <th>name</th>\n",
       "      <th>gameId</th>\n",
       "      <th>playerTeam</th>\n",
       "      <th>opposingTeam</th>\n",
       "      <th>home_or_away</th>\n",
       "      <th>gameDate</th>\n",
       "      <th>position</th>\n",
       "      <th>situation</th>\n",
       "      <th>...</th>\n",
       "      <th>OffIce_F_xGoals</th>\n",
       "      <th>OffIce_A_xGoals</th>\n",
       "      <th>OffIce_F_shotAttempts</th>\n",
       "      <th>OffIce_A_shotAttempts</th>\n",
       "      <th>xGoalsForAfterShifts</th>\n",
       "      <th>xGoalsAgainstAfterShifts</th>\n",
       "      <th>corsiForAfterShifts</th>\n",
       "      <th>corsiAgainstAfterShifts</th>\n",
       "      <th>fenwickForAfterShifts</th>\n",
       "      <th>fenwickAgainstAfterShifts</th>\n",
       "    </tr>\n",
       "  </thead>\n",
       "  <tbody>\n",
       "    <tr>\n",
       "      <th>0</th>\n",
       "      <td>8479318</td>\n",
       "      <td>2016</td>\n",
       "      <td>Auston Matthews</td>\n",
       "      <td>2016020001</td>\n",
       "      <td>TOR</td>\n",
       "      <td>OTT</td>\n",
       "      <td>AWAY</td>\n",
       "      <td>20161012</td>\n",
       "      <td>C</td>\n",
       "      <td>other</td>\n",
       "      <td>...</td>\n",
       "      <td>0.000</td>\n",
       "      <td>0.176</td>\n",
       "      <td>0.0</td>\n",
       "      <td>4.0</td>\n",
       "      <td>0.0</td>\n",
       "      <td>0.0</td>\n",
       "      <td>0.0</td>\n",
       "      <td>0.0</td>\n",
       "      <td>0.0</td>\n",
       "      <td>0.0</td>\n",
       "    </tr>\n",
       "    <tr>\n",
       "      <th>1</th>\n",
       "      <td>8479318</td>\n",
       "      <td>2016</td>\n",
       "      <td>Auston Matthews</td>\n",
       "      <td>2016020001</td>\n",
       "      <td>TOR</td>\n",
       "      <td>OTT</td>\n",
       "      <td>AWAY</td>\n",
       "      <td>20161012</td>\n",
       "      <td>C</td>\n",
       "      <td>all</td>\n",
       "      <td>...</td>\n",
       "      <td>1.082</td>\n",
       "      <td>1.820</td>\n",
       "      <td>52.0</td>\n",
       "      <td>40.0</td>\n",
       "      <td>0.0</td>\n",
       "      <td>0.0</td>\n",
       "      <td>0.0</td>\n",
       "      <td>0.0</td>\n",
       "      <td>0.0</td>\n",
       "      <td>0.0</td>\n",
       "    </tr>\n",
       "    <tr>\n",
       "      <th>2</th>\n",
       "      <td>8479318</td>\n",
       "      <td>2016</td>\n",
       "      <td>Auston Matthews</td>\n",
       "      <td>2016020001</td>\n",
       "      <td>TOR</td>\n",
       "      <td>OTT</td>\n",
       "      <td>AWAY</td>\n",
       "      <td>20161012</td>\n",
       "      <td>C</td>\n",
       "      <td>5on5</td>\n",
       "      <td>...</td>\n",
       "      <td>1.033</td>\n",
       "      <td>1.266</td>\n",
       "      <td>44.0</td>\n",
       "      <td>28.0</td>\n",
       "      <td>0.0</td>\n",
       "      <td>0.0</td>\n",
       "      <td>0.0</td>\n",
       "      <td>0.0</td>\n",
       "      <td>0.0</td>\n",
       "      <td>0.0</td>\n",
       "    </tr>\n",
       "    <tr>\n",
       "      <th>3</th>\n",
       "      <td>8479318</td>\n",
       "      <td>2016</td>\n",
       "      <td>Auston Matthews</td>\n",
       "      <td>2016020001</td>\n",
       "      <td>TOR</td>\n",
       "      <td>OTT</td>\n",
       "      <td>AWAY</td>\n",
       "      <td>20161012</td>\n",
       "      <td>C</td>\n",
       "      <td>4on5</td>\n",
       "      <td>...</td>\n",
       "      <td>0.000</td>\n",
       "      <td>0.000</td>\n",
       "      <td>0.0</td>\n",
       "      <td>0.0</td>\n",
       "      <td>0.0</td>\n",
       "      <td>0.0</td>\n",
       "      <td>0.0</td>\n",
       "      <td>0.0</td>\n",
       "      <td>0.0</td>\n",
       "      <td>0.0</td>\n",
       "    </tr>\n",
       "    <tr>\n",
       "      <th>4</th>\n",
       "      <td>8479318</td>\n",
       "      <td>2016</td>\n",
       "      <td>Auston Matthews</td>\n",
       "      <td>2016020001</td>\n",
       "      <td>TOR</td>\n",
       "      <td>OTT</td>\n",
       "      <td>AWAY</td>\n",
       "      <td>20161012</td>\n",
       "      <td>C</td>\n",
       "      <td>5on4</td>\n",
       "      <td>...</td>\n",
       "      <td>0.049</td>\n",
       "      <td>0.000</td>\n",
       "      <td>8.0</td>\n",
       "      <td>1.0</td>\n",
       "      <td>0.0</td>\n",
       "      <td>0.0</td>\n",
       "      <td>0.0</td>\n",
       "      <td>0.0</td>\n",
       "      <td>0.0</td>\n",
       "      <td>0.0</td>\n",
       "    </tr>\n",
       "  </tbody>\n",
       "</table>\n",
       "<p>5 rows × 157 columns</p>\n",
       "</div>"
      ],
      "text/plain": [
       "   playerId  season             name      gameId playerTeam opposingTeam  \\\n",
       "0   8479318    2016  Auston Matthews  2016020001        TOR          OTT   \n",
       "1   8479318    2016  Auston Matthews  2016020001        TOR          OTT   \n",
       "2   8479318    2016  Auston Matthews  2016020001        TOR          OTT   \n",
       "3   8479318    2016  Auston Matthews  2016020001        TOR          OTT   \n",
       "4   8479318    2016  Auston Matthews  2016020001        TOR          OTT   \n",
       "\n",
       "  home_or_away  gameDate position situation  ...  OffIce_F_xGoals  \\\n",
       "0         AWAY  20161012        C     other  ...            0.000   \n",
       "1         AWAY  20161012        C       all  ...            1.082   \n",
       "2         AWAY  20161012        C      5on5  ...            1.033   \n",
       "3         AWAY  20161012        C      4on5  ...            0.000   \n",
       "4         AWAY  20161012        C      5on4  ...            0.049   \n",
       "\n",
       "   OffIce_A_xGoals  OffIce_F_shotAttempts  OffIce_A_shotAttempts  \\\n",
       "0            0.176                    0.0                    4.0   \n",
       "1            1.820                   52.0                   40.0   \n",
       "2            1.266                   44.0                   28.0   \n",
       "3            0.000                    0.0                    0.0   \n",
       "4            0.000                    8.0                    1.0   \n",
       "\n",
       "   xGoalsForAfterShifts  xGoalsAgainstAfterShifts  corsiForAfterShifts  \\\n",
       "0                   0.0                       0.0                  0.0   \n",
       "1                   0.0                       0.0                  0.0   \n",
       "2                   0.0                       0.0                  0.0   \n",
       "3                   0.0                       0.0                  0.0   \n",
       "4                   0.0                       0.0                  0.0   \n",
       "\n",
       "   corsiAgainstAfterShifts  fenwickForAfterShifts  fenwickAgainstAfterShifts  \n",
       "0                      0.0                    0.0                        0.0  \n",
       "1                      0.0                    0.0                        0.0  \n",
       "2                      0.0                    0.0                        0.0  \n",
       "3                      0.0                    0.0                        0.0  \n",
       "4                      0.0                    0.0                        0.0  \n",
       "\n",
       "[5 rows x 157 columns]"
      ]
     },
     "execution_count": 49,
     "metadata": {},
     "output_type": "execute_result"
    }
   ],
   "source": [
    "matthews_df = \"https://moneypuck.com/moneypuck/playerData/careers/gameByGame/regular/skaters/8479318.csv\"\n",
    "df = pd.read_csv(matthews_df)\n",
    "df.head(5)"
   ]
  },
  {
   "cell_type": "markdown",
   "id": "1b0250df",
   "metadata": {},
   "source": [
    "### Read the data"
   ]
  },
  {
   "cell_type": "code",
   "execution_count": 50,
   "id": "f9f33655",
   "metadata": {},
   "outputs": [
    {
     "name": "stdout",
     "output_type": "stream",
     "text": [
      "Number of samples: 3145\n",
      "Number of features: 157\n"
     ]
    }
   ],
   "source": [
    "data_cleaning.print_df_size(df)"
   ]
  },
  {
   "cell_type": "code",
   "execution_count": 52,
   "id": "fd7f2cb2",
   "metadata": {},
   "outputs": [
    {
     "name": "stdout",
     "output_type": "stream",
     "text": [
      "<class 'pandas.core.frame.DataFrame'>\n",
      "RangeIndex: 3145 entries, 0 to 3144\n",
      "Columns: 157 entries, playerId to fenwickAgainstAfterShifts\n",
      "dtypes: float64(147), int64(4), object(6)\n",
      "memory usage: 3.8+ MB\n"
     ]
    }
   ],
   "source": [
    "df.info()"
   ]
  },
  {
   "cell_type": "markdown",
   "id": "a7fd60b5",
   "metadata": {},
   "source": [
    "### Preprocessing"
   ]
  },
  {
   "cell_type": "code",
   "execution_count": 53,
   "id": "12d4ce14",
   "metadata": {},
   "outputs": [
    {
     "name": "stdout",
     "output_type": "stream",
     "text": [
      "No missing values found.\n"
     ]
    }
   ],
   "source": [
    "# Missing values?\n",
    "data_cleaning.report_nan(df)"
   ]
  },
  {
   "cell_type": "code",
   "execution_count": 54,
   "id": "fda267bd",
   "metadata": {},
   "outputs": [
    {
     "name": "stdout",
     "output_type": "stream",
     "text": [
      "Removed duplicate columns: ['I_F_shifts', 'faceoffsWon', 'penalityMinutes']\n",
      "Number of samples: 3145\n",
      "Number of features: 154\n",
      "Saved: names_columns.txt\n"
     ]
    }
   ],
   "source": [
    "df = data_cleaning.drop_duplicate_columns(df)\n",
    "data_cleaning.save_column_names(df)"
   ]
  },
  {
   "cell_type": "markdown",
   "id": "167a2690",
   "metadata": {},
   "source": [
    "La stessa partita viene riportata in 5 situazioni diversi: 5on5, 5on4, 4on5, other e all. Riportiamo tutto nella stessa riga."
   ]
  },
  {
   "cell_type": "code",
   "execution_count": 55,
   "id": "5cea9da7",
   "metadata": {},
   "outputs": [],
   "source": [
    "import pandas as pd\n",
    "\n",
    "df = df.pivot_table(\n",
    "    index=[\"playerId\", \"season\", \"name\", \"gameId\", \"playerTeam\", \"opposingTeam\", \"home_or_away\", \"gameDate\", \"position\", \"gameScore\"],\n",
    "    columns=\"situation\",\n",
    "    values=[col for col in df.columns if col not in [\"playerId\",\"season\",\"name\",\"gameId\",\"playerTeam\",\"opposingTeam\",\"home_or_away\",\"gameDate\",\"position\",\"gameScore\",\"situation\"]],\n",
    "    aggfunc=\"first\"\n",
    ")\n",
    "\n",
    "df = df.reset_index()\n",
    "df.columns = ['_'.join([str(c) for c in col if c]) for col in df.columns.values]"
   ]
  },
  {
   "cell_type": "code",
   "execution_count": 56,
   "id": "b9b5b8d7",
   "metadata": {},
   "outputs": [
    {
     "name": "stdout",
     "output_type": "stream",
     "text": [
      "Removed duplicate columns: ['I_F_flurryScoreVenueAdjustedxGoals_4on5', 'I_F_flurryScoreVenueAdjustedxGoals_5on4', 'I_F_flurryScoreVenueAdjustedxGoals_other', 'I_F_giveaways_4on5', 'I_F_highDangerGoals_4on5', 'I_F_lowDangerGoals_4on5', 'I_F_mediumDangerGoals_4on5', 'I_F_playStopped_4on5', 'I_F_reboundGoals_4on5', 'I_F_reboundxGoals_4on5', 'I_F_secondaryAssists_4on5', 'I_F_shotAttempts_4on5', 'I_F_shotAttempts_5on4', 'I_F_shotAttempts_other', 'I_F_unblockedShotAttempts_4on5', 'I_F_unblockedShotAttempts_5on4', 'I_F_unblockedShotAttempts_other', 'I_F_xGoals_4on5', 'I_F_xGoals_5on4', 'I_F_xGoals_other', 'I_F_xGoals_with_earned_rebounds_scoreAdjusted_4on5', 'I_F_xGoals_with_earned_rebounds_scoreAdjusted_5on4', 'I_F_xGoals_with_earned_rebounds_scoreAdjusted_other', 'OnIce_A_flurryScoreVenueAdjustedxGoals_4on5', 'OnIce_A_flurryScoreVenueAdjustedxGoals_5on4', 'OnIce_A_flurryScoreVenueAdjustedxGoals_other', 'OnIce_A_shotAttempts_4on5', 'OnIce_A_shotAttempts_5on4', 'OnIce_A_shotAttempts_other', 'OnIce_A_unblockedShotAttempts_4on5', 'OnIce_A_unblockedShotAttempts_5on4', 'OnIce_A_unblockedShotAttempts_other', 'OnIce_A_xGoals_4on5', 'OnIce_A_xGoals_5on4', 'OnIce_A_xGoals_other', 'OnIce_A_xGoalsFromActualReboundsOfShots_5on4', 'OnIce_A_xGoals_with_earned_rebounds_scoreAdjusted_4on5', 'OnIce_A_xGoals_with_earned_rebounds_scoreAdjusted_5on4', 'OnIce_A_xGoals_with_earned_rebounds_scoreAdjusted_other', 'OnIce_F_blockedShotAttempts_4on5', 'OnIce_F_flurryScoreVenueAdjustedxGoals_4on5', 'OnIce_F_flurryScoreVenueAdjustedxGoals_5on4', 'OnIce_F_flurryScoreVenueAdjustedxGoals_other', 'OnIce_F_goals_4on5', 'OnIce_F_highDangerGoals_4on5', 'OnIce_F_lowDangerGoals_4on5', 'OnIce_F_mediumDangerGoals_4on5', 'OnIce_F_reboundGoals_4on5', 'OnIce_F_shotAttempts_4on5', 'OnIce_F_shotAttempts_5on4', 'OnIce_F_shotAttempts_other', 'OnIce_F_unblockedShotAttempts_4on5', 'OnIce_F_unblockedShotAttempts_5on4', 'OnIce_F_unblockedShotAttempts_other', 'OnIce_F_xGoals_4on5', 'OnIce_F_xGoals_5on4', 'OnIce_F_xGoals_other', 'OnIce_F_xGoalsFromActualReboundsOfShots_4on5', 'OnIce_F_xGoals_with_earned_rebounds_scoreAdjusted_4on5', 'OnIce_F_xGoals_with_earned_rebounds_scoreAdjusted_5on4', 'OnIce_F_xGoals_with_earned_rebounds_scoreAdjusted_other', 'corsiForAfterShifts_all', 'fenwickAgainstAfterShifts_4on5', 'fenwickAgainstAfterShifts_all', 'fenwickForAfterShifts_4on5', 'fenwickForAfterShifts_all', 'penalties_other', 'xGoalsAgainstAfterShifts_all', 'xGoalsForAfterShifts_all']\n",
      "Number of samples: 1045\n",
      "Number of features: 656\n",
      "Saved: names_columns.txt\n"
     ]
    }
   ],
   "source": [
    "df = data_cleaning.drop_duplicate_columns(df)\n",
    "data_cleaning.save_column_names(df)"
   ]
  },
  {
   "cell_type": "code",
   "execution_count": 11,
   "id": "f10bd4dc",
   "metadata": {},
   "outputs": [
    {
     "name": "stdout",
     "output_type": "stream",
     "text": [
      "Number of samples: 1045\n",
      "Number of features: 650\n"
     ]
    }
   ],
   "source": [
    "df = df.drop([\"name\",\"playerId\", \"gameId\", \"playerTeam\", \"position\", \"season\"], axis=1)\n",
    "data_cleaning.print_df_size(df)"
   ]
  },
  {
   "cell_type": "code",
   "execution_count": 12,
   "id": "3d2fc051",
   "metadata": {},
   "outputs": [],
   "source": [
    "df = pd.get_dummies(df, columns=[\"opposingTeam\", \"home_or_away\"])"
   ]
  },
  {
   "cell_type": "markdown",
   "id": "a98080c2",
   "metadata": {},
   "source": [
    "### Random Forest"
   ]
  },
  {
   "cell_type": "code",
   "execution_count": 35,
   "id": "abc466e6",
   "metadata": {},
   "outputs": [],
   "source": [
    "df_rf = df.copy() \n",
    "df_rf[\"gameDate\"] = df[\"gameDate\"].astype(str).str[:8]\n",
    "df_rf[\"gameDate\"] = pd.to_datetime(df_rf[\"gameDate\"], format='%Y%m%d')\n",
    "\n",
    "df_rf = df_rf.sort_values(\"gameDate\")\n",
    "df_rf[\"days_since_last_game\"] = df_rf[\"gameDate\"].diff().dt.days.fillna(0)\n",
    "\n",
    "df_rf = df_rf.drop([\"gameDate\"], axis=1)"
   ]
  },
  {
   "cell_type": "code",
   "execution_count": 36,
   "id": "1232a27b",
   "metadata": {},
   "outputs": [
    {
     "name": "stdout",
     "output_type": "stream",
     "text": [
      "RMSE: 1.0193282683467482\n",
      "Prediction Game Score next game: 0.907\n",
      "\n",
      "Feature importances:\n",
      "offIce_fenwickPercentage_all                                0.012423\n",
      "I_F_flyShiftEnds_all                                        0.009830\n",
      "I_F_xGoalsFromActualReboundsOfShots_all                     0.009420\n",
      "I_F_xGoals_with_earned_rebounds_scoreFlurryAdjusted_5on5    0.008351\n",
      "OnIce_A_mediumDangerxGoals_all                              0.007897\n",
      "                                                              ...   \n",
      "I_F_rebounds_4on5                                           0.000000\n",
      "opposingTeam_NYR                                            0.000000\n",
      "I_F_blockedShotAttempts_4on5                                0.000000\n",
      "opposingTeam_PIT                                            0.000000\n",
      "opposingTeam_S.J                                            0.000000\n",
      "Length: 689, dtype: float64\n"
     ]
    }
   ],
   "source": [
    "import numpy as np\n",
    "from sklearn.ensemble import RandomForestRegressor\n",
    "from sklearn.model_selection import train_test_split\n",
    "from sklearn.metrics import mean_squared_error\n",
    "\n",
    "df_rf[\"target\"] = df_rf[\"gameScore\"].shift(-1)\n",
    "df_rf[\"goal_last_1\"] = df_rf[\"gameScore\"].shift(1)\n",
    "df_rf[\"goal_last_3_avg\"] = df_rf[\"gameScore\"].shift(1).rolling(window=3).mean()\n",
    "df_rf[\"goal_last_5_avg\"] = df_rf[\"gameScore\"].shift(1).rolling(window=5).mean()\n",
    "\n",
    "df_rf = df_rf.dropna()\n",
    "\n",
    "X = df_rf.drop([\"target\"], axis=1)\n",
    "y = df_rf[\"target\"]\n",
    "\n",
    "X_train, X_test, y_train, y_test = train_test_split(\n",
    "    X, y, test_size=0.2, shuffle=False\n",
    ")\n",
    "\n",
    "rf = RandomForestRegressor(\n",
    "    n_estimators=500,\n",
    "    max_depth=None,\n",
    "    min_samples_leaf=2,\n",
    "    max_features='sqrt',\n",
    "    random_state=42,\n",
    "    oob_score=True\n",
    ")\n",
    "\n",
    "rf.fit(X_train, y_train)\n",
    "\n",
    "y_pred = rf.predict(X_test)\n",
    "rmse = np.sqrt(mean_squared_error(y_test, y_pred))\n",
    "print(\"RMSE:\", rmse)\n",
    "\n",
    "last_game = X.iloc[[-1]]\n",
    "game_score_pred = rf.predict(last_game)\n",
    "print(\"Prediction Game Score next game:\", round(game_score_pred[0], 3))\n",
    "\n",
    "importances = pd.Series(rf.feature_importances_, index=X.columns).sort_values(ascending=False)\n",
    "print(\"\\nFeature importances:\")\n",
    "print(importances)"
   ]
  },
  {
   "cell_type": "code",
   "execution_count": 37,
   "id": "2b0b92ff",
   "metadata": {},
   "outputs": [
    {
     "data": {
      "image/png": "[encoded data removed]",
      "text/plain": [
       "<Figure size 600x375 with 1 Axes>"
      ]
     },
     "metadata": {},
     "output_type": "display_data"
    }
   ],
   "source": [
    "import matplotlib.pyplot as plt\n",
    "\n",
    "plt.figure(figsize=(8,5))\n",
    "plt.scatter(y_test, y_pred)\n",
    "plt.xlabel(\"Actual values\")\n",
    "plt.ylabel(\"Predicted values\")\n",
    "plt.title(\"Random Forest Regressor: Actual vs Predicted\")\n",
    "plt.plot([min(y_test), max(y_test)], [min(y_test), max(y_test)], 'r--')\n",
    "plt.show()"
   ]
  }
 ],
 "metadata": {
  "kernelspec": {
   "display_name": "Python(venv)",
   "language": "python",
   "name": "venv"
  },
  "language_info": {
   "codemirror_mode": {
    "name": "ipython",
    "version": 3
   },
   "file_extension": ".py",
   "mimetype": "text/x-python",
   "name": "python",
   "nbconvert_exporter": "python",
   "pygments_lexer": "ipython3",
   "version": "3.13.5"
  }
 },
 "nbformat": 4,
 "nbformat_minor": 5
}

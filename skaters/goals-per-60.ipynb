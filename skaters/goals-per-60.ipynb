{
 "cells": [
  {
   "cell_type": "markdown",
   "id": "ac2cfed8",
   "metadata": {},
   "source": [
    "# Skaters (Season 2024/25) - Goals per 60"
   ]
  },
  {
   "cell_type": "markdown",
   "id": "4c4be536",
   "metadata": {},
   "source": [
    "### Import libraries"
   ]
  },
  {
   "cell_type": "code",
   "execution_count": 1,
   "id": "711210a5",
   "metadata": {},
   "outputs": [],
   "source": [
    "import sys\n",
    "import os\n",
    "import pandas as pd"
   ]
  },
  {
   "cell_type": "code",
   "execution_count": 2,
   "id": "86ae2a79",
   "metadata": {},
   "outputs": [],
   "source": [
    "project_root = os.path.abspath(os.path.join(os.getcwd(), \"..\"))\n",
    "if project_root not in sys.path:\n",
    "    sys.path.insert(0, project_root)"
   ]
  },
  {
   "cell_type": "code",
   "execution_count": 3,
   "id": "a49005d4",
   "metadata": {},
   "outputs": [],
   "source": [
    "from utils import data_cleaning\n",
    "from utils import distribution_analysis as da\n",
    "from utils import distribution_models\n",
    "from utils import correlation_analysis\n",
    "from utils import hypothesis_testing\n",
    "from utils import regression_analysis"
   ]
  },
  {
   "cell_type": "markdown",
   "id": "be3d9656",
   "metadata": {},
   "source": [
    "### Import the dataset"
   ]
  },
  {
   "cell_type": "code",
   "execution_count": 4,
   "id": "7fc6538f",
   "metadata": {},
   "outputs": [
    {
     "data": {
      "text/html": [
       "<div>\n",
       "<style scoped>\n",
       "    .dataframe tbody tr th:only-of-type {\n",
       "        vertical-align: middle;\n",
       "    }\n",
       "\n",
       "    .dataframe tbody tr th {\n",
       "        vertical-align: top;\n",
       "    }\n",
       "\n",
       "    .dataframe thead th {\n",
       "        text-align: right;\n",
       "    }\n",
       "</style>\n",
       "<table border=\"1\" class=\"dataframe\">\n",
       "  <thead>\n",
       "    <tr style=\"text-align: right;\">\n",
       "      <th></th>\n",
       "      <th>playerId</th>\n",
       "      <th>season</th>\n",
       "      <th>name</th>\n",
       "      <th>team</th>\n",
       "      <th>position</th>\n",
       "      <th>situation</th>\n",
       "      <th>games_played</th>\n",
       "      <th>icetime</th>\n",
       "      <th>shifts</th>\n",
       "      <th>gameScore</th>\n",
       "      <th>...</th>\n",
       "      <th>OffIce_F_xGoals</th>\n",
       "      <th>OffIce_A_xGoals</th>\n",
       "      <th>OffIce_F_shotAttempts</th>\n",
       "      <th>OffIce_A_shotAttempts</th>\n",
       "      <th>xGoalsForAfterShifts</th>\n",
       "      <th>xGoalsAgainstAfterShifts</th>\n",
       "      <th>corsiForAfterShifts</th>\n",
       "      <th>corsiAgainstAfterShifts</th>\n",
       "      <th>fenwickForAfterShifts</th>\n",
       "      <th>fenwickAgainstAfterShifts</th>\n",
       "    </tr>\n",
       "  </thead>\n",
       "  <tbody>\n",
       "    <tr>\n",
       "      <th>0</th>\n",
       "      <td>8478047</td>\n",
       "      <td>2024</td>\n",
       "      <td>Michael Bunting</td>\n",
       "      <td>NSH</td>\n",
       "      <td>L</td>\n",
       "      <td>other</td>\n",
       "      <td>76</td>\n",
       "      <td>2237.0</td>\n",
       "      <td>37.0</td>\n",
       "      <td>26.19</td>\n",
       "      <td>...</td>\n",
       "      <td>7.28</td>\n",
       "      <td>10.09</td>\n",
       "      <td>72.0</td>\n",
       "      <td>87.0</td>\n",
       "      <td>0.00</td>\n",
       "      <td>0.00</td>\n",
       "      <td>0.0</td>\n",
       "      <td>0.0</td>\n",
       "      <td>0.0</td>\n",
       "      <td>0.0</td>\n",
       "    </tr>\n",
       "    <tr>\n",
       "      <th>1</th>\n",
       "      <td>8478047</td>\n",
       "      <td>2024</td>\n",
       "      <td>Michael Bunting</td>\n",
       "      <td>NSH</td>\n",
       "      <td>L</td>\n",
       "      <td>all</td>\n",
       "      <td>76</td>\n",
       "      <td>70819.0</td>\n",
       "      <td>1474.0</td>\n",
       "      <td>43.70</td>\n",
       "      <td>...</td>\n",
       "      <td>161.54</td>\n",
       "      <td>187.75</td>\n",
       "      <td>3221.0</td>\n",
       "      <td>3522.0</td>\n",
       "      <td>0.00</td>\n",
       "      <td>0.00</td>\n",
       "      <td>0.0</td>\n",
       "      <td>0.0</td>\n",
       "      <td>0.0</td>\n",
       "      <td>0.0</td>\n",
       "    </tr>\n",
       "    <tr>\n",
       "      <th>2</th>\n",
       "      <td>8478047</td>\n",
       "      <td>2024</td>\n",
       "      <td>Michael Bunting</td>\n",
       "      <td>NSH</td>\n",
       "      <td>L</td>\n",
       "      <td>5on5</td>\n",
       "      <td>76</td>\n",
       "      <td>59813.0</td>\n",
       "      <td>1294.0</td>\n",
       "      <td>43.70</td>\n",
       "      <td>...</td>\n",
       "      <td>112.73</td>\n",
       "      <td>122.08</td>\n",
       "      <td>2661.0</td>\n",
       "      <td>2707.0</td>\n",
       "      <td>0.71</td>\n",
       "      <td>1.71</td>\n",
       "      <td>19.0</td>\n",
       "      <td>43.0</td>\n",
       "      <td>16.0</td>\n",
       "      <td>31.0</td>\n",
       "    </tr>\n",
       "    <tr>\n",
       "      <th>3</th>\n",
       "      <td>8478047</td>\n",
       "      <td>2024</td>\n",
       "      <td>Michael Bunting</td>\n",
       "      <td>NSH</td>\n",
       "      <td>L</td>\n",
       "      <td>4on5</td>\n",
       "      <td>76</td>\n",
       "      <td>6.0</td>\n",
       "      <td>2.0</td>\n",
       "      <td>2.58</td>\n",
       "      <td>...</td>\n",
       "      <td>0.20</td>\n",
       "      <td>0.17</td>\n",
       "      <td>4.0</td>\n",
       "      <td>11.0</td>\n",
       "      <td>0.00</td>\n",
       "      <td>0.00</td>\n",
       "      <td>0.0</td>\n",
       "      <td>0.0</td>\n",
       "      <td>0.0</td>\n",
       "      <td>0.0</td>\n",
       "    </tr>\n",
       "    <tr>\n",
       "      <th>4</th>\n",
       "      <td>8478047</td>\n",
       "      <td>2024</td>\n",
       "      <td>Michael Bunting</td>\n",
       "      <td>NSH</td>\n",
       "      <td>L</td>\n",
       "      <td>5on4</td>\n",
       "      <td>76</td>\n",
       "      <td>8763.0</td>\n",
       "      <td>141.0</td>\n",
       "      <td>36.88</td>\n",
       "      <td>...</td>\n",
       "      <td>23.81</td>\n",
       "      <td>2.60</td>\n",
       "      <td>311.0</td>\n",
       "      <td>54.0</td>\n",
       "      <td>0.00</td>\n",
       "      <td>0.01</td>\n",
       "      <td>0.0</td>\n",
       "      <td>1.0</td>\n",
       "      <td>0.0</td>\n",
       "      <td>1.0</td>\n",
       "    </tr>\n",
       "  </tbody>\n",
       "</table>\n",
       "<p>5 rows × 154 columns</p>\n",
       "</div>"
      ],
      "text/plain": [
       "   playerId  season             name team position situation  games_played  \\\n",
       "0   8478047    2024  Michael Bunting  NSH        L     other            76   \n",
       "1   8478047    2024  Michael Bunting  NSH        L       all            76   \n",
       "2   8478047    2024  Michael Bunting  NSH        L      5on5            76   \n",
       "3   8478047    2024  Michael Bunting  NSH        L      4on5            76   \n",
       "4   8478047    2024  Michael Bunting  NSH        L      5on4            76   \n",
       "\n",
       "   icetime  shifts  gameScore  ...  OffIce_F_xGoals  OffIce_A_xGoals  \\\n",
       "0   2237.0    37.0      26.19  ...             7.28            10.09   \n",
       "1  70819.0  1474.0      43.70  ...           161.54           187.75   \n",
       "2  59813.0  1294.0      43.70  ...           112.73           122.08   \n",
       "3      6.0     2.0       2.58  ...             0.20             0.17   \n",
       "4   8763.0   141.0      36.88  ...            23.81             2.60   \n",
       "\n",
       "   OffIce_F_shotAttempts  OffIce_A_shotAttempts  xGoalsForAfterShifts  \\\n",
       "0                   72.0                   87.0                  0.00   \n",
       "1                 3221.0                 3522.0                  0.00   \n",
       "2                 2661.0                 2707.0                  0.71   \n",
       "3                    4.0                   11.0                  0.00   \n",
       "4                  311.0                   54.0                  0.00   \n",
       "\n",
       "   xGoalsAgainstAfterShifts  corsiForAfterShifts  corsiAgainstAfterShifts  \\\n",
       "0                      0.00                  0.0                      0.0   \n",
       "1                      0.00                  0.0                      0.0   \n",
       "2                      1.71                 19.0                     43.0   \n",
       "3                      0.00                  0.0                      0.0   \n",
       "4                      0.01                  0.0                      1.0   \n",
       "\n",
       "   fenwickForAfterShifts  fenwickAgainstAfterShifts  \n",
       "0                    0.0                        0.0  \n",
       "1                    0.0                        0.0  \n",
       "2                   16.0                       31.0  \n",
       "3                    0.0                        0.0  \n",
       "4                    0.0                        1.0  \n",
       "\n",
       "[5 rows x 154 columns]"
      ]
     },
     "execution_count": 4,
     "metadata": {},
     "output_type": "execute_result"
    }
   ],
   "source": [
    "#skaters_df = \"https://moneypuck.com/moneypuck/playerData/seasonSummary/2024/regular/skaters.csv\"\n",
    "skaters_df = \"../data/skaters.csv\"\n",
    "df = pd.read_csv(skaters_df)\n",
    "df.head(5)"
   ]
  },
  {
   "cell_type": "markdown",
   "id": "1b0250df",
   "metadata": {},
   "source": [
    "### Read the data"
   ]
  },
  {
   "cell_type": "code",
   "execution_count": 5,
   "id": "f9f33655",
   "metadata": {},
   "outputs": [
    {
     "name": "stdout",
     "output_type": "stream",
     "text": [
      "Number of samples: 4600\n",
      "Number of features: 154\n"
     ]
    }
   ],
   "source": [
    "data_cleaning.print_df_size(df)"
   ]
  },
  {
   "cell_type": "code",
   "execution_count": 6,
   "id": "f8747b76",
   "metadata": {},
   "outputs": [
    {
     "name": "stdout",
     "output_type": "stream",
     "text": [
      "Saved: names_columns.txt\n"
     ]
    }
   ],
   "source": [
    "data_cleaning.save_column_names(df)"
   ]
  },
  {
   "cell_type": "code",
   "execution_count": 7,
   "id": "fd7f2cb2",
   "metadata": {},
   "outputs": [
    {
     "name": "stdout",
     "output_type": "stream",
     "text": [
      "<class 'pandas.core.frame.DataFrame'>\n",
      "RangeIndex: 4600 entries, 0 to 4599\n",
      "Columns: 154 entries, playerId to fenwickAgainstAfterShifts\n",
      "dtypes: float64(147), int64(3), object(4)\n",
      "memory usage: 5.4+ MB\n"
     ]
    }
   ],
   "source": [
    "df.info()"
   ]
  },
  {
   "cell_type": "markdown",
   "id": "a7fd60b5",
   "metadata": {},
   "source": [
    "### Data cleaning"
   ]
  },
  {
   "cell_type": "code",
   "execution_count": 8,
   "id": "12d4ce14",
   "metadata": {},
   "outputs": [
    {
     "name": "stdout",
     "output_type": "stream",
     "text": [
      "No missing values found.\n"
     ]
    }
   ],
   "source": [
    "# Missing values?\n",
    "data_cleaning.report_nan(df)"
   ]
  },
  {
   "cell_type": "code",
   "execution_count": 9,
   "id": "fda267bd",
   "metadata": {},
   "outputs": [
    {
     "name": "stdout",
     "output_type": "stream",
     "text": [
      "Dropped columns: ['I_F_faceOffsWon']\n",
      "Number of features: 153\n",
      "Dropped columns: ['I_F_penalityMinutes']\n",
      "Number of features: 152\n"
     ]
    }
   ],
   "source": [
    "df = data_cleaning.drop_duplicate_columns(df, [\"faceoffsWon\", \"I_F_faceOffsWon\"])\n",
    "df = data_cleaning.drop_duplicate_columns(df, [ \"penalityMinutes\", \"I_F_penalityMinutes\"])"
   ]
  },
  {
   "cell_type": "markdown",
   "id": "acb644d6",
   "metadata": {},
   "source": [
    "## Part 01 - Goals per 60"
   ]
  },
  {
   "cell_type": "markdown",
   "id": "3a3bc082",
   "metadata": {},
   "source": [
    "### Variables and Filter"
   ]
  },
  {
   "cell_type": "code",
   "execution_count": 10,
   "id": "fc448b22",
   "metadata": {},
   "outputs": [],
   "source": [
    "situation = \"all\"\n",
    "feature1 = \"I_F_goals\"\n",
    "feature2 = \"icetime\"\n",
    "feature = \"goals_per_60\"\n",
    "min_games_played = 20\n",
    "name_player=\"Auston Matthews\""
   ]
  },
  {
   "cell_type": "markdown",
   "id": "d9e3cc99",
   "metadata": {},
   "source": [
    "A new feature with the goals per 60."
   ]
  },
  {
   "cell_type": "code",
   "execution_count": 11,
   "id": "bcad70e3",
   "metadata": {},
   "outputs": [],
   "source": [
    "df_goals = df.copy()\n",
    "df_goals[feature] = (df_goals[feature1] / df_goals[feature2]) * 3600"
   ]
  },
  {
   "cell_type": "code",
   "execution_count": 12,
   "id": "75946944",
   "metadata": {},
   "outputs": [],
   "source": [
    "df_goals = df_goals[(df[\"situation\"]==situation) & (df_goals[\"games_played\"]>=min_games_played)]"
   ]
  },
  {
   "cell_type": "markdown",
   "id": "79456c63",
   "metadata": {},
   "source": [
    "### Summary Statistics"
   ]
  },
  {
   "cell_type": "code",
   "execution_count": 13,
   "id": "3a334a71",
   "metadata": {},
   "outputs": [
    {
     "name": "stdout",
     "output_type": "stream",
     "text": [
      "Player with the highest rate: Alex Ovechkin with 2.29.\n",
      "Player with the lowest rate: Adam Pelech with 0.00.\n",
      "Mean: 0.59\n",
      "Variance: 0.18\n",
      "Standard deviation: 0.42\n"
     ]
    }
   ],
   "source": [
    "res = df_goals.loc[lambda d: d[feature].idxmax()]\n",
    "print(f\"Player with the highest rate: {res[\"name\"]} with {res[feature]:.2f}.\")\n",
    "\n",
    "res = df_goals.loc[lambda d: d[feature].idxmin()]\n",
    "print(f\"Player with the lowest rate: {res[\"name\"]} with {res[feature]:.2f}.\")\n",
    "\n",
    "print(f\"Mean: {df_goals[feature].mean():.2f}\")\n",
    "print(f\"Variance: {df_goals[feature].var():.2f}\")\n",
    "print(f\"Standard deviation: {df_goals[feature].std():.2f}\")"
   ]
  },
  {
   "cell_type": "markdown",
   "id": "85f077b4",
   "metadata": {},
   "source": [
    "### Cumulative Distribution Function"
   ]
  },
  {
   "cell_type": "code",
   "execution_count": 14,
   "id": "55d6b6a5",
   "metadata": {},
   "outputs": [
    {
     "name": "stdout",
     "output_type": "stream",
     "text": [
      "Auston Matthews - Percentile rank: 96.99\n",
      "Median: 0.53\n",
      "Interquartile range: 0.66\n",
      "Quartile skewness: 0.07\n"
     ]
    },
    {
     "data": {
      "image/png": "[encoded data removed]",
      "text/plain": [
       "<Figure size 900x600 with 1 Axes>"
      ]
     },
     "metadata": {},
     "output_type": "display_data"
    }
   ],
   "source": [
    "vals = df_goals[feature].values\n",
    "ref = df_goals[df_goals[\"name\"]==name_player][feature].values[0]\n",
    "\n",
    "da.print_percentile_rank(ref, vals, label=name_player)\n",
    "da.plot_cdf(ref, vals, label=name_player, xlabel=\"Goals per 60\")"
   ]
  },
  {
   "cell_type": "markdown",
   "id": "0ec1dd0f",
   "metadata": {},
   "source": [
    "### Modeling Distributions"
   ]
  },
  {
   "cell_type": "markdown",
   "id": "98922986",
   "metadata": {},
   "source": [
    "### Probability Density Function and Kernel Density Estimate"
   ]
  },
  {
   "cell_type": "code",
   "execution_count": 15,
   "id": "ba111470",
   "metadata": {},
   "outputs": [
    {
     "data": {
      "image/png": "[encoded data removed]",
      "text/plain": [
       "<Figure size 900x600 with 1 Axes>"
      ]
     },
     "metadata": {},
     "output_type": "display_data"
    }
   ],
   "source": [
    "da.plot_gaussian_kde(df_goals, feature)"
   ]
  },
  {
   "cell_type": "code",
   "execution_count": null,
   "id": "3cbcb9e0",
   "metadata": {},
   "outputs": [],
   "source": []
  },
  {
   "cell_type": "code",
   "execution_count": null,
   "id": "2c5c7a6d",
   "metadata": {},
   "outputs": [],
   "source": []
  }
 ],
 "metadata": {
  "kernelspec": {
   "display_name": "venv",
   "language": "python",
   "name": "python3"
  },
  "language_info": {
   "codemirror_mode": {
    "name": "ipython",
    "version": 3
   },
   "file_extension": ".py",
   "mimetype": "text/x-python",
   "name": "python",
   "nbconvert_exporter": "python",
   "pygments_lexer": "ipython3",
   "version": "3.13.5"
  }
 },
 "nbformat": 4,
 "nbformat_minor": 5
}

{
 "cells": [
  {
   "cell_type": "code",
   "execution_count": null,
   "id": "21bf98ef",
   "metadata": {},
   "outputs": [],
   "source": []
  },
  {
   "cell_type": "code",
   "execution_count": null,
   "id": "0c802039",
   "metadata": {},
   "outputs": [],
   "source": [
    "import os\n",
    "import sys\n",
    "import pandas as pd"
   ]
  },
  {
   "cell_type": "markdown",
   "id": "813fe7ec",
   "metadata": {},
   "source": [
    "### Random Forest\n",
    "\n",
    "Resources: [[1](https://arxiv.org/pdf/1407.7502)] [[2](https://www.stat.cmu.edu/~larry/%3Dsml/forests.pdf?utm_source=chatgpt.com)] [[3](https://datajobs.com/data-science-repo/Random-Forest-%5BLiaw-and-Weiner%5D.pdf?utm_source=chatgpt.com)] [[4](https://www.datacamp.com/tutorial/random-forests-classifier-python?utm_source=chatgpt.com)] [[5](https://arxiv.org/pdf/1511.05741)]"
   ]
  },
  {
   "cell_type": "code",
   "execution_count": null,
   "metadata": {},
   "outputs": [],
   "source": [
    "import numpy as np\n",
    "from sklearn.ensemble import RandomForestRegressor\n",
    "from sklearn.model_selection import train_test_split\n",
    "from sklearn.metrics import mean_squared_error, r2_score\n",
    "from sklearn.tree import plot_tree\n",
    "import matplotlib.pyplot as plt"
   ]
  },
  {
   "cell_type": "code",
   "execution_count": null,
   "metadata": {},
   "outputs": [],
   "source": [
    "df_rf = df.copy() \n",
    "\n",
    "# Date\n",
    "df_rf[\"gameDate\"] = df[\"gameDate\"].astype(str).str[:8]\n",
    "df_rf[\"gameDate\"] = pd.to_datetime(df_rf[\"gameDate\"], format='%Y%m%d')\n",
    "df_rf = df_rf.sort_values(\"gameDate\")\n",
    "df_rf[\"days_since_last_game\"] = df_rf[\"gameDate\"].diff().dt.days.fillna(0)\n",
    "df_rf = df_rf.drop([\"gameDate\"], axis=1)\n",
    "\n",
    "# New features\n",
    "df_rf[\"target\"] = df_rf[\"gameScore\"].shift(-1)\n",
    "df_rf[\"goal_last_1\"] = df_rf[\"gameScore\"].shift(1)\n",
    "df_rf[\"goal_last_3_avg\"] = df_rf[\"gameScore\"].shift(1).rolling(window=3).mean()\n",
    "df_rf[\"goal_last_5_avg\"] = df_rf[\"gameScore\"].shift(1).rolling(window=5).mean()\n",
    "\n",
    "df_rf = df_rf.dropna()"
   ]
  },
  {
   "cell_type": "code",
   "execution_count": null,
   "id": "870fa311",
   "metadata": {},
   "outputs": [],
   "source": [
    "# Model\n",
    "X = df_rf.drop([\"target\"], axis=1)\n",
    "y = df_rf[\"target\"]\n",
    "\n",
    "X_train, X_test, y_train, y_test = train_test_split(X, y, test_size=0.2, shuffle=False)\n",
    "\n",
    "rf = RandomForestRegressor(\n",
    "    n_estimators=500,\n",
    "    max_depth=None,\n",
    "    min_samples_leaf=2,\n",
    "    max_features='sqrt',\n",
    "    random_state=42,\n",
    "    oob_score=True\n",
    ")"
   ]
  },
  {
   "cell_type": "code",
   "execution_count": null,
   "metadata": {},
   "outputs": [],
   "source": [
    "rf.fit(X_train, y_train)\n",
    "\n",
    "print(f'Out-of-Bag Score: {rf.oob_score_}')\n",
    "\n",
    "y_pred = rf.predict(X_test)\n",
    "\n",
    "rmse = np.sqrt(mean_squared_error(y_test, y_pred))\n",
    "print(\"RMSE:\", rmse)\n",
    "\n",
    "last_game = X.iloc[[-1]]\n",
    "game_score_pred = rf.predict(last_game)\n",
    "print(\"Prediction Game Score next game:\", round(game_score_pred[0], 3))\n",
    "\n",
    "importances = pd.Series(rf.feature_importances_, index=X.columns).sort_values(ascending=False)\n",
    "print(\"\\nFeature importances:\")\n",
    "print(importances)"
   ]
  },
  {
   "cell_type": "code",
   "execution_count": null,
   "id": "9821a3c8",
   "metadata": {},
   "outputs": [],
   "source": [
    "tree_to_plot = rf.estimators_[0]\n",
    "\n",
    "plt.figure(figsize=(20, 10))\n",
    "plot_tree(tree_to_plot, feature_names=df_rf.columns.tolist(), filled=True, rounded=True, fontsize=10)\n",
    "plt.title(\"Decision Tree from Random Forest\")\n",
    "plt.show()"
   ]
  },
  {
   "cell_type": "code",
   "execution_count": null,
   "id": "22cc4412",
   "metadata": {},
   "outputs": [],
   "source": [
    "plt.figure(figsize=(8,5))\n",
    "plt.scatter(y_test, y_pred)\n",
    "plt.xlabel(\"Actual values\")\n",
    "plt.ylabel(\"Predicted values\")\n",
    "plt.title(\"Random Forest Regressor: Actual vs Predicted\")\n",
    "plt.plot([min(y_test), max(y_test)], [min(y_test), max(y_test)], 'r--')\n",
    "plt.grid()\n",
    "plt.show()"
   ]
  },
  {
   "cell_type": "code",
   "execution_count": null,
   "id": "b6979a9a",
   "metadata": {},
   "outputs": [],
   "source": []
  },
  {
   "cell_type": "code",
   "execution_count": null,
   "id": "76a9def2",
   "metadata": {},
   "outputs": [],
   "source": []
  },
  {
   "cell_type": "code",
   "execution_count": null,
   "id": "764ffbac",
   "metadata": {},
   "outputs": [],
   "source": []
  }
 ],
 "metadata": {
  "language_info": {
   "name": "python"
  }
 },
 "nbformat": 4,
 "nbformat_minor": 5
}

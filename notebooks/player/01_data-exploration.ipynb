{
 "cells": [
  {
   "cell_type": "markdown",
   "id": "1db0c6d3",
   "metadata": {},
   "source": [
    "## Data Exploration"
   ]
  },
  {
   "cell_type": "markdown",
   "id": "f80d911b",
   "metadata": {},
   "source": [
    "### Import libraries"
   ]
  },
  {
   "cell_type": "code",
   "execution_count": 12,
   "id": "57fa8c32",
   "metadata": {},
   "outputs": [],
   "source": [
    "import os\n",
    "import sys\n",
    "import pandas as pd"
   ]
  },
  {
   "cell_type": "markdown",
   "id": "dddaa560",
   "metadata": {},
   "source": [
    "### Import dataset"
   ]
  },
  {
   "cell_type": "code",
   "execution_count": 13,
   "id": "1079b160",
   "metadata": {},
   "outputs": [],
   "source": [
    "project_path = os.path.abspath(os.path.join(os.getcwd(), \"..\", \"..\"))\n",
    "if project_path not in sys.path:\n",
    "    sys.path.append(project_path)"
   ]
  },
  {
   "cell_type": "code",
   "execution_count": 14,
   "id": "1de6111c",
   "metadata": {},
   "outputs": [
    {
     "data": {
      "application/vnd.microsoft.datawrangler.viewer.v0+json": {
       "columns": [
        {
         "name": "index",
         "rawType": "int64",
         "type": "integer"
        },
        {
         "name": "playerId",
         "rawType": "int64",
         "type": "integer"
        },
        {
         "name": "season",
         "rawType": "int64",
         "type": "integer"
        },
        {
         "name": "name",
         "rawType": "object",
         "type": "string"
        },
        {
         "name": "gameId",
         "rawType": "int64",
         "type": "integer"
        },
        {
         "name": "playerTeam",
         "rawType": "object",
         "type": "string"
        },
        {
         "name": "opposingTeam",
         "rawType": "object",
         "type": "string"
        },
        {
         "name": "home_or_away",
         "rawType": "object",
         "type": "string"
        },
        {
         "name": "gameDate",
         "rawType": "int64",
         "type": "integer"
        },
        {
         "name": "position",
         "rawType": "object",
         "type": "string"
        },
        {
         "name": "situation",
         "rawType": "object",
         "type": "string"
        },
        {
         "name": "icetime",
         "rawType": "float64",
         "type": "float"
        },
        {
         "name": "shifts",
         "rawType": "float64",
         "type": "float"
        },
        {
         "name": "gameScore",
         "rawType": "float64",
         "type": "float"
        },
        {
         "name": "onIce_xGoalsPercentage",
         "rawType": "float64",
         "type": "float"
        },
        {
         "name": "offIce_xGoalsPercentage",
         "rawType": "float64",
         "type": "float"
        },
        {
         "name": "onIce_corsiPercentage",
         "rawType": "float64",
         "type": "float"
        },
        {
         "name": "offIce_corsiPercentage",
         "rawType": "float64",
         "type": "float"
        },
        {
         "name": "onIce_fenwickPercentage",
         "rawType": "float64",
         "type": "float"
        },
        {
         "name": "offIce_fenwickPercentage",
         "rawType": "float64",
         "type": "float"
        },
        {
         "name": "iceTimeRank",
         "rawType": "float64",
         "type": "float"
        },
        {
         "name": "I_F_xOnGoal",
         "rawType": "float64",
         "type": "float"
        },
        {
         "name": "I_F_xGoals",
         "rawType": "float64",
         "type": "float"
        },
        {
         "name": "I_F_xRebounds",
         "rawType": "float64",
         "type": "float"
        },
        {
         "name": "I_F_xFreeze",
         "rawType": "float64",
         "type": "float"
        },
        {
         "name": "I_F_xPlayStopped",
         "rawType": "float64",
         "type": "float"
        },
        {
         "name": "I_F_xPlayContinuedInZone",
         "rawType": "float64",
         "type": "float"
        },
        {
         "name": "I_F_xPlayContinuedOutsideZone",
         "rawType": "float64",
         "type": "float"
        },
        {
         "name": "I_F_flurryAdjustedxGoals",
         "rawType": "float64",
         "type": "float"
        },
        {
         "name": "I_F_scoreVenueAdjustedxGoals",
         "rawType": "float64",
         "type": "float"
        },
        {
         "name": "I_F_flurryScoreVenueAdjustedxGoals",
         "rawType": "float64",
         "type": "float"
        },
        {
         "name": "I_F_primaryAssists",
         "rawType": "float64",
         "type": "float"
        },
        {
         "name": "I_F_secondaryAssists",
         "rawType": "float64",
         "type": "float"
        },
        {
         "name": "I_F_shotsOnGoal",
         "rawType": "float64",
         "type": "float"
        },
        {
         "name": "I_F_missedShots",
         "rawType": "float64",
         "type": "float"
        },
        {
         "name": "I_F_blockedShotAttempts",
         "rawType": "float64",
         "type": "float"
        },
        {
         "name": "I_F_shotAttempts",
         "rawType": "float64",
         "type": "float"
        },
        {
         "name": "I_F_points",
         "rawType": "float64",
         "type": "float"
        },
        {
         "name": "I_F_goals",
         "rawType": "float64",
         "type": "float"
        },
        {
         "name": "I_F_rebounds",
         "rawType": "float64",
         "type": "float"
        },
        {
         "name": "I_F_reboundGoals",
         "rawType": "float64",
         "type": "float"
        },
        {
         "name": "I_F_freeze",
         "rawType": "float64",
         "type": "float"
        },
        {
         "name": "I_F_playStopped",
         "rawType": "float64",
         "type": "float"
        },
        {
         "name": "I_F_playContinuedInZone",
         "rawType": "float64",
         "type": "float"
        },
        {
         "name": "I_F_playContinuedOutsideZone",
         "rawType": "float64",
         "type": "float"
        },
        {
         "name": "I_F_savedShotsOnGoal",
         "rawType": "float64",
         "type": "float"
        },
        {
         "name": "I_F_savedUnblockedShotAttempts",
         "rawType": "float64",
         "type": "float"
        },
        {
         "name": "penalties",
         "rawType": "float64",
         "type": "float"
        },
        {
         "name": "I_F_penalityMinutes",
         "rawType": "float64",
         "type": "float"
        },
        {
         "name": "I_F_faceOffsWon",
         "rawType": "float64",
         "type": "float"
        },
        {
         "name": "I_F_hits",
         "rawType": "float64",
         "type": "float"
        },
        {
         "name": "I_F_takeaways",
         "rawType": "float64",
         "type": "float"
        },
        {
         "name": "I_F_giveaways",
         "rawType": "float64",
         "type": "float"
        },
        {
         "name": "I_F_lowDangerShots",
         "rawType": "float64",
         "type": "float"
        },
        {
         "name": "I_F_mediumDangerShots",
         "rawType": "float64",
         "type": "float"
        },
        {
         "name": "I_F_highDangerShots",
         "rawType": "float64",
         "type": "float"
        },
        {
         "name": "I_F_lowDangerxGoals",
         "rawType": "float64",
         "type": "float"
        },
        {
         "name": "I_F_mediumDangerxGoals",
         "rawType": "float64",
         "type": "float"
        },
        {
         "name": "I_F_highDangerxGoals",
         "rawType": "float64",
         "type": "float"
        },
        {
         "name": "I_F_lowDangerGoals",
         "rawType": "float64",
         "type": "float"
        },
        {
         "name": "I_F_mediumDangerGoals",
         "rawType": "float64",
         "type": "float"
        },
        {
         "name": "I_F_highDangerGoals",
         "rawType": "float64",
         "type": "float"
        },
        {
         "name": "I_F_scoreAdjustedShotsAttempts",
         "rawType": "float64",
         "type": "float"
        },
        {
         "name": "I_F_unblockedShotAttempts",
         "rawType": "float64",
         "type": "float"
        },
        {
         "name": "I_F_scoreAdjustedUnblockedShotAttempts",
         "rawType": "float64",
         "type": "float"
        },
        {
         "name": "I_F_dZoneGiveaways",
         "rawType": "float64",
         "type": "float"
        },
        {
         "name": "I_F_xGoalsFromxReboundsOfShots",
         "rawType": "float64",
         "type": "float"
        },
        {
         "name": "I_F_xGoalsFromActualReboundsOfShots",
         "rawType": "float64",
         "type": "float"
        },
        {
         "name": "I_F_reboundxGoals",
         "rawType": "float64",
         "type": "float"
        },
        {
         "name": "I_F_xGoals_with_earned_rebounds",
         "rawType": "float64",
         "type": "float"
        },
        {
         "name": "I_F_xGoals_with_earned_rebounds_scoreAdjusted",
         "rawType": "float64",
         "type": "float"
        },
        {
         "name": "I_F_xGoals_with_earned_rebounds_scoreFlurryAdjusted",
         "rawType": "float64",
         "type": "float"
        },
        {
         "name": "I_F_shifts",
         "rawType": "float64",
         "type": "float"
        },
        {
         "name": "I_F_oZoneShiftStarts",
         "rawType": "float64",
         "type": "float"
        },
        {
         "name": "I_F_dZoneShiftStarts",
         "rawType": "float64",
         "type": "float"
        },
        {
         "name": "I_F_neutralZoneShiftStarts",
         "rawType": "float64",
         "type": "float"
        },
        {
         "name": "I_F_flyShiftStarts",
         "rawType": "float64",
         "type": "float"
        },
        {
         "name": "I_F_oZoneShiftEnds",
         "rawType": "float64",
         "type": "float"
        },
        {
         "name": "I_F_dZoneShiftEnds",
         "rawType": "float64",
         "type": "float"
        },
        {
         "name": "I_F_neutralZoneShiftEnds",
         "rawType": "float64",
         "type": "float"
        },
        {
         "name": "I_F_flyShiftEnds",
         "rawType": "float64",
         "type": "float"
        },
        {
         "name": "faceoffsWon",
         "rawType": "float64",
         "type": "float"
        },
        {
         "name": "faceoffsLost",
         "rawType": "float64",
         "type": "float"
        },
        {
         "name": "timeOnBench",
         "rawType": "float64",
         "type": "float"
        },
        {
         "name": "penalityMinutes",
         "rawType": "float64",
         "type": "float"
        },
        {
         "name": "penalityMinutesDrawn",
         "rawType": "float64",
         "type": "float"
        },
        {
         "name": "penaltiesDrawn",
         "rawType": "float64",
         "type": "float"
        },
        {
         "name": "shotsBlockedByPlayer",
         "rawType": "float64",
         "type": "float"
        },
        {
         "name": "OnIce_F_xOnGoal",
         "rawType": "float64",
         "type": "float"
        },
        {
         "name": "OnIce_F_xGoals",
         "rawType": "float64",
         "type": "float"
        },
        {
         "name": "OnIce_F_flurryAdjustedxGoals",
         "rawType": "float64",
         "type": "float"
        },
        {
         "name": "OnIce_F_scoreVenueAdjustedxGoals",
         "rawType": "float64",
         "type": "float"
        },
        {
         "name": "OnIce_F_flurryScoreVenueAdjustedxGoals",
         "rawType": "float64",
         "type": "float"
        },
        {
         "name": "OnIce_F_shotsOnGoal",
         "rawType": "float64",
         "type": "float"
        },
        {
         "name": "OnIce_F_missedShots",
         "rawType": "float64",
         "type": "float"
        },
        {
         "name": "OnIce_F_blockedShotAttempts",
         "rawType": "float64",
         "type": "float"
        },
        {
         "name": "OnIce_F_shotAttempts",
         "rawType": "float64",
         "type": "float"
        },
        {
         "name": "OnIce_F_goals",
         "rawType": "float64",
         "type": "float"
        },
        {
         "name": "OnIce_F_rebounds",
         "rawType": "float64",
         "type": "float"
        },
        {
         "name": "OnIce_F_reboundGoals",
         "rawType": "float64",
         "type": "float"
        },
        {
         "name": "OnIce_F_lowDangerShots",
         "rawType": "float64",
         "type": "float"
        },
        {
         "name": "OnIce_F_mediumDangerShots",
         "rawType": "float64",
         "type": "float"
        },
        {
         "name": "OnIce_F_highDangerShots",
         "rawType": "float64",
         "type": "float"
        },
        {
         "name": "OnIce_F_lowDangerxGoals",
         "rawType": "float64",
         "type": "float"
        },
        {
         "name": "OnIce_F_mediumDangerxGoals",
         "rawType": "float64",
         "type": "float"
        },
        {
         "name": "OnIce_F_highDangerxGoals",
         "rawType": "float64",
         "type": "float"
        },
        {
         "name": "OnIce_F_lowDangerGoals",
         "rawType": "float64",
         "type": "float"
        },
        {
         "name": "OnIce_F_mediumDangerGoals",
         "rawType": "float64",
         "type": "float"
        },
        {
         "name": "OnIce_F_highDangerGoals",
         "rawType": "float64",
         "type": "float"
        },
        {
         "name": "OnIce_F_scoreAdjustedShotsAttempts",
         "rawType": "float64",
         "type": "float"
        },
        {
         "name": "OnIce_F_unblockedShotAttempts",
         "rawType": "float64",
         "type": "float"
        },
        {
         "name": "OnIce_F_scoreAdjustedUnblockedShotAttempts",
         "rawType": "float64",
         "type": "float"
        },
        {
         "name": "OnIce_F_xGoalsFromxReboundsOfShots",
         "rawType": "float64",
         "type": "float"
        },
        {
         "name": "OnIce_F_xGoalsFromActualReboundsOfShots",
         "rawType": "float64",
         "type": "float"
        },
        {
         "name": "OnIce_F_reboundxGoals",
         "rawType": "float64",
         "type": "float"
        },
        {
         "name": "OnIce_F_xGoals_with_earned_rebounds",
         "rawType": "float64",
         "type": "float"
        },
        {
         "name": "OnIce_F_xGoals_with_earned_rebounds_scoreAdjusted",
         "rawType": "float64",
         "type": "float"
        },
        {
         "name": "OnIce_F_xGoals_with_earned_rebounds_scoreFlurryAdjusted",
         "rawType": "float64",
         "type": "float"
        },
        {
         "name": "OnIce_A_xOnGoal",
         "rawType": "float64",
         "type": "float"
        },
        {
         "name": "OnIce_A_xGoals",
         "rawType": "float64",
         "type": "float"
        },
        {
         "name": "OnIce_A_flurryAdjustedxGoals",
         "rawType": "float64",
         "type": "float"
        },
        {
         "name": "OnIce_A_scoreVenueAdjustedxGoals",
         "rawType": "float64",
         "type": "float"
        },
        {
         "name": "OnIce_A_flurryScoreVenueAdjustedxGoals",
         "rawType": "float64",
         "type": "float"
        },
        {
         "name": "OnIce_A_shotsOnGoal",
         "rawType": "float64",
         "type": "float"
        },
        {
         "name": "OnIce_A_missedShots",
         "rawType": "float64",
         "type": "float"
        },
        {
         "name": "OnIce_A_blockedShotAttempts",
         "rawType": "float64",
         "type": "float"
        },
        {
         "name": "OnIce_A_shotAttempts",
         "rawType": "float64",
         "type": "float"
        },
        {
         "name": "OnIce_A_goals",
         "rawType": "float64",
         "type": "float"
        },
        {
         "name": "OnIce_A_rebounds",
         "rawType": "float64",
         "type": "float"
        },
        {
         "name": "OnIce_A_reboundGoals",
         "rawType": "float64",
         "type": "float"
        },
        {
         "name": "OnIce_A_lowDangerShots",
         "rawType": "float64",
         "type": "float"
        },
        {
         "name": "OnIce_A_mediumDangerShots",
         "rawType": "float64",
         "type": "float"
        },
        {
         "name": "OnIce_A_highDangerShots",
         "rawType": "float64",
         "type": "float"
        },
        {
         "name": "OnIce_A_lowDangerxGoals",
         "rawType": "float64",
         "type": "float"
        },
        {
         "name": "OnIce_A_mediumDangerxGoals",
         "rawType": "float64",
         "type": "float"
        },
        {
         "name": "OnIce_A_highDangerxGoals",
         "rawType": "float64",
         "type": "float"
        },
        {
         "name": "OnIce_A_lowDangerGoals",
         "rawType": "float64",
         "type": "float"
        },
        {
         "name": "OnIce_A_mediumDangerGoals",
         "rawType": "float64",
         "type": "float"
        },
        {
         "name": "OnIce_A_highDangerGoals",
         "rawType": "float64",
         "type": "float"
        },
        {
         "name": "OnIce_A_scoreAdjustedShotsAttempts",
         "rawType": "float64",
         "type": "float"
        },
        {
         "name": "OnIce_A_unblockedShotAttempts",
         "rawType": "float64",
         "type": "float"
        },
        {
         "name": "OnIce_A_scoreAdjustedUnblockedShotAttempts",
         "rawType": "float64",
         "type": "float"
        },
        {
         "name": "OnIce_A_xGoalsFromxReboundsOfShots",
         "rawType": "float64",
         "type": "float"
        },
        {
         "name": "OnIce_A_xGoalsFromActualReboundsOfShots",
         "rawType": "float64",
         "type": "float"
        },
        {
         "name": "OnIce_A_reboundxGoals",
         "rawType": "float64",
         "type": "float"
        },
        {
         "name": "OnIce_A_xGoals_with_earned_rebounds",
         "rawType": "float64",
         "type": "float"
        },
        {
         "name": "OnIce_A_xGoals_with_earned_rebounds_scoreAdjusted",
         "rawType": "float64",
         "type": "float"
        },
        {
         "name": "OnIce_A_xGoals_with_earned_rebounds_scoreFlurryAdjusted",
         "rawType": "float64",
         "type": "float"
        },
        {
         "name": "OffIce_F_xGoals",
         "rawType": "float64",
         "type": "float"
        },
        {
         "name": "OffIce_A_xGoals",
         "rawType": "float64",
         "type": "float"
        },
        {
         "name": "OffIce_F_shotAttempts",
         "rawType": "float64",
         "type": "float"
        },
        {
         "name": "OffIce_A_shotAttempts",
         "rawType": "float64",
         "type": "float"
        },
        {
         "name": "xGoalsForAfterShifts",
         "rawType": "float64",
         "type": "float"
        },
        {
         "name": "xGoalsAgainstAfterShifts",
         "rawType": "float64",
         "type": "float"
        },
        {
         "name": "corsiForAfterShifts",
         "rawType": "float64",
         "type": "float"
        },
        {
         "name": "corsiAgainstAfterShifts",
         "rawType": "float64",
         "type": "float"
        },
        {
         "name": "fenwickForAfterShifts",
         "rawType": "float64",
         "type": "float"
        },
        {
         "name": "fenwickAgainstAfterShifts",
         "rawType": "float64",
         "type": "float"
        }
       ],
       "ref": "6025681e-3d7b-4119-b32e-f3af3bd9a2d1",
       "rows": [
        [
         "0",
         "8479318",
         "2016",
         "Auston Matthews",
         "2016020001",
         "TOR",
         "OTT",
         "AWAY",
         "20161012",
         "C",
         "other",
         "55.0",
         "1.0",
         "4.84",
         "0.7031",
         "0.0",
         "0.3333",
         "0.0",
         "0.5",
         "0.0",
         "1.0",
         "0.0",
         "0.0",
         "0.0",
         "0.0",
         "0.0",
         "0.0",
         "0.0",
         "0.0",
         "0.0",
         "0.0",
         "0.0",
         "0.0",
         "0.0",
         "0.0",
         "0.0",
         "0.0",
         "0.0",
         "0.0",
         "0.0",
         "0.0",
         "0.0",
         "0.0",
         "0.0",
         "0.0",
         "0.0",
         "0.0",
         "0.0",
         "0.0",
         "0.0",
         "0.0",
         "1.0",
         "0.0",
         "0.0",
         "0.0",
         "0.0",
         "0.0",
         "0.0",
         "0.0",
         "0.0",
         "0.0",
         "0.0",
         "0.0",
         "0.0",
         "0.0",
         "0.0",
         "0.0",
         "0.0",
         "0.0",
         "0.0",
         "0.0",
         "0.0",
         "1.0",
         "0.0",
         "0.0",
         "0.0",
         "1.0",
         "0.0",
         "0.0",
         "0.0",
         "1.0",
         "0.0",
         "1.0",
         "65.0",
         "0.0",
         "0.0",
         "0.0",
         "0.0",
         "0.737",
         "0.09",
         "0.09",
         "0.09",
         "0.09",
         "0.0",
         "1.0",
         "0.0",
         "1.0",
         "0.0",
         "0.0",
         "0.0",
         "0.0",
         "1.0",
         "0.0",
         "0.0",
         "0.09",
         "0.0",
         "0.0",
         "0.0",
         "0.0",
         "1.0",
         "1.0",
         "1.0",
         "0.011",
         "0.0",
         "0.0",
         "0.101",
         "0.101",
         "0.101",
         "0.689",
         "0.038",
         "0.038",
         "0.038",
         "0.038",
         "1.0",
         "0.0",
         "1.0",
         "2.0",
         "1.0",
         "0.0",
         "0.0",
         "1.0",
         "0.0",
         "0.0",
         "0.038",
         "0.0",
         "0.0",
         "1.0",
         "0.0",
         "0.0",
         "2.0",
         "1.0",
         "1.0",
         "0.008",
         "0.0",
         "0.0",
         "0.046",
         "0.046",
         "0.046",
         "0.0",
         "0.176",
         "0.0",
         "4.0",
         "0.0",
         "0.0",
         "0.0",
         "0.0",
         "0.0",
         "0.0"
        ],
        [
         "1",
         "8479318",
         "2016",
         "Auston Matthews",
         "2016020001",
         "TOR",
         "OTT",
         "AWAY",
         "20161012",
         "C",
         "all",
         "1057.0",
         "25.0",
         "4.84",
         "0.7957",
         "0.3728",
         "0.725",
         "0.5652",
         "0.7667",
         "0.4853",
         "1.0",
         "4.558",
         "0.516",
         "0.385",
         "0.945",
         "0.145",
         "2.228",
         "1.78",
         "0.503",
         "0.564",
         "0.55",
         "0.0",
         "0.0",
         "6.0",
         "0.0",
         "1.0",
         "7.0",
         "4.0",
         "4.0",
         "0.0",
         "1.0",
         "0.0",
         "0.0",
         "1.0",
         "1.0",
         "2.0",
         "2.0",
         "0.0",
         "0.0",
         "6.0",
         "0.0",
         "2.0",
         "0.0",
         "4.0",
         "1.0",
         "1.0",
         "0.12",
         "0.191",
         "0.205",
         "2.0",
         "1.0",
         "1.0",
         "7.476",
         "6.0",
         "6.432",
         "0.0",
         "0.082",
         "0.0",
         "0.191",
         "0.407",
         "0.443",
         "0.44",
         "25.0",
         "9.0",
         "4.0",
         "2.0",
         "10.0",
         "4.0",
         "1.0",
         "6.0",
         "14.0",
         "6.0",
         "7.0",
         "2580.0",
         "0.0",
         "0.0",
         "0.0",
         "0.0",
         "16.567",
         "1.118",
         "1.09",
         "1.202",
         "1.172",
         "16.0",
         "7.0",
         "6.0",
         "29.0",
         "4.0",
         "2.0",
         "1.0",
         "18.0",
         "4.0",
         "1.0",
         "0.36",
         "0.553",
         "0.205",
         "2.0",
         "1.0",
         "1.0",
         "30.691",
         "23.0",
         "24.318",
         "0.248",
         "0.221",
         "0.221",
         "1.145",
         "1.222",
         "1.2",
         "4.689",
         "0.287",
         "0.285",
         "0.279",
         "0.277",
         "4.0",
         "3.0",
         "4.0",
         "11.0",
         "1.0",
         "0.0",
         "0.0",
         "6.0",
         "1.0",
         "0.0",
         "0.2",
         "0.087",
         "0.0",
         "1.0",
         "0.0",
         "0.0",
         "10.705",
         "7.0",
         "6.801",
         "0.067",
         "0.0",
         "0.0",
         "0.353",
         "0.343",
         "0.341",
         "1.082",
         "1.82",
         "52.0",
         "40.0",
         "0.0",
         "0.0",
         "0.0",
         "0.0",
         "0.0",
         "0.0"
        ],
        [
         "2",
         "8479318",
         "2016",
         "Auston Matthews",
         "2016020001",
         "TOR",
         "OTT",
         "AWAY",
         "20161012",
         "C",
         "5on5",
         "781.0",
         "20.0",
         "4.84",
         "0.8608",
         "0.4493",
         "0.75",
         "0.6111",
         "0.7826",
         "0.5094",
         "3.0",
         "3.852",
         "0.511",
         "0.327",
         "0.775",
         "0.121",
         "1.915",
         "1.351",
         "0.498",
         "0.559",
         "0.545",
         "0.0",
         "0.0",
         "5.0",
         "0.0",
         "1.0",
         "6.0",
         "4.0",
         "4.0",
         "0.0",
         "1.0",
         "0.0",
         "0.0",
         "1.0",
         "0.0",
         "1.0",
         "1.0",
         "0.0",
         "0.0",
         "4.0",
         "0.0",
         "1.0",
         "0.0",
         "3.0",
         "1.0",
         "1.0",
         "0.115",
         "0.191",
         "0.205",
         "2.0",
         "1.0",
         "1.0",
         "6.476",
         "5.0",
         "5.432",
         "0.0",
         "0.07",
         "0.0",
         "0.191",
         "0.39",
         "0.426",
         "0.423",
         "20.0",
         "6.0",
         "4.0",
         "2.0",
         "8.0",
         "4.0",
         "1.0",
         "6.0",
         "9.0",
         "4.0",
         "6.0",
         "2016.0",
         "0.0",
         "0.0",
         "0.0",
         "0.0",
         "13.067",
         "1.002",
         "0.976",
         "1.086",
         "1.057",
         "13.0",
         "5.0",
         "6.0",
         "24.0",
         "4.0",
         "2.0",
         "1.0",
         "14.0",
         "3.0",
         "1.0",
         "0.334",
         "0.463",
         "0.205",
         "2.0",
         "1.0",
         "1.0",
         "25.691",
         "18.0",
         "19.318",
         "0.185",
         "0.221",
         "0.221",
         "0.966",
         "1.043",
         "1.024",
         "3.262",
         "0.162",
         "0.16",
         "0.154",
         "0.152",
         "2.0",
         "3.0",
         "3.0",
         "8.0",
         "0.0",
         "0.0",
         "0.0",
         "5.0",
         "0.0",
         "0.0",
         "0.162",
         "0.0",
         "0.0",
         "0.0",
         "0.0",
         "0.0",
         "7.705",
         "5.0",
         "4.801",
         "0.048",
         "0.0",
         "0.0",
         "0.21",
         "0.199",
         "0.197",
         "1.033",
         "1.266",
         "44.0",
         "28.0",
         "0.0",
         "0.0",
         "0.0",
         "0.0",
         "0.0",
         "0.0"
        ],
        [
         "3",
         "8479318",
         "2016",
         "Auston Matthews",
         "2016020001",
         "TOR",
         "OTT",
         "AWAY",
         "20161012",
         "C",
         "4on5",
         "0.0",
         "0.0",
         "0.0",
         "0.0",
         "0.0",
         "0.0",
         "0.0",
         "0.0",
         "0.0",
         "0.0",
         "0.0",
         "0.0",
         "0.0",
         "0.0",
         "0.0",
         "0.0",
         "0.0",
         "0.0",
         "0.0",
         "0.0",
         "0.0",
         "0.0",
         "0.0",
         "0.0",
         "0.0",
         "0.0",
         "0.0",
         "0.0",
         "0.0",
         "0.0",
         "0.0",
         "0.0",
         "0.0",
         "0.0",
         "0.0",
         "0.0",
         "0.0",
         "0.0",
         "0.0",
         "0.0",
         "0.0",
         "0.0",
         "0.0",
         "0.0",
         "0.0",
         "0.0",
         "0.0",
         "0.0",
         "0.0",
         "0.0",
         "0.0",
         "0.0",
         "0.0",
         "0.0",
         "0.0",
         "0.0",
         "0.0",
         "0.0",
         "0.0",
         "0.0",
         "0.0",
         "0.0",
         "0.0",
         "0.0",
         "0.0",
         "0.0",
         "0.0",
         "0.0",
         "0.0",
         "0.0",
         "0.0",
         "0.0",
         "0.0",
         "0.0",
         "0.0",
         "0.0",
         "0.0",
         "0.0",
         "0.0",
         "0.0",
         "0.0",
         "0.0",
         "0.0",
         "0.0",
         "0.0",
         "0.0",
         "0.0",
         "0.0",
         "0.0",
         "0.0",
         "0.0",
         "0.0",
         "0.0",
         "0.0",
         "0.0",
         "0.0",
         "0.0",
         "0.0",
         "0.0",
         "0.0",
         "0.0",
         "0.0",
         "0.0",
         "0.0",
         "0.0",
         "0.0",
         "0.0",
         "0.0",
         "0.0",
         "0.0",
         "0.0",
         "0.0",
         "0.0",
         "0.0",
         "0.0",
         "0.0",
         "0.0",
         "0.0",
         "0.0",
         "0.0",
         "0.0",
         "0.0",
         "0.0",
         "0.0",
         "0.0",
         "0.0",
         "0.0",
         "0.0",
         "0.0",
         "0.0",
         "0.0",
         "0.0",
         "0.0",
         "0.0",
         "0.0",
         "0.0",
         "0.0",
         "0.0",
         "0.0",
         "0.0",
         "0.0",
         "0.0",
         "0.0",
         "0.0",
         "0.0",
         "0.0",
         "0.0"
        ],
        [
         "4",
         "8479318",
         "2016",
         "Auston Matthews",
         "2016020001",
         "TOR",
         "OTT",
         "AWAY",
         "20161012",
         "C",
         "5on4",
         "221.0",
         "4.0",
         "4.84",
         "0.2232",
         "1.0",
         "0.8",
         "0.8889",
         "0.8",
         "1.0",
         "5.0",
         "0.706",
         "0.005",
         "0.059",
         "0.171",
         "0.024",
         "0.312",
         "0.429",
         "0.005",
         "0.005",
         "0.005",
         "0.0",
         "0.0",
         "1.0",
         "0.0",
         "0.0",
         "1.0",
         "0.0",
         "0.0",
         "0.0",
         "0.0",
         "0.0",
         "0.0",
         "0.0",
         "1.0",
         "1.0",
         "1.0",
         "0.0",
         "0.0",
         "2.0",
         "0.0",
         "0.0",
         "0.0",
         "1.0",
         "0.0",
         "0.0",
         "0.005",
         "0.0",
         "0.0",
         "0.0",
         "0.0",
         "0.0",
         "1.0",
         "1.0",
         "1.0",
         "0.0",
         "0.012",
         "0.0",
         "0.0",
         "0.017",
         "0.017",
         "0.017",
         "4.0",
         "3.0",
         "0.0",
         "0.0",
         "1.0",
         "0.0",
         "0.0",
         "0.0",
         "4.0",
         "2.0",
         "0.0",
         "259.0",
         "0.0",
         "0.0",
         "0.0",
         "0.0",
         "2.763",
         "0.025",
         "0.024",
         "0.025",
         "0.024",
         "3.0",
         "1.0",
         "0.0",
         "4.0",
         "0.0",
         "0.0",
         "0.0",
         "4.0",
         "0.0",
         "0.0",
         "0.025",
         "0.0",
         "0.0",
         "0.0",
         "0.0",
         "0.0",
         "4.0",
         "4.0",
         "4.0",
         "0.053",
         "0.0",
         "0.0",
         "0.078",
         "0.078",
         "0.075",
         "0.739",
         "0.087",
         "0.087",
         "0.087",
         "0.087",
         "1.0",
         "0.0",
         "0.0",
         "1.0",
         "0.0",
         "0.0",
         "0.0",
         "0.0",
         "1.0",
         "0.0",
         "0.0",
         "0.087",
         "0.0",
         "0.0",
         "0.0",
         "0.0",
         "1.0",
         "1.0",
         "1.0",
         "0.011",
         "0.0",
         "0.0",
         "0.098",
         "0.098",
         "0.098",
         "0.049",
         "0.0",
         "8.0",
         "1.0",
         "0.0",
         "0.0",
         "0.0",
         "0.0",
         "0.0",
         "0.0"
        ]
       ],
       "shape": {
        "columns": 157,
        "rows": 5
       }
      },
      "text/html": [
       "<div>\n",
       "<style scoped>\n",
       "    .dataframe tbody tr th:only-of-type {\n",
       "        vertical-align: middle;\n",
       "    }\n",
       "\n",
       "    .dataframe tbody tr th {\n",
       "        vertical-align: top;\n",
       "    }\n",
       "\n",
       "    .dataframe thead th {\n",
       "        text-align: right;\n",
       "    }\n",
       "</style>\n",
       "<table border=\"1\" class=\"dataframe\">\n",
       "  <thead>\n",
       "    <tr style=\"text-align: right;\">\n",
       "      <th></th>\n",
       "      <th>playerId</th>\n",
       "      <th>season</th>\n",
       "      <th>name</th>\n",
       "      <th>gameId</th>\n",
       "      <th>playerTeam</th>\n",
       "      <th>opposingTeam</th>\n",
       "      <th>home_or_away</th>\n",
       "      <th>gameDate</th>\n",
       "      <th>position</th>\n",
       "      <th>situation</th>\n",
       "      <th>...</th>\n",
       "      <th>OffIce_F_xGoals</th>\n",
       "      <th>OffIce_A_xGoals</th>\n",
       "      <th>OffIce_F_shotAttempts</th>\n",
       "      <th>OffIce_A_shotAttempts</th>\n",
       "      <th>xGoalsForAfterShifts</th>\n",
       "      <th>xGoalsAgainstAfterShifts</th>\n",
       "      <th>corsiForAfterShifts</th>\n",
       "      <th>corsiAgainstAfterShifts</th>\n",
       "      <th>fenwickForAfterShifts</th>\n",
       "      <th>fenwickAgainstAfterShifts</th>\n",
       "    </tr>\n",
       "  </thead>\n",
       "  <tbody>\n",
       "    <tr>\n",
       "      <th>0</th>\n",
       "      <td>8479318</td>\n",
       "      <td>2016</td>\n",
       "      <td>Auston Matthews</td>\n",
       "      <td>2016020001</td>\n",
       "      <td>TOR</td>\n",
       "      <td>OTT</td>\n",
       "      <td>AWAY</td>\n",
       "      <td>20161012</td>\n",
       "      <td>C</td>\n",
       "      <td>other</td>\n",
       "      <td>...</td>\n",
       "      <td>0.000</td>\n",
       "      <td>0.176</td>\n",
       "      <td>0.0</td>\n",
       "      <td>4.0</td>\n",
       "      <td>0.0</td>\n",
       "      <td>0.0</td>\n",
       "      <td>0.0</td>\n",
       "      <td>0.0</td>\n",
       "      <td>0.0</td>\n",
       "      <td>0.0</td>\n",
       "    </tr>\n",
       "    <tr>\n",
       "      <th>1</th>\n",
       "      <td>8479318</td>\n",
       "      <td>2016</td>\n",
       "      <td>Auston Matthews</td>\n",
       "      <td>2016020001</td>\n",
       "      <td>TOR</td>\n",
       "      <td>OTT</td>\n",
       "      <td>AWAY</td>\n",
       "      <td>20161012</td>\n",
       "      <td>C</td>\n",
       "      <td>all</td>\n",
       "      <td>...</td>\n",
       "      <td>1.082</td>\n",
       "      <td>1.820</td>\n",
       "      <td>52.0</td>\n",
       "      <td>40.0</td>\n",
       "      <td>0.0</td>\n",
       "      <td>0.0</td>\n",
       "      <td>0.0</td>\n",
       "      <td>0.0</td>\n",
       "      <td>0.0</td>\n",
       "      <td>0.0</td>\n",
       "    </tr>\n",
       "    <tr>\n",
       "      <th>2</th>\n",
       "      <td>8479318</td>\n",
       "      <td>2016</td>\n",
       "      <td>Auston Matthews</td>\n",
       "      <td>2016020001</td>\n",
       "      <td>TOR</td>\n",
       "      <td>OTT</td>\n",
       "      <td>AWAY</td>\n",
       "      <td>20161012</td>\n",
       "      <td>C</td>\n",
       "      <td>5on5</td>\n",
       "      <td>...</td>\n",
       "      <td>1.033</td>\n",
       "      <td>1.266</td>\n",
       "      <td>44.0</td>\n",
       "      <td>28.0</td>\n",
       "      <td>0.0</td>\n",
       "      <td>0.0</td>\n",
       "      <td>0.0</td>\n",
       "      <td>0.0</td>\n",
       "      <td>0.0</td>\n",
       "      <td>0.0</td>\n",
       "    </tr>\n",
       "    <tr>\n",
       "      <th>3</th>\n",
       "      <td>8479318</td>\n",
       "      <td>2016</td>\n",
       "      <td>Auston Matthews</td>\n",
       "      <td>2016020001</td>\n",
       "      <td>TOR</td>\n",
       "      <td>OTT</td>\n",
       "      <td>AWAY</td>\n",
       "      <td>20161012</td>\n",
       "      <td>C</td>\n",
       "      <td>4on5</td>\n",
       "      <td>...</td>\n",
       "      <td>0.000</td>\n",
       "      <td>0.000</td>\n",
       "      <td>0.0</td>\n",
       "      <td>0.0</td>\n",
       "      <td>0.0</td>\n",
       "      <td>0.0</td>\n",
       "      <td>0.0</td>\n",
       "      <td>0.0</td>\n",
       "      <td>0.0</td>\n",
       "      <td>0.0</td>\n",
       "    </tr>\n",
       "    <tr>\n",
       "      <th>4</th>\n",
       "      <td>8479318</td>\n",
       "      <td>2016</td>\n",
       "      <td>Auston Matthews</td>\n",
       "      <td>2016020001</td>\n",
       "      <td>TOR</td>\n",
       "      <td>OTT</td>\n",
       "      <td>AWAY</td>\n",
       "      <td>20161012</td>\n",
       "      <td>C</td>\n",
       "      <td>5on4</td>\n",
       "      <td>...</td>\n",
       "      <td>0.049</td>\n",
       "      <td>0.000</td>\n",
       "      <td>8.0</td>\n",
       "      <td>1.0</td>\n",
       "      <td>0.0</td>\n",
       "      <td>0.0</td>\n",
       "      <td>0.0</td>\n",
       "      <td>0.0</td>\n",
       "      <td>0.0</td>\n",
       "      <td>0.0</td>\n",
       "    </tr>\n",
       "  </tbody>\n",
       "</table>\n",
       "<p>5 rows × 157 columns</p>\n",
       "</div>"
      ],
      "text/plain": [
       "   playerId  season             name      gameId playerTeam opposingTeam  \\\n",
       "0   8479318    2016  Auston Matthews  2016020001        TOR          OTT   \n",
       "1   8479318    2016  Auston Matthews  2016020001        TOR          OTT   \n",
       "2   8479318    2016  Auston Matthews  2016020001        TOR          OTT   \n",
       "3   8479318    2016  Auston Matthews  2016020001        TOR          OTT   \n",
       "4   8479318    2016  Auston Matthews  2016020001        TOR          OTT   \n",
       "\n",
       "  home_or_away  gameDate position situation  ...  OffIce_F_xGoals  \\\n",
       "0         AWAY  20161012        C     other  ...            0.000   \n",
       "1         AWAY  20161012        C       all  ...            1.082   \n",
       "2         AWAY  20161012        C      5on5  ...            1.033   \n",
       "3         AWAY  20161012        C      4on5  ...            0.000   \n",
       "4         AWAY  20161012        C      5on4  ...            0.049   \n",
       "\n",
       "   OffIce_A_xGoals  OffIce_F_shotAttempts  OffIce_A_shotAttempts  \\\n",
       "0            0.176                    0.0                    4.0   \n",
       "1            1.820                   52.0                   40.0   \n",
       "2            1.266                   44.0                   28.0   \n",
       "3            0.000                    0.0                    0.0   \n",
       "4            0.000                    8.0                    1.0   \n",
       "\n",
       "   xGoalsForAfterShifts  xGoalsAgainstAfterShifts  corsiForAfterShifts  \\\n",
       "0                   0.0                       0.0                  0.0   \n",
       "1                   0.0                       0.0                  0.0   \n",
       "2                   0.0                       0.0                  0.0   \n",
       "3                   0.0                       0.0                  0.0   \n",
       "4                   0.0                       0.0                  0.0   \n",
       "\n",
       "   corsiAgainstAfterShifts  fenwickForAfterShifts  fenwickAgainstAfterShifts  \n",
       "0                      0.0                    0.0                        0.0  \n",
       "1                      0.0                    0.0                        0.0  \n",
       "2                      0.0                    0.0                        0.0  \n",
       "3                      0.0                    0.0                        0.0  \n",
       "4                      0.0                    0.0                        0.0  \n",
       "\n",
       "[5 rows x 157 columns]"
      ]
     },
     "execution_count": 14,
     "metadata": {},
     "output_type": "execute_result"
    }
   ],
   "source": [
    "matthews_df = os.path.join(project_path, \"data\", \"raw\", \"matthews_auston.csv\")\n",
    "df = pd.read_csv(matthews_df)\n",
    "df.head(5)"
   ]
  },
  {
   "cell_type": "code",
   "execution_count": 15,
   "metadata": {},
   "outputs": [
    {
     "name": "stdout",
     "output_type": "stream",
     "text": [
      "<class 'pandas.core.frame.DataFrame'>\n",
      "RangeIndex: 3145 entries, 0 to 3144\n",
      "Columns: 157 entries, playerId to fenwickAgainstAfterShifts\n",
      "dtypes: float64(147), int64(4), object(6)\n",
      "memory usage: 3.8+ MB\n"
     ]
    }
   ],
   "source": [
    "df.info()"
   ]
  },
  {
   "cell_type": "code",
   "execution_count": 16,
   "metadata": {},
   "outputs": [
    {
     "name": "stdout",
     "output_type": "stream",
     "text": [
      "Number of samples: 3145\n",
      "Number of features: 157\n"
     ]
    }
   ],
   "source": [
    "print(f\"Number of samples: {df.shape[0]}\")\n",
    "print(f\"Number of features: {df.shape[1]}\")"
   ]
  },
  {
   "cell_type": "markdown",
   "id": "0725ad68",
   "metadata": {},
   "source": [
    "### Missing values"
   ]
  },
  {
   "cell_type": "code",
   "execution_count": 17,
   "metadata": {},
   "outputs": [
    {
     "name": "stdout",
     "output_type": "stream",
     "text": [
      "No missing values found.\n"
     ]
    }
   ],
   "source": [
    "if df.isna().any().any():\n",
    "    nan_counts = df.isna().sum()\n",
    "    nan_counts = nan_counts[nan_counts > 0]\n",
    "    print(\"Missing values detected:\\n\")\n",
    "    print(nan_counts)\n",
    "else:\n",
    "    print(\"No missing values found.\")"
   ]
  },
  {
   "cell_type": "markdown",
   "id": "6bf0e6dd",
   "metadata": {},
   "source": [
    "## Univariate analysis"
   ]
  },
  {
   "cell_type": "code",
   "execution_count": 25,
   "id": "fe14e38d",
   "metadata": {},
   "outputs": [],
   "source": [
    "df = df[df[\"situation\"]==\"all\"]\n",
    "feature = \"gameScore\""
   ]
  },
  {
   "cell_type": "markdown",
   "id": "79e17a42",
   "metadata": {},
   "source": [
    "### Statistics"
   ]
  },
  {
   "cell_type": "code",
   "execution_count": null,
   "id": "2dc2c4b2",
   "metadata": {},
   "outputs": [
    {
     "name": "stdout",
     "output_type": "stream",
     "text": [
      "Mean: 1.353\n",
      "Variance: 1.008\n",
      "Standard deviation: 1.003\n",
      "Skewness: 0.473\n",
      "Kurtosis: 2.998\n"
     ]
    }
   ],
   "source": [
    "from scipy.stats import skew, kurtosis\n",
    "\n",
    "print(f\"Mean: {df[feature].mean():.3f}\")\n",
    "print(f\"Variance: {df[feature].var():.3f}\")\n",
    "print(f\"Standard deviation: {df[feature].std(ddof=0):.3f}\")\n",
    "print(f\"Skewness: {skew(df[feature]):.3f}\")\n",
    "print(f\"Kurtosis: {kurtosis(df[feature])+3:.3f}\")"
   ]
  },
  {
   "cell_type": "markdown",
   "id": "95c04e0c",
   "metadata": {},
   "source": [
    "### Grouped Frequency Table"
   ]
  },
  {
   "cell_type": "code",
   "execution_count": 31,
   "id": "48837b58",
   "metadata": {},
   "outputs": [
    {
     "data": {
      "image/png": "[encoded data removed]",
      "text/plain": [
       "<Figure size 900x600 with 1 Axes>"
      ]
     },
     "metadata": {},
     "output_type": "display_data"
    }
   ],
   "source": [
    "import numpy as np\n",
    "import matplotlib.pyplot as plt\n",
    "\n",
    "bins = np.histogram_bin_edges(df[feature], bins=\"sqrt\")\n",
    "frequencies, edges = np.histogram(df[feature], bins=bins)\n",
    "    \n",
    "labels = [f\"{edges[i]:.2f}-{edges[i+1]:.2f}\" for i in range(len(edges)-1)]\n",
    "    \n",
    "plt.figure(figsize=(12,8))\n",
    "plt.bar(labels, frequencies, width=0.6)\n",
    "plt.xticks(rotation=45)\n",
    "plt.xlabel(\"Intervals\")\n",
    "plt.ylabel(\"Frequency\")\n",
    "plt.title(f\"Grouped Frequency Table\")\n",
    "plt.tight_layout()\n",
    "plt.grid(axis='y')\n",
    "plt.show()"
   ]
  },
  {
   "cell_type": "markdown",
   "id": "2f2bfd4d",
   "metadata": {},
   "source": [
    "### Cumulative Distribution Function"
   ]
  },
  {
   "cell_type": "code",
   "execution_count": 35,
   "id": "97ec9cce",
   "metadata": {},
   "outputs": [
    {
     "data": {
      "image/png": "[encoded data removed]",
      "text/plain": [
       "<Figure size 900x600 with 1 Axes>"
      ]
     },
     "metadata": {},
     "output_type": "display_data"
    }
   ],
   "source": [
    "from empiricaldist import Cdf\n",
    "\n",
    "cdf = Cdf.from_seq(df[feature])\n",
    "\n",
    "plt.figure(figsize=(12,8))\n",
    "cdf.step()\n",
    "plt.title(\"Cumulative Distribution Function\")\n",
    "plt.grid()\n",
    "plt.xlabel(\"Frequency\")\n",
    "plt.ylabel(\"CDF\")\n",
    "plt.show()"
   ]
  },
  {
   "cell_type": "code",
   "execution_count": 36,
   "id": "7f3df740",
   "metadata": {},
   "outputs": [
    {
     "name": "stdout",
     "output_type": "stream",
     "text": [
      "Median: 1.220\n",
      "Interquartile range: 1.360\n",
      "Quartile skewness: 0.140\n"
     ]
    }
   ],
   "source": [
    "from utils.thinkstats import median, iqr, quartile_skewness\n",
    "\n",
    "print(f\"Median: {median(cdf):.3f}\")\n",
    "print(f\"Interquartile range: {iqr(cdf):.3f}\")\n",
    "print(f\"Quartile skewness: {quartile_skewness(cdf):.3f}\")"
   ]
  },
  {
   "cell_type": "code",
   "execution_count": null,
   "id": "3b611f6d",
   "metadata": {},
   "outputs": [],
   "source": []
  },
  {
   "cell_type": "code",
   "execution_count": null,
   "metadata": {},
   "outputs": [],
   "source": []
  },
  {
   "cell_type": "code",
   "execution_count": null,
   "metadata": {},
   "outputs": [],
   "source": []
  },
  {
   "cell_type": "code",
   "execution_count": null,
   "metadata": {},
   "outputs": [],
   "source": []
  }
 ],
 "metadata": {
  "kernelspec": {
   "display_name": "Python(venv)",
   "language": "python",
   "name": "venv"
  },
  "language_info": {
   "codemirror_mode": {
    "name": "ipython",
    "version": 3
   },
   "file_extension": ".py",
   "mimetype": "text/x-python",
   "name": "python",
   "nbconvert_exporter": "python",
   "pygments_lexer": "ipython3",
   "version": "3.13.5"
  }
 },
 "nbformat": 4,
 "nbformat_minor": 5
}

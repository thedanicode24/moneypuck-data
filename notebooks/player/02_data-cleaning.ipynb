{
 "cells": [
  {
   "cell_type": "markdown",
   "id": "55ff4dda",
   "metadata": {},
   "source": [
    "## Data cleaning"
   ]
  },
  {
   "cell_type": "markdown",
   "id": "a0eb0155",
   "metadata": {},
   "source": [
    "### Import libraries"
   ]
  },
  {
   "cell_type": "code",
   "execution_count": 7,
   "id": "6a80b22d",
   "metadata": {},
   "outputs": [],
   "source": [
    "import os\n",
    "import sys\n",
    "import pandas as pd"
   ]
  },
  {
   "cell_type": "markdown",
   "id": "7774cd31",
   "metadata": {},
   "source": [
    "### Import dataset"
   ]
  },
  {
   "cell_type": "code",
   "execution_count": 8,
   "id": "d33b502b",
   "metadata": {},
   "outputs": [],
   "source": [
    "project_path = os.path.abspath(os.path.join(os.getcwd(), \"..\", \"..\"))\n",
    "if project_path not in sys.path:\n",
    "    sys.path.append(project_path)"
   ]
  },
  {
   "cell_type": "code",
   "execution_count": null,
   "id": "55dc1e4e",
   "metadata": {},
   "outputs": [],
   "source": [
    "matthews_df = os.path.join(project_path, \"data\", \"raw\", \"matthews_auston.csv\")\n",
    "df = pd.read_csv(matthews_df)"
   ]
  },
  {
   "cell_type": "markdown",
   "id": "7d5d83dd",
   "metadata": {},
   "source": [
    "### Pivot table"
   ]
  },
  {
   "cell_type": "code",
   "execution_count": 9,
   "id": "8215db13",
   "metadata": {},
   "outputs": [],
   "source": [
    "from utils.data_cleaning import pivot_df\n",
    "\n",
    "index = [\"playerId\", \"season\", \"name\", \"gameId\", \"playerTeam\", \"opposingTeam\", \"home_or_away\", \"gameDate\", \"position\"]\n",
    "pivot = \"situation\"\n",
    "df = pivot_df(df, index, pivot)\n",
    "df = df.drop([\"gameScore_other\", \"gameScore_5on4\", \"gameScore_4on5\", \"gameScore_5on5\"],axis=1)\n",
    "df = df.rename(columns={\"gameScore_all\": \"gameScore\"})"
   ]
  },
  {
   "cell_type": "markdown",
   "id": "d33f0f22",
   "metadata": {},
   "source": [
    "### Drop duplicate columns"
   ]
  },
  {
   "cell_type": "code",
   "execution_count": 10,
   "id": "e83f6f7e",
   "metadata": {},
   "outputs": [
    {
     "name": "stdout",
     "output_type": "stream",
     "text": [
      "Removed duplicate columns: ['I_F_flurryScoreVenueAdjustedxGoals_4on5', 'I_F_flurryScoreVenueAdjustedxGoals_5on4', 'I_F_flurryScoreVenueAdjustedxGoals_other', 'I_F_giveaways_4on5', 'I_F_highDangerGoals_4on5', 'I_F_lowDangerGoals_4on5', 'I_F_mediumDangerGoals_4on5', 'I_F_penalityMinutes_other', 'I_F_playStopped_4on5', 'I_F_reboundGoals_4on5', 'I_F_reboundxGoals_4on5', 'I_F_secondaryAssists_4on5', 'I_F_shotAttempts_4on5', 'I_F_shotAttempts_5on4', 'I_F_shotAttempts_other', 'I_F_unblockedShotAttempts_4on5', 'I_F_unblockedShotAttempts_5on4', 'I_F_unblockedShotAttempts_other', 'I_F_xGoals_4on5', 'I_F_xGoals_5on4', 'I_F_xGoals_other', 'I_F_xGoals_with_earned_rebounds_scoreAdjusted_4on5', 'I_F_xGoals_with_earned_rebounds_scoreAdjusted_5on4', 'I_F_xGoals_with_earned_rebounds_scoreAdjusted_other', 'OnIce_A_flurryScoreVenueAdjustedxGoals_4on5', 'OnIce_A_flurryScoreVenueAdjustedxGoals_5on4', 'OnIce_A_flurryScoreVenueAdjustedxGoals_other', 'OnIce_A_shotAttempts_4on5', 'OnIce_A_shotAttempts_5on4', 'OnIce_A_shotAttempts_other', 'OnIce_A_unblockedShotAttempts_4on5', 'OnIce_A_unblockedShotAttempts_5on4', 'OnIce_A_unblockedShotAttempts_other', 'OnIce_A_xGoals_4on5', 'OnIce_A_xGoals_5on4', 'OnIce_A_xGoals_other', 'OnIce_A_xGoalsFromActualReboundsOfShots_5on4', 'OnIce_A_xGoals_with_earned_rebounds_scoreAdjusted_4on5', 'OnIce_A_xGoals_with_earned_rebounds_scoreAdjusted_5on4', 'OnIce_A_xGoals_with_earned_rebounds_scoreAdjusted_other', 'OnIce_F_blockedShotAttempts_4on5', 'OnIce_F_flurryScoreVenueAdjustedxGoals_4on5', 'OnIce_F_flurryScoreVenueAdjustedxGoals_5on4', 'OnIce_F_flurryScoreVenueAdjustedxGoals_other', 'OnIce_F_goals_4on5', 'OnIce_F_highDangerGoals_4on5', 'OnIce_F_lowDangerGoals_4on5', 'OnIce_F_mediumDangerGoals_4on5', 'OnIce_F_reboundGoals_4on5', 'OnIce_F_shotAttempts_4on5', 'OnIce_F_shotAttempts_5on4', 'OnIce_F_shotAttempts_other', 'OnIce_F_unblockedShotAttempts_4on5', 'OnIce_F_unblockedShotAttempts_5on4', 'OnIce_F_unblockedShotAttempts_other', 'OnIce_F_xGoals_4on5', 'OnIce_F_xGoals_5on4', 'OnIce_F_xGoals_other', 'OnIce_F_xGoalsFromActualReboundsOfShots_4on5', 'OnIce_F_xGoals_with_earned_rebounds_scoreAdjusted_4on5', 'OnIce_F_xGoals_with_earned_rebounds_scoreAdjusted_5on4', 'OnIce_F_xGoals_with_earned_rebounds_scoreAdjusted_other', 'corsiAgainstAfterShifts_all', 'corsiForAfterShifts_all', 'faceoffsWon_4on5', 'faceoffsWon_5on4', 'faceoffsWon_5on5', 'faceoffsWon_all', 'faceoffsWon_other', 'fenwickAgainstAfterShifts_4on5', 'fenwickAgainstAfterShifts_all', 'fenwickForAfterShifts_4on5', 'fenwickForAfterShifts_all', 'penalityMinutes_4on5', 'penalityMinutes_5on4', 'penalityMinutes_5on5', 'penalityMinutes_all', 'penalityMinutes_other', 'penalties_other', 'shifts_4on5', 'shifts_5on4', 'shifts_5on5', 'shifts_all', 'shifts_other', 'xGoalsAgainstAfterShifts_all', 'xGoalsForAfterShifts_all']\n",
      "Number of features: 654\n"
     ]
    }
   ],
   "source": [
    "duplicate_cols = df.columns[df.T.duplicated()]\n",
    "    \n",
    "if len(duplicate_cols) > 0:\n",
    "    df = df.loc[:, ~df.T.duplicated()]\n",
    "    print(\"Removed duplicate columns:\", list(duplicate_cols))\n",
    "else:\n",
    "    print(\"No duplicate columns found.\")\n",
    "    \n",
    "print(f\"Number of features: {df.shape[1]}\")"
   ]
  },
  {
   "cell_type": "markdown",
   "id": "b634fcc3",
   "metadata": {},
   "source": [
    "### Save cleaned data"
   ]
  },
  {
   "cell_type": "code",
   "execution_count": 11,
   "id": "58311063",
   "metadata": {},
   "outputs": [],
   "source": [
    "output_path = os.path.join(project_path, \"data\", \"processed\", \"matthews_auston_processed.csv\")\n",
    "df.to_csv(output_path, index=False)"
   ]
  },
  {
   "cell_type": "code",
   "execution_count": null,
   "id": "2b4d64ed",
   "metadata": {},
   "outputs": [],
   "source": []
  }
 ],
 "metadata": {
  "kernelspec": {
   "display_name": "Python(venv)",
   "language": "python",
   "name": "venv"
  },
  "language_info": {
   "codemirror_mode": {
    "name": "ipython",
    "version": 3
   },
   "file_extension": ".py",
   "mimetype": "text/x-python",
   "name": "python",
   "nbconvert_exporter": "python",
   "pygments_lexer": "ipython3",
   "version": "3.13.5"
  }
 },
 "nbformat": 4,
 "nbformat_minor": 5
}

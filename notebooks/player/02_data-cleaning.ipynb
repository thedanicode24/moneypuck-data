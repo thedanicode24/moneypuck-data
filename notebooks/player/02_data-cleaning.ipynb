{
 "cells": [
  {
   "cell_type": "markdown",
   "id": "55ff4dda",
   "metadata": {},
   "source": [
    "## Data cleaning"
   ]
  },
  {
   "cell_type": "markdown",
   "id": "a0eb0155",
   "metadata": {},
   "source": [
    "### Import libraries"
   ]
  },
  {
   "cell_type": "code",
   "execution_count": 1,
   "id": "6a80b22d",
   "metadata": {},
   "outputs": [],
   "source": [
    "import os\n",
    "import sys\n",
    "import pandas as pd"
   ]
  },
  {
   "cell_type": "markdown",
   "id": "7774cd31",
   "metadata": {},
   "source": [
    "### Import dataset"
   ]
  },
  {
   "cell_type": "code",
   "execution_count": 3,
   "id": "d33b502b",
   "metadata": {},
   "outputs": [],
   "source": [
    "project_root = os.path.abspath(os.path.join(os.getcwd(), \"..\", \"..\"))\n",
    "matthews_df = os.path.join(project_root, \"data\", \"raw\", \"matthews_auston.csv\")\n",
    "df = pd.read_csv(matthews_df)"
   ]
  },
  {
   "cell_type": "markdown",
   "id": "7d5d83dd",
   "metadata": {},
   "source": [
    "### Pivot table"
   ]
  },
  {
   "cell_type": "code",
   "execution_count": null,
   "id": "8215db13",
   "metadata": {},
   "outputs": [],
   "source": [
    "from utils.data_cleaning import pivot_df\n",
    "\n",
    "index = [\"playerId\", \"season\", \"name\", \"gameId\", \"playerTeam\", \"opposingTeam\", \"home_or_away\", \"gameDate\", \"position\"]\n",
    "pivot = \"situation\"\n",
    "df = pivot_df(df, index, pivot)\n",
    "df = df.drop([\"gameScore_other\", \"gameScore_5on4\", \"gameScore_4on5\", \"gameScore_5on5\"],axis=1)\n",
    "df = df.rename(columns={\"gameScore_all\": \"gameScore\"})"
   ]
  },
  {
   "cell_type": "markdown",
   "id": "d33f0f22",
   "metadata": {},
   "source": [
    "### Drop duplicate columns"
   ]
  },
  {
   "cell_type": "code",
   "execution_count": null,
   "id": "e83f6f7e",
   "metadata": {},
   "outputs": [],
   "source": [
    "duplicate_cols = df.columns[df.T.duplicated()]\n",
    "    \n",
    "if len(duplicate_cols) > 0:\n",
    "    print(\"Removed duplicate columns:\", list(duplicate_cols))\n",
    "else:\n",
    "    print(\"No duplicate columns found.\")\n",
    "    \n",
    "df = df.loc[:, ~df.T.duplicated()]\n",
    "print(f\"Number of features: {df.shape[1]}\")"
   ]
  },
  {
   "cell_type": "markdown",
   "id": "b634fcc3",
   "metadata": {},
   "source": [
    "### Save cleaned data"
   ]
  },
  {
   "cell_type": "code",
   "execution_count": null,
   "id": "58311063",
   "metadata": {},
   "outputs": [],
   "source": [
    "output_path = os.path.join(project_root, \"data\", \"processed\", \"matthews_auston_processed.csv\")\n",
    "df.to_csv(output_path, index=False)"
   ]
  }
 ],
 "metadata": {
  "kernelspec": {
   "display_name": "Python(venv)",
   "language": "python",
   "name": "venv"
  },
  "language_info": {
   "codemirror_mode": {
    "name": "ipython",
    "version": 3
   },
   "file_extension": ".py",
   "mimetype": "text/x-python",
   "name": "python",
   "nbconvert_exporter": "python",
   "pygments_lexer": "ipython3",
   "version": "3.13.5"
  }
 },
 "nbformat": 4,
 "nbformat_minor": 5
}

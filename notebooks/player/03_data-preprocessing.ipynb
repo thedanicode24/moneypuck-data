{
 "cells": [
  {
   "cell_type": "code",
   "execution_count": null,
   "id": "4de68925",
   "metadata": {},
   "outputs": [],
   "source": [
    "df = df.drop([\"name\",\"playerId\", \"gameId\", \"playerTeam\", \"position\", \"season\"], axis=1)\n",
    "data_cleaning.print_df_size(df)"
   ]
  },
  {
   "cell_type": "markdown",
   "id": "568651a9",
   "metadata": {},
   "source": [
    "### One hot encoding"
   ]
  },
  {
   "cell_type": "code",
   "execution_count": null,
   "metadata": {},
   "outputs": [],
   "source": [
    "categorical_cols = [\"opposingTeam\", \"home_or_away\"]\n",
    "df = preprocessing.one_hot_encoding(df, categorical_cols)"
   ]
  },
  {
   "cell_type": "markdown",
   "id": "531c6b33",
   "metadata": {},
   "source": [
    "### Save final dataset"
   ]
  },
  {
   "cell_type": "code",
   "execution_count": null,
   "metadata": {},
   "outputs": [],
   "source": [
    "output_path = os.path.join(project_root, \"data\", \"final\", \"matthews_auston_final.csv\")\n",
    "df.to_csv(output_path, index=False)"
   ]
  },
  {
   "cell_type": "code",
   "execution_count": null,
   "id": "540400a4",
   "metadata": {},
   "outputs": [],
   "source": []
  },
  {
   "cell_type": "code",
   "execution_count": null,
   "metadata": {},
   "outputs": [],
   "source": []
  }
 ],
 "metadata": {
  "language_info": {
   "name": "python"
  }
 },
 "nbformat": 4,
 "nbformat_minor": 5
}
